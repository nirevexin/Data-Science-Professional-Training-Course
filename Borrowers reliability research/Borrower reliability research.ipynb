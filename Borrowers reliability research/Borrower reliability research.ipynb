{
 "cells": [
  {
   "cell_type": "markdown",
   "id": "64f5bdda",
   "metadata": {},
   "source": [
    "# Borrower reliability research"
   ]
  },
  {
   "cell_type": "markdown",
   "id": "134f1917",
   "metadata": {},
   "source": [
    "## Getting data"
   ]
  },
  {
   "cell_type": "code",
   "execution_count": 1,
   "id": "110aa289",
   "metadata": {},
   "outputs": [],
   "source": [
    "import pandas as pd\n",
    "import os\n",
    "import sweetviz as sv\n",
    "import seaborn as sns\n",
    "from matplotlib import pyplot as plt\n",
    "import warnings\n",
    "warnings.simplefilter('ignore')\n",
    "\n",
    "path1 = r'C:\\Users\\exeve\\Downloads\\data.csv'\n",
    "path2 = '/datasets/data.csv'\n",
    "\n",
    "try:\n",
    "    if os.path.exists(path1):\n",
    "        data = pd.read_csv(path1)\n",
    "    elif os.path.exists(path2):\n",
    "        data = pd.read_csv(path2)\n",
    "except:\n",
    "    print('Something went wrong')"
   ]
  },
  {
   "cell_type": "markdown",
   "id": "678cc4d3",
   "metadata": {},
   "source": [
    "## Data overview"
   ]
  },
  {
   "cell_type": "code",
   "execution_count": 2,
   "id": "c711cd9e",
   "metadata": {},
   "outputs": [
    {
     "data": {
      "application/vnd.jupyter.widget-view+json": {
       "model_id": "3d2f61cb69bf47d9aa46337571b2250b",
       "version_major": 2,
       "version_minor": 0
      },
      "text/plain": [
       "                                             |                                             | [  0%]   00:00 ->…"
      ]
     },
     "metadata": {},
     "output_type": "display_data"
    },
    {
     "name": "stdout",
     "output_type": "stream",
     "text": [
      "Report SWEETVIZ_REPORT.html was generated! NOTEBOOK/COLAB USERS: the web browser MAY not pop up, regardless, the report IS saved in your notebook/colab files.\n"
     ]
    }
   ],
   "source": [
    "report = sv.analyze(data)\n",
    "report.show_html()"
   ]
  },
  {
   "cell_type": "markdown",
   "id": "53e46700",
   "metadata": {},
   "source": [
    "## Preprocessing"
   ]
  },
  {
   "cell_type": "markdown",
   "id": "c272c7e1",
   "metadata": {},
   "source": [
    "### Missing values"
   ]
  },
  {
   "cell_type": "markdown",
   "id": "2a47ec50",
   "metadata": {},
   "source": [
    "- Two features have missing values. One of them is `days_employed`. The other one, `total_income`, which stores income data. The amount of income is most influenced by the type of employment, so we need to fill in the gaps in this column with the median value for each type from the `income_type` column:"
   ]
  },
  {
   "cell_type": "code",
   "execution_count": 3,
   "id": "ee725acf",
   "metadata": {},
   "outputs": [],
   "source": [
    "for t in data['income_type'].unique():\n",
    "    data.loc[(data['income_type'] == t) & (data['total_income'].isna()), 'total_income'] = \\\n",
    "    data.loc[(data['income_type'] == t), 'total_income'].median()\n"
   ]
  },
  {
   "cell_type": "markdown",
   "id": "2df65a3b",
   "metadata": {},
   "source": [
    "- The `days_employed` column contains negative values, which can be considered anomalous, since days cannot be negative. We will replace all negative values with positive values converting them into absolute values. Then we will fill the gaps in with the median value of the employment days corresponding to each income type:"
   ]
  },
  {
   "cell_type": "code",
   "execution_count": 4,
   "id": "77b4c605",
   "metadata": {},
   "outputs": [],
   "source": [
    "data['days_employed'] = data['days_employed'].abs()\n",
    "\n",
    "for t in data['income_type'].unique():\n",
    "    data.loc[(data['income_type'] == t) & (data['days_employed'].isna()), 'days_employed'] = \\\n",
    "    data.loc[(data['income_type'] == t), 'days_employed'].median()"
   ]
  },
  {
   "cell_type": "code",
   "execution_count": 5,
   "id": "cf07fa5a",
   "metadata": {},
   "outputs": [
    {
     "data": {
      "text/plain": [
       "children            0\n",
       "days_employed       0\n",
       "dob_years           0\n",
       "education           0\n",
       "education_id        0\n",
       "family_status       0\n",
       "family_status_id    0\n",
       "gender              0\n",
       "income_type         0\n",
       "debt                0\n",
       "total_income        0\n",
       "purpose             0\n",
       "dtype: int64"
      ]
     },
     "execution_count": 5,
     "metadata": {},
     "output_type": "execute_result"
    }
   ],
   "source": [
    "data.isna().sum()"
   ]
  },
  {
   "cell_type": "markdown",
   "id": "34237f74",
   "metadata": {},
   "source": [
    "### Duplicates"
   ]
  },
  {
   "cell_type": "code",
   "execution_count": 6,
   "id": "45aaad75",
   "metadata": {},
   "outputs": [
    {
     "data": {
      "text/plain": [
       "54"
      ]
     },
     "execution_count": 6,
     "metadata": {},
     "output_type": "execute_result"
    }
   ],
   "source": [
    "data.duplicated().sum()"
   ]
  },
  {
   "cell_type": "markdown",
   "id": "5dfcbdd1",
   "metadata": {},
   "source": [
    "- Dropping the 54 duplicates:"
   ]
  },
  {
   "cell_type": "code",
   "execution_count": 7,
   "id": "db83b7dc",
   "metadata": {},
   "outputs": [],
   "source": [
    "data = data.drop_duplicates()"
   ]
  },
  {
   "cell_type": "markdown",
   "id": "13b6aa70",
   "metadata": {},
   "source": [
    "- The `education` column contains repeated values, but written differently, using uppercase and lowercase letters. We will convert them into lowercase to unify the categories:"
   ]
  },
  {
   "cell_type": "code",
   "execution_count": 8,
   "id": "08cbdf3a",
   "metadata": {},
   "outputs": [],
   "source": [
    "data['education'] = data['education'].str.lower()"
   ]
  },
  {
   "cell_type": "markdown",
   "id": "dc2d2817",
   "metadata": {},
   "source": [
    "### Data types"
   ]
  },
  {
   "cell_type": "markdown",
   "id": "d33c398a",
   "metadata": {},
   "source": [
    "Cents are negligible in our case, so we will convert the income into integer values:"
   ]
  },
  {
   "cell_type": "code",
   "execution_count": 9,
   "id": "a3e5a63c",
   "metadata": {},
   "outputs": [],
   "source": [
    "data['total_income'] = data['total_income'].astype(int)"
   ]
  },
  {
   "cell_type": "markdown",
   "id": "76b60204",
   "metadata": {},
   "source": [
    "### Anomalies"
   ]
  },
  {
   "cell_type": "markdown",
   "id": "ff0818f1",
   "metadata": {},
   "source": [
    "#### Translating income_type categories into english"
   ]
  },
  {
   "cell_type": "code",
   "execution_count": 10,
   "id": "32893505",
   "metadata": {},
   "outputs": [
    {
     "data": {
      "text/plain": [
       "array(['employee', 'pensioner', 'activity partner', 'civil servant',\n",
       "       'unemployed', 'entrepreneur', 'student', 'on maternity leave'],\n",
       "      dtype=object)"
      ]
     },
     "execution_count": 10,
     "metadata": {},
     "output_type": "execute_result"
    }
   ],
   "source": [
    "data['income_type'] = data['income_type'].str.replace('безработный', 'unemployed', regex=True)\n",
    "data['income_type'] = data['income_type'].str.replace('в декрете', 'on maternity leave', regex=True)\n",
    "data['income_type'] = data['income_type'].str.replace('госслужащий', 'civil servant', regex=True)\n",
    "data['income_type'] = data['income_type'].str.replace('компаньон', 'activity partner', regex=True)\n",
    "data['income_type'] = data['income_type'].str.replace('предприниматель', 'entrepreneur', regex=True)\n",
    "data['income_type'] = data['income_type'].str.replace('сотрудник', 'employee', regex=True)\n",
    "data['income_type'] = data['income_type'].str.replace('студент', 'student', regex=True)\n",
    "data['income_type'] = data['income_type'].str.replace('пенсионер', 'pensioner', regex=True)\n",
    "\n",
    "data['income_type'].unique()"
   ]
  },
  {
   "cell_type": "markdown",
   "id": "9765a1d8",
   "metadata": {},
   "source": [
    "- The `days_employed` feature contains some abnormal values in the range from 300k to 400k days employed. Let's have a look at the median value of work experience `days_employed` in days for each type of employment:"
   ]
  },
  {
   "cell_type": "code",
   "execution_count": 11,
   "id": "d2f7e421",
   "metadata": {},
   "outputs": [
    {
     "data": {
      "text/plain": [
       "income_type\n",
       "activity partner        1547.382223\n",
       "civil servant           2689.368353\n",
       "employee                1574.202821\n",
       "entrepreneur             520.848083\n",
       "on maternity leave      3296.759962\n",
       "pensioner             365213.306266\n",
       "student                  578.751554\n",
       "unemployed            366413.652744\n",
       "Name: days_employed, dtype: float64"
      ]
     },
     "execution_count": 11,
     "metadata": {},
     "output_type": "execute_result"
    }
   ],
   "source": [
    "income_days = data.groupby('income_type')['days_employed'].agg('median')\n",
    "income_days"
   ]
  },
  {
   "cell_type": "markdown",
   "id": "07b1ccdf",
   "metadata": {},
   "source": [
    "We can see that pensioners and the unemployed have some outlying values. Let's see how much that is in years to better understand how great the discrepancy is:"
   ]
  },
  {
   "cell_type": "code",
   "execution_count": 12,
   "id": "99889ca0",
   "metadata": {},
   "outputs": [
    {
     "data": {
      "text/plain": [
       "0     23.116912\n",
       "1     11.026860\n",
       "2     15.406637\n",
       "3     11.300677\n",
       "4    932.235814\n",
       "Name: years_employed, dtype: float64"
      ]
     },
     "metadata": {},
     "output_type": "display_data"
    }
   ],
   "source": [
    "data_test = data\n",
    "data_test['years_employed'] = data['days_employed'] / 365\n",
    "display(data_test['years_employed'].head())\n",
    "income_years = data_test.groupby('income_type')['years_employed'].agg('median')"
   ]
  },
  {
   "cell_type": "code",
   "execution_count": 13,
   "id": "21059a41",
   "metadata": {},
   "outputs": [
    {
     "data": {
      "image/png": "[encoded data removed]",
      "text/plain": [
       "<Figure size 1200x600 with 1 Axes>"
      ]
     },
     "metadata": {},
     "output_type": "display_data"
    }
   ],
   "source": [
    "plt.figure(figsize=(12,6))\n",
    "plt.title('Years of employment depending on the income type', y = 1.05)\n",
    "income_years.plot()\n",
    "plt.ylabel('Years Employed', labelpad=10)\n",
    "plt.xlabel('Income Type', labelpad=10)\n",
    "plt.xticks(size=10)\n",
    "plt.yticks(size=10)\n",
    "plt.show()"
   ]
  },
  {
   "cell_type": "markdown",
   "id": "1b47ecd6",
   "metadata": {},
   "source": [
    "A thousand years of work. That does not seem too realistic. Let's check the pensioners and the unemployed separately."
   ]
  },
  {
   "cell_type": "markdown",
   "id": "96313fb1",
   "metadata": {},
   "source": [
    "#### Studying anomalous values for pensioners employment days"
   ]
  },
  {
   "cell_type": "code",
   "execution_count": 14,
   "id": "f759f9fd",
   "metadata": {},
   "outputs": [
    {
     "data": {
      "text/html": [
       "<div>\n",
       "<style scoped>\n",
       "    .dataframe tbody tr th:only-of-type {\n",
       "        vertical-align: middle;\n",
       "    }\n",
       "\n",
       "    .dataframe tbody tr th {\n",
       "        vertical-align: top;\n",
       "    }\n",
       "\n",
       "    .dataframe thead th {\n",
       "        text-align: right;\n",
       "    }\n",
       "</style>\n",
       "<table border=\"1\" class=\"dataframe\">\n",
       "  <thead>\n",
       "    <tr style=\"text-align: right;\">\n",
       "      <th></th>\n",
       "      <th>years_employed</th>\n",
       "    </tr>\n",
       "  </thead>\n",
       "  <tbody>\n",
       "    <tr>\n",
       "      <th>count</th>\n",
       "      <td>3837.000000</td>\n",
       "    </tr>\n",
       "    <tr>\n",
       "      <th>mean</th>\n",
       "      <td>1000.068592</td>\n",
       "    </tr>\n",
       "    <tr>\n",
       "      <th>std</th>\n",
       "      <td>54.680427</td>\n",
       "    </tr>\n",
       "    <tr>\n",
       "      <th>min</th>\n",
       "      <td>900.626632</td>\n",
       "    </tr>\n",
       "    <tr>\n",
       "      <th>25%</th>\n",
       "      <td>955.369841</td>\n",
       "    </tr>\n",
       "    <tr>\n",
       "      <th>50%</th>\n",
       "      <td>1000.584401</td>\n",
       "    </tr>\n",
       "    <tr>\n",
       "      <th>75%</th>\n",
       "      <td>1043.421345</td>\n",
       "    </tr>\n",
       "    <tr>\n",
       "      <th>max</th>\n",
       "      <td>1100.699727</td>\n",
       "    </tr>\n",
       "  </tbody>\n",
       "</table>\n",
       "</div>"
      ],
      "text/plain": [
       "       years_employed\n",
       "count     3837.000000\n",
       "mean      1000.068592\n",
       "std         54.680427\n",
       "min        900.626632\n",
       "25%        955.369841\n",
       "50%       1000.584401\n",
       "75%       1043.421345\n",
       "max       1100.699727"
      ]
     },
     "execution_count": 14,
     "metadata": {},
     "output_type": "execute_result"
    }
   ],
   "source": [
    "pensioners_employed = pd.DataFrame(data_test.loc[data_test['income_type'] == 'pensioner', 'years_employed'], \n",
    "                                columns = ['years_employed'])\n",
    "pensioners_employed.describe()\n"
   ]
  },
  {
   "cell_type": "code",
   "execution_count": 15,
   "id": "50ca3252",
   "metadata": {},
   "outputs": [
    {
     "data": {
      "image/png": "[encoded data removed]",
      "text/plain": [
       "<Figure size 1200x600 with 1 Axes>"
      ]
     },
     "metadata": {},
     "output_type": "display_data"
    }
   ],
   "source": [
    "plt.figure(figsize=(12,6))\n",
    "plt.title('Years of employment of pensioners', y = 1.05)\n",
    "sns.boxplot(pensioners_employed, x = 'years_employed')\n",
    "plt.xlabel('Years Employed', labelpad=10)\n",
    "plt.show()"
   ]
  },
  {
   "cell_type": "markdown",
   "id": "876f9323",
   "metadata": {},
   "source": [
    "#### Studying anomalous values for the unemployed employment days"
   ]
  },
  {
   "cell_type": "code",
   "execution_count": 16,
   "id": "977c1ebe",
   "metadata": {},
   "outputs": [
    {
     "data": {
      "text/html": [
       "<div>\n",
       "<style scoped>\n",
       "    .dataframe tbody tr th:only-of-type {\n",
       "        vertical-align: middle;\n",
       "    }\n",
       "\n",
       "    .dataframe tbody tr th {\n",
       "        vertical-align: top;\n",
       "    }\n",
       "\n",
       "    .dataframe thead th {\n",
       "        text-align: right;\n",
       "    }\n",
       "</style>\n",
       "<table border=\"1\" class=\"dataframe\">\n",
       "  <thead>\n",
       "    <tr style=\"text-align: right;\">\n",
       "      <th></th>\n",
       "      <th>years_employed</th>\n",
       "    </tr>\n",
       "  </thead>\n",
       "  <tbody>\n",
       "    <tr>\n",
       "      <th>count</th>\n",
       "      <td>2.000000</td>\n",
       "    </tr>\n",
       "    <tr>\n",
       "      <th>mean</th>\n",
       "      <td>1003.873021</td>\n",
       "    </tr>\n",
       "    <tr>\n",
       "      <th>std</th>\n",
       "      <td>111.932818</td>\n",
       "    </tr>\n",
       "    <tr>\n",
       "      <th>min</th>\n",
       "      <td>924.724567</td>\n",
       "    </tr>\n",
       "    <tr>\n",
       "      <th>25%</th>\n",
       "      <td>964.298794</td>\n",
       "    </tr>\n",
       "    <tr>\n",
       "      <th>50%</th>\n",
       "      <td>1003.873021</td>\n",
       "    </tr>\n",
       "    <tr>\n",
       "      <th>75%</th>\n",
       "      <td>1043.447248</td>\n",
       "    </tr>\n",
       "    <tr>\n",
       "      <th>max</th>\n",
       "      <td>1083.021476</td>\n",
       "    </tr>\n",
       "  </tbody>\n",
       "</table>\n",
       "</div>"
      ],
      "text/plain": [
       "       years_employed\n",
       "count        2.000000\n",
       "mean      1003.873021\n",
       "std        111.932818\n",
       "min        924.724567\n",
       "25%        964.298794\n",
       "50%       1003.873021\n",
       "75%       1043.447248\n",
       "max       1083.021476"
      ]
     },
     "execution_count": 16,
     "metadata": {},
     "output_type": "execute_result"
    }
   ],
   "source": [
    "unemployed_employed = pd.DataFrame(data_test.loc[data_test['income_type'] == 'unemployed', 'years_employed'], \n",
    "                                columns = ['years_employed'])\n",
    "unemployed_employed.describe()"
   ]
  },
  {
   "cell_type": "code",
   "execution_count": 17,
   "id": "3369530c",
   "metadata": {},
   "outputs": [
    {
     "data": {
      "image/png": "[encoded data removed]",
      "text/plain": [
       "<Figure size 1200x600 with 1 Axes>"
      ]
     },
     "metadata": {},
     "output_type": "display_data"
    }
   ],
   "source": [
    "plt.figure(figsize=(12,6))\n",
    "plt.title('Years of employment of the unemployed', y = 1.05)\n",
    "sns.boxplot(unemployed_employed, x = 'years_employed')\n",
    "plt.xlabel('Years Employed', labelpad=10)\n",
    "plt.show()"
   ]
  },
  {
   "cell_type": "markdown",
   "id": "29b11410",
   "metadata": {},
   "source": [
    "Both categories (pensioners and unemployed) lack normal values and mostly have extreme values. It is probably due to an error when filling in the data or when joining the data tables. These are also the two categories that banks usually refuse to give credit due to lack of guarantee of repayment due to age and lack of income. In any case, days worked is not a factor that is relevant for our analysis."
   ]
  },
  {
   "cell_type": "markdown",
   "id": "340bec0d",
   "metadata": {},
   "source": [
    "### The 'children' feature contains some unreasonable values"
   ]
  },
  {
   "cell_type": "code",
   "execution_count": 18,
   "id": "b02f1f7b",
   "metadata": {},
   "outputs": [
    {
     "data": {
      "text/plain": [
       "array([ 1,  0,  3,  2, -1,  4, 20,  5], dtype=int64)"
      ]
     },
     "execution_count": 18,
     "metadata": {},
     "output_type": "execute_result"
    }
   ],
   "source": [
    "data['children'].unique()"
   ]
  },
  {
   "cell_type": "code",
   "execution_count": 19,
   "id": "1b1ad6ba",
   "metadata": {},
   "outputs": [
    {
     "data": {
      "image/png": "[encoded data removed]",
      "text/plain": [
       "<Figure size 1200x600 with 1 Axes>"
      ]
     },
     "metadata": {},
     "output_type": "display_data"
    }
   ],
   "source": [
    "plt.figure(figsize=(12,6))\n",
    "plt.title('Distribution of the amount of children')\n",
    "sns.boxplot(data=data, x = 'children')\n",
    "plt.show()"
   ]
  },
  {
   "cell_type": "markdown",
   "id": "66d16a24",
   "metadata": {},
   "source": [
    "- The amount of children cannot be negative. Also, 20 children is cleary an outlier, so we're removing it too. "
   ]
  },
  {
   "cell_type": "code",
   "execution_count": 20,
   "id": "fd4dfe01",
   "metadata": {},
   "outputs": [
    {
     "data": {
      "text/plain": [
       "array([1, 0, 3, 2, 4, 5], dtype=int64)"
      ]
     },
     "execution_count": 20,
     "metadata": {},
     "output_type": "execute_result"
    }
   ],
   "source": [
    "data = data[(data['children'] != -1) & (data['children'] != 20)]\n",
    "data['children'].unique()"
   ]
  },
  {
   "cell_type": "markdown",
   "id": "762226f0",
   "metadata": {},
   "source": [
    "## Data categorization"
   ]
  },
  {
   "cell_type": "markdown",
   "id": "142ca051",
   "metadata": {},
   "source": [
    "### Income categorization"
   ]
  },
  {
   "cell_type": "markdown",
   "id": "743c468c",
   "metadata": {},
   "source": [
    "**Let's split the type of income into categories for convenience. We'll store the category in the `total_income_category` column.**\n",
    "\n",
    "These will be the categories depending on the income range:\n",
    "\n",
    "- 0–30000 — `'E'`;\n",
    "- 30001–50000 — `'D'`;\n",
    "- 50001–200000 — `'C'`;\n",
    "- 200001–1000000 — `'B'`;\n",
    "- 1000001 and above — `'A'`."
   ]
  },
  {
   "cell_type": "code",
   "execution_count": 21,
   "id": "86de560f",
   "metadata": {},
   "outputs": [],
   "source": [
    "def categorize_income(income):\n",
    "    try:\n",
    "        if 0 <= income <= 30000:\n",
    "            return 'E'\n",
    "        elif 30001 <= income <= 50000:\n",
    "            return 'D'\n",
    "        elif 50001 <= income <= 200000:\n",
    "            return 'C'\n",
    "        elif 200001 <= income <= 1000000:\n",
    "            return 'B'\n",
    "        elif income >= 1000001:\n",
    "            return 'A'\n",
    "    except:\n",
    "        pass"
   ]
  },
  {
   "cell_type": "code",
   "execution_count": 22,
   "id": "8db8cbca",
   "metadata": {},
   "outputs": [],
   "source": [
    "data['total_income_category'] = data['total_income'].apply(categorize_income)"
   ]
  },
  {
   "cell_type": "markdown",
   "id": "8b218f13",
   "metadata": {},
   "source": [
    "### Purpose categorization"
   ]
  },
  {
   "cell_type": "code",
   "execution_count": 23,
   "id": "dd17581a",
   "metadata": {},
   "outputs": [
    {
     "data": {
      "text/plain": [
       "array(['покупка жилья', 'приобретение автомобиля',\n",
       "       'дополнительное образование', 'сыграть свадьбу',\n",
       "       'операции с жильем', 'образование', 'на проведение свадьбы',\n",
       "       'покупка жилья для семьи', 'покупка недвижимости',\n",
       "       'покупка коммерческой недвижимости', 'покупка жилой недвижимости',\n",
       "       'строительство собственной недвижимости', 'недвижимость',\n",
       "       'строительство недвижимости', 'на покупку подержанного автомобиля',\n",
       "       'на покупку своего автомобиля',\n",
       "       'операции с коммерческой недвижимостью',\n",
       "       'строительство жилой недвижимости', 'жилье',\n",
       "       'операции со своей недвижимостью', 'автомобили',\n",
       "       'заняться образованием', 'сделка с подержанным автомобилем',\n",
       "       'получение образования', 'автомобиль', 'свадьба',\n",
       "       'получение дополнительного образования', 'покупка своего жилья',\n",
       "       'операции с недвижимостью', 'получение высшего образования',\n",
       "       'свой автомобиль', 'сделка с автомобилем',\n",
       "       'профильное образование', 'высшее образование',\n",
       "       'покупка жилья для сдачи', 'на покупку автомобиля', 'ремонт жилью',\n",
       "       'заняться высшим образованием'], dtype=object)"
      ]
     },
     "execution_count": 23,
     "metadata": {},
     "output_type": "execute_result"
    }
   ],
   "source": [
    "data['purpose'].unique()"
   ]
  },
  {
   "cell_type": "markdown",
   "id": "f7ec2bf9",
   "metadata": {},
   "source": [
    "There are too many purpose categories, but we can group them up into a few summarizing categories for convenience. Mostly, the purposes have to do with car operations, real estate operations, weddings or education. So these will be our four main categories."
   ]
  },
  {
   "cell_type": "code",
   "execution_count": 24,
   "id": "0ca7de55",
   "metadata": {},
   "outputs": [],
   "source": [
    "def categorize_purpose(row):\n",
    "    try:\n",
    "        if 'автом' in row:\n",
    "            return 'car operations'\n",
    "        elif 'жил' in row or 'недвиж' in row:\n",
    "            return 'real estate transactions'\n",
    "        elif 'свад' in row:\n",
    "            return 'holding a wedding'\n",
    "        elif 'образов' in row:\n",
    "            return 'getting an education'\n",
    "    except:\n",
    "        return 'no category'"
   ]
  },
  {
   "cell_type": "code",
   "execution_count": 25,
   "id": "ee2a610a",
   "metadata": {},
   "outputs": [],
   "source": [
    "data['purpose_category'] = data['purpose'].apply(categorize_purpose)"
   ]
  },
  {
   "cell_type": "markdown",
   "id": "70b7edad",
   "metadata": {},
   "source": [
    "## Analysis\n",
    "**Let's analyze the different possible factors that might affect the repayment of the loan on time**"
   ]
  },
  {
   "cell_type": "markdown",
   "id": "908e1441",
   "metadata": {},
   "source": [
    "#### A little function to calculate percentages"
   ]
  },
  {
   "cell_type": "code",
   "execution_count": 26,
   "id": "70019e60",
   "metadata": {},
   "outputs": [],
   "source": [
    "def percentage(x): \n",
    "    return '{0:.2%}'.format(x)"
   ]
  },
  {
   "cell_type": "markdown",
   "id": "19a905a7",
   "metadata": {},
   "source": [
    "### Number of children"
   ]
  },
  {
   "cell_type": "code",
   "execution_count": 27,
   "id": "fa6c90d0",
   "metadata": {},
   "outputs": [
    {
     "data": {
      "text/html": [
       "<div>\n",
       "<style scoped>\n",
       "    .dataframe tbody tr th:only-of-type {\n",
       "        vertical-align: middle;\n",
       "    }\n",
       "\n",
       "    .dataframe tbody tr th {\n",
       "        vertical-align: top;\n",
       "    }\n",
       "\n",
       "    .dataframe thead th {\n",
       "        text-align: right;\n",
       "    }\n",
       "</style>\n",
       "<table border=\"1\" class=\"dataframe\">\n",
       "  <thead>\n",
       "    <tr style=\"text-align: right;\">\n",
       "      <th></th>\n",
       "      <th>Debtors</th>\n",
       "      <th>Total</th>\n",
       "      <th>Debtors %</th>\n",
       "    </tr>\n",
       "    <tr>\n",
       "      <th>Children</th>\n",
       "      <th></th>\n",
       "      <th></th>\n",
       "      <th></th>\n",
       "    </tr>\n",
       "  </thead>\n",
       "  <tbody>\n",
       "    <tr>\n",
       "      <th>4</th>\n",
       "      <td>4</td>\n",
       "      <td>41</td>\n",
       "      <td>9.76%</td>\n",
       "    </tr>\n",
       "    <tr>\n",
       "      <th>2</th>\n",
       "      <td>194</td>\n",
       "      <td>2052</td>\n",
       "      <td>9.45%</td>\n",
       "    </tr>\n",
       "    <tr>\n",
       "      <th>1</th>\n",
       "      <td>444</td>\n",
       "      <td>4809</td>\n",
       "      <td>9.23%</td>\n",
       "    </tr>\n",
       "    <tr>\n",
       "      <th>3</th>\n",
       "      <td>27</td>\n",
       "      <td>330</td>\n",
       "      <td>8.18%</td>\n",
       "    </tr>\n",
       "    <tr>\n",
       "      <th>0</th>\n",
       "      <td>1063</td>\n",
       "      <td>14107</td>\n",
       "      <td>7.54%</td>\n",
       "    </tr>\n",
       "    <tr>\n",
       "      <th>5</th>\n",
       "      <td>0</td>\n",
       "      <td>9</td>\n",
       "      <td>0.00%</td>\n",
       "    </tr>\n",
       "  </tbody>\n",
       "</table>\n",
       "</div>"
      ],
      "text/plain": [
       "          Debtors  Total Debtors %\n",
       "Children                          \n",
       "4               4     41     9.76%\n",
       "2             194   2052     9.45%\n",
       "1             444   4809     9.23%\n",
       "3              27    330     8.18%\n",
       "0            1063  14107     7.54%\n",
       "5               0      9     0.00%"
      ]
     },
     "execution_count": 27,
     "metadata": {},
     "output_type": "execute_result"
    }
   ],
   "source": [
    "children_debt_dependency = data.groupby(['children']).agg({'debt' : ['sum', 'count', 'mean']})\n",
    "children_debt_dependency.columns = children_debt_dependency.columns.droplevel(0)\n",
    "children_debt_dependency.columns =  [ 'Debtors', 'Total', 'Debtors %']\n",
    "children_debt_dependency = children_debt_dependency.rename_axis('Children').sort_values(by='Debtors %', ascending=False)\n",
    "children_debt_dependency['Debtors %'] = children_debt_dependency['Debtors %'].apply(percentage)\n",
    "children_debt_dependency"
   ]
  },
  {
   "cell_type": "code",
   "execution_count": 28,
   "id": "25abf1ab",
   "metadata": {},
   "outputs": [
    {
     "data": {
      "image/png": "[encoded data removed]",
      "text/plain": [
       "<Figure size 1200x600 with 1 Axes>"
      ]
     },
     "metadata": {},
     "output_type": "display_data"
    }
   ],
   "source": [
    "children_debt_dependency.plot(kind='bar', stacked=True, figsize=(12,6))\n",
    "plt.title('Debt dependency on number children')\n",
    "plt.xticks(rotation=0)\n",
    "plt.show()"
   ]
  },
  {
   "cell_type": "markdown",
   "id": "f20128f7",
   "metadata": {},
   "source": [
    "**Conclusion:**\n",
    "\n",
    "- People with no children are the best at repaying loans. The share of debtors here is 7.54%.\n",
    "- The situation is worse with debtors who have one or two children, the share of non-repayment is 9.23% and 9.45% here, respectively.\n",
    "- It is not correct to compare the remaining categories, since they have a very small sample.\n",
    "\n",
    "The difference between the average maximum (9.45%) and average minimum (7.54%) values of debtors is 20.21%"
   ]
  },
  {
   "cell_type": "markdown",
   "id": "c0a6098d",
   "metadata": {},
   "source": [
    "### Family status "
   ]
  },
  {
   "cell_type": "markdown",
   "id": "d8eb8782",
   "metadata": {},
   "source": [
    "#### Translating family_status categories into english"
   ]
  },
  {
   "cell_type": "code",
   "execution_count": 29,
   "id": "8628378e",
   "metadata": {},
   "outputs": [
    {
     "data": {
      "text/plain": [
       "array(['married', 'civil marriage', 'widower / widow', 'divorced',\n",
       "       'single'], dtype=object)"
      ]
     },
     "execution_count": 29,
     "metadata": {},
     "output_type": "execute_result"
    }
   ],
   "source": [
    "data['family_status'] = data['family_status'].str.replace('Не женат / не замужем', 'single', regex=True)\n",
    "data['family_status'] = data['family_status'].str.replace('гражданский брак', 'civil marriage', regex=True)\n",
    "data['family_status'] = data['family_status'].str.replace('женат / замужем', 'married', regex=True)\n",
    "data['family_status'] = data['family_status'].str.replace('в разводе', 'divorced', regex=True)\n",
    "data['family_status'] = data['family_status'].str.replace('вдовец / вдова', 'widower / widow', regex=True)\n",
    "\n",
    "\n",
    "\n",
    "data['family_status'].unique()"
   ]
  },
  {
   "cell_type": "markdown",
   "id": "80f5a9fc",
   "metadata": {},
   "source": [
    "#### Study"
   ]
  },
  {
   "cell_type": "code",
   "execution_count": 30,
   "id": "9bc4290b",
   "metadata": {},
   "outputs": [
    {
     "data": {
      "text/html": [
       "<div>\n",
       "<style scoped>\n",
       "    .dataframe tbody tr th:only-of-type {\n",
       "        vertical-align: middle;\n",
       "    }\n",
       "\n",
       "    .dataframe tbody tr th {\n",
       "        vertical-align: top;\n",
       "    }\n",
       "\n",
       "    .dataframe thead th {\n",
       "        text-align: right;\n",
       "    }\n",
       "</style>\n",
       "<table border=\"1\" class=\"dataframe\">\n",
       "  <thead>\n",
       "    <tr style=\"text-align: right;\">\n",
       "      <th></th>\n",
       "      <th>Debtors</th>\n",
       "      <th>Total</th>\n",
       "      <th>Debtors %</th>\n",
       "    </tr>\n",
       "    <tr>\n",
       "      <th>Family Status</th>\n",
       "      <th></th>\n",
       "      <th></th>\n",
       "      <th></th>\n",
       "    </tr>\n",
       "  </thead>\n",
       "  <tbody>\n",
       "    <tr>\n",
       "      <th>single</th>\n",
       "      <td>273</td>\n",
       "      <td>2796</td>\n",
       "      <td>9.76%</td>\n",
       "    </tr>\n",
       "    <tr>\n",
       "      <th>civil marriage</th>\n",
       "      <td>385</td>\n",
       "      <td>4146</td>\n",
       "      <td>9.29%</td>\n",
       "    </tr>\n",
       "    <tr>\n",
       "      <th>married</th>\n",
       "      <td>927</td>\n",
       "      <td>12266</td>\n",
       "      <td>7.56%</td>\n",
       "    </tr>\n",
       "    <tr>\n",
       "      <th>divorced</th>\n",
       "      <td>84</td>\n",
       "      <td>1189</td>\n",
       "      <td>7.06%</td>\n",
       "    </tr>\n",
       "    <tr>\n",
       "      <th>widower / widow</th>\n",
       "      <td>63</td>\n",
       "      <td>951</td>\n",
       "      <td>6.62%</td>\n",
       "    </tr>\n",
       "  </tbody>\n",
       "</table>\n",
       "</div>"
      ],
      "text/plain": [
       "                 Debtors  Total Debtors %\n",
       "Family Status                            \n",
       "single               273   2796     9.76%\n",
       "civil marriage       385   4146     9.29%\n",
       "married              927  12266     7.56%\n",
       "divorced              84   1189     7.06%\n",
       "widower / widow       63    951     6.62%"
      ]
     },
     "execution_count": 30,
     "metadata": {},
     "output_type": "execute_result"
    }
   ],
   "source": [
    "family_status_debt_dependency = data.groupby(['family_status']).agg({'debt':['sum','count','mean']})\n",
    "family_status_debt_dependency.columns = family_status_debt_dependency.columns.droplevel(0)\n",
    "family_status_debt_dependency = family_status_debt_dependency.sort_values(by='mean', ascending=False)\n",
    "family_status_debt_dependency['mean'] = family_status_debt_dependency['mean'].apply(percentage)\n",
    "family_status_debt_dependency = family_status_debt_dependency.rename(columns={'sum':'Debtors','count':'Total', 'mean':'Debtors %'})\n",
    "family_status_debt_dependency = family_status_debt_dependency.rename_axis('Family Status')\n",
    "family_status_debt_dependency"
   ]
  },
  {
   "cell_type": "code",
   "execution_count": 31,
   "id": "2461dea7",
   "metadata": {},
   "outputs": [
    {
     "data": {
      "image/png": "[encoded data removed]",
      "text/plain": [
       "<Figure size 1200x600 with 1 Axes>"
      ]
     },
     "metadata": {},
     "output_type": "display_data"
    }
   ],
   "source": [
    "family_status_debt_dependency.plot(kind='bar', stacked=True, figsize=(12,6))\n",
    "plt.title('Debt dependency on family status')\n",
    "plt.xticks(rotation=0)\n",
    "plt.show()"
   ]
  },
  {
   "cell_type": "markdown",
   "id": "39b6bcd9",
   "metadata": {},
   "source": [
    "**Conclusion:**\n",
    "\n",
    "- People who are married are the best at repaying loans. The share of debtors here is 7.56%.\n",
    "- The situation is worse with debtors who are single or in a civil marriage.\n",
    "  Тhe share of non-return is 9.76% and 9.29% here, respectively.\n",
    "- It is noт correct to compare the remaining categories, since they have a very small sample.\n",
    "\n",
    "  The difference between the average maximum (9.76%) and average minimum (7.56%) values of debtors is 22.54%"
   ]
  },
  {
   "cell_type": "markdown",
   "id": "e7d26617",
   "metadata": {},
   "source": [
    "### Income level"
   ]
  },
  {
   "cell_type": "code",
   "execution_count": 32,
   "id": "57c89b3e",
   "metadata": {},
   "outputs": [
    {
     "data": {
      "text/html": [
       "<div>\n",
       "<style scoped>\n",
       "    .dataframe tbody tr th:only-of-type {\n",
       "        vertical-align: middle;\n",
       "    }\n",
       "\n",
       "    .dataframe tbody tr th {\n",
       "        vertical-align: top;\n",
       "    }\n",
       "\n",
       "    .dataframe thead th {\n",
       "        text-align: right;\n",
       "    }\n",
       "</style>\n",
       "<table border=\"1\" class=\"dataframe\">\n",
       "  <thead>\n",
       "    <tr style=\"text-align: right;\">\n",
       "      <th></th>\n",
       "      <th>Debtors</th>\n",
       "      <th>Total</th>\n",
       "      <th>Debtors %</th>\n",
       "    </tr>\n",
       "    <tr>\n",
       "      <th>Total income category</th>\n",
       "      <th></th>\n",
       "      <th></th>\n",
       "      <th></th>\n",
       "    </tr>\n",
       "  </thead>\n",
       "  <tbody>\n",
       "    <tr>\n",
       "      <th>E</th>\n",
       "      <td>2</td>\n",
       "      <td>22</td>\n",
       "      <td>9.09%</td>\n",
       "    </tr>\n",
       "    <tr>\n",
       "      <th>C</th>\n",
       "      <td>1353</td>\n",
       "      <td>15938</td>\n",
       "      <td>8.49%</td>\n",
       "    </tr>\n",
       "    <tr>\n",
       "      <th>A</th>\n",
       "      <td>2</td>\n",
       "      <td>25</td>\n",
       "      <td>8.00%</td>\n",
       "    </tr>\n",
       "    <tr>\n",
       "      <th>B</th>\n",
       "      <td>354</td>\n",
       "      <td>5014</td>\n",
       "      <td>7.06%</td>\n",
       "    </tr>\n",
       "    <tr>\n",
       "      <th>D</th>\n",
       "      <td>21</td>\n",
       "      <td>349</td>\n",
       "      <td>6.02%</td>\n",
       "    </tr>\n",
       "  </tbody>\n",
       "</table>\n",
       "</div>"
      ],
      "text/plain": [
       "                       Debtors  Total Debtors %\n",
       "Total income category                          \n",
       "E                            2     22     9.09%\n",
       "C                         1353  15938     8.49%\n",
       "A                            2     25     8.00%\n",
       "B                          354   5014     7.06%\n",
       "D                           21    349     6.02%"
      ]
     },
     "execution_count": 32,
     "metadata": {},
     "output_type": "execute_result"
    }
   ],
   "source": [
    "income_debt_dependency = data.groupby(['total_income_category']).agg({'debt':['sum','count','mean']})\n",
    "income_debt_dependency.columns = income_debt_dependency.columns.droplevel(0)\n",
    "income_debt_dependency = income_debt_dependency.sort_values(by='mean', ascending=False)\n",
    "income_debt_dependency['mean'] = income_debt_dependency['mean'].apply(percentage)\n",
    "income_debt_dependency = income_debt_dependency.rename(columns={'sum':'Debtors','count':'Total', 'mean':'Debtors %'})\n",
    "income_debt_dependency = income_debt_dependency.rename_axis('Total income category')\n",
    "income_debt_dependency"
   ]
  },
  {
   "cell_type": "code",
   "execution_count": 33,
   "id": "d7b1badf",
   "metadata": {},
   "outputs": [
    {
     "data": {
      "image/png": "[encoded data removed]",
      "text/plain": [
       "<Figure size 1200x600 with 1 Axes>"
      ]
     },
     "metadata": {},
     "output_type": "display_data"
    }
   ],
   "source": [
    "income_debt_dependency.plot(kind='bar', stacked=True, figsize=(12,6))\n",
    "plt.title('Debt dependency on income category')\n",
    "plt.xticks(rotation=0)\n",
    "plt.show()"
   ]
  },
  {
   "cell_type": "markdown",
   "id": "fd1d4dac",
   "metadata": {},
   "source": [
    "**Conclusion:**\n",
    "                    \n",
    "- People with income category 'B' are the best at repaying loans. The share of debtors here is 7.06%.\n",
    "- The situation is worse with debtors who have income category 'C'. The non-return rate is 8.50% here.\n",
    "- It is not correct to compare the remaining categories, since they have a very small sample.\n",
    "\n",
    "  The difference between the average maximum (8.50%) and average minimum (7.06%) values of debtors is 16.94%"
   ]
  },
  {
   "cell_type": "markdown",
   "id": "911d43c7",
   "metadata": {},
   "source": [
    "### Loan purpose"
   ]
  },
  {
   "cell_type": "code",
   "execution_count": 34,
   "id": "f6a5ef75",
   "metadata": {},
   "outputs": [
    {
     "data": {
      "text/html": [
       "<div>\n",
       "<style scoped>\n",
       "    .dataframe tbody tr th:only-of-type {\n",
       "        vertical-align: middle;\n",
       "    }\n",
       "\n",
       "    .dataframe tbody tr th {\n",
       "        vertical-align: top;\n",
       "    }\n",
       "\n",
       "    .dataframe thead th {\n",
       "        text-align: right;\n",
       "    }\n",
       "</style>\n",
       "<table border=\"1\" class=\"dataframe\">\n",
       "  <thead>\n",
       "    <tr style=\"text-align: right;\">\n",
       "      <th></th>\n",
       "      <th>Debtors</th>\n",
       "      <th>Total</th>\n",
       "      <th>Debtors %</th>\n",
       "    </tr>\n",
       "    <tr>\n",
       "      <th>Purpose</th>\n",
       "      <th></th>\n",
       "      <th></th>\n",
       "      <th></th>\n",
       "    </tr>\n",
       "  </thead>\n",
       "  <tbody>\n",
       "    <tr>\n",
       "      <th>car operations</th>\n",
       "      <td>400</td>\n",
       "      <td>4281</td>\n",
       "      <td>9.34%</td>\n",
       "    </tr>\n",
       "    <tr>\n",
       "      <th>getting an education</th>\n",
       "      <td>369</td>\n",
       "      <td>3989</td>\n",
       "      <td>9.25%</td>\n",
       "    </tr>\n",
       "    <tr>\n",
       "      <th>holding a wedding</th>\n",
       "      <td>183</td>\n",
       "      <td>2324</td>\n",
       "      <td>7.87%</td>\n",
       "    </tr>\n",
       "    <tr>\n",
       "      <th>real estate transactions</th>\n",
       "      <td>780</td>\n",
       "      <td>10754</td>\n",
       "      <td>7.25%</td>\n",
       "    </tr>\n",
       "  </tbody>\n",
       "</table>\n",
       "</div>"
      ],
      "text/plain": [
       "                          Debtors  Total Debtors %\n",
       "Purpose                                           \n",
       "car operations                400   4281     9.34%\n",
       "getting an education          369   3989     9.25%\n",
       "holding a wedding             183   2324     7.87%\n",
       "real estate transactions      780  10754     7.25%"
      ]
     },
     "metadata": {},
     "output_type": "display_data"
    }
   ],
   "source": [
    "purpose_debt_dependency = data.groupby(['purpose_category']).agg({'debt':['sum','count','mean']})\n",
    "purpose_debt_dependency.columns = purpose_debt_dependency.columns.droplevel(0)\n",
    "purpose_debt_dependency = purpose_debt_dependency.sort_values(by='mean', ascending=False)\n",
    "purpose_debt_dependency['mean'] = purpose_debt_dependency['mean'].apply(percentage)\n",
    "purpose_debt_dependency = purpose_debt_dependency.rename(columns={'sum':'Debtors','count':'Total', 'mean':'Debtors %'})\n",
    "purpose_debt_dependency = purpose_debt_dependency.rename_axis('Purpose')\n",
    "display(purpose_debt_dependency)"
   ]
  },
  {
   "cell_type": "code",
   "execution_count": 35,
   "id": "2f31ff9b",
   "metadata": {},
   "outputs": [
    {
     "data": {
      "image/png": "[encoded data removed]",
      "text/plain": [
       "<Figure size 1200x600 with 1 Axes>"
      ]
     },
     "metadata": {},
     "output_type": "display_data"
    }
   ],
   "source": [
    "purpose_debt_dependency.plot(kind='bar', stacked=True, figsize=(12,6))\n",
    "plt.title('Debt dependency on loan purpose')\n",
    "plt.xticks(rotation=0)\n",
    "plt.show()"
   ]
  },
  {
   "cell_type": "markdown",
   "id": "22c59a80",
   "metadata": {},
   "source": [
    "**Conclusion:**\n",
    "\n",
    "- People whose loan purpose is \"real estate transactions\" are the best at repaying the loan, with a debt percentage of 7.25%.\n",
    "\n",
    "- The worst debt repayers are those who take out a loan to buy cars or pay for studies, with debt rates of 9.35% and 9.25%, respectively (a difference of 1.07%).\n",
    "\n",
    "- In the middle of the above categories are those who take out a loan to pay for weddings, with a debt percentage of 7.91%, But the sample cannot be considered large enough to draw conclusions.\n",
    "\n",
    "  The difference between the average maximum (9.35%) and average minimum (7.26%) values of debtors is 22.35%\n"
   ]
  },
  {
   "cell_type": "markdown",
   "id": "d11e2a3e",
   "metadata": {},
   "source": [
    "## General conclusion"
   ]
  },
  {
   "cell_type": "code",
   "execution_count": 36,
   "id": "a089c7e9",
   "metadata": {},
   "outputs": [
    {
     "data": {
      "text/html": [
       "<div>\n",
       "<style scoped>\n",
       "    .dataframe tbody tr th:only-of-type {\n",
       "        vertical-align: middle;\n",
       "    }\n",
       "\n",
       "    .dataframe tbody tr th {\n",
       "        vertical-align: top;\n",
       "    }\n",
       "\n",
       "    .dataframe thead th {\n",
       "        text-align: right;\n",
       "    }\n",
       "</style>\n",
       "<table border=\"1\" class=\"dataframe\">\n",
       "  <thead>\n",
       "    <tr style=\"text-align: right;\">\n",
       "      <th></th>\n",
       "      <th></th>\n",
       "      <th>Debtors</th>\n",
       "      <th>Total</th>\n",
       "      <th>Debtors %</th>\n",
       "    </tr>\n",
       "  </thead>\n",
       "  <tbody>\n",
       "    <tr>\n",
       "      <th rowspan=\"6\" valign=\"top\">Children</th>\n",
       "      <th>4</th>\n",
       "      <td>4</td>\n",
       "      <td>41</td>\n",
       "      <td>9.76%</td>\n",
       "    </tr>\n",
       "    <tr>\n",
       "      <th>2</th>\n",
       "      <td>194</td>\n",
       "      <td>2052</td>\n",
       "      <td>9.45%</td>\n",
       "    </tr>\n",
       "    <tr>\n",
       "      <th>1</th>\n",
       "      <td>444</td>\n",
       "      <td>4809</td>\n",
       "      <td>9.23%</td>\n",
       "    </tr>\n",
       "    <tr>\n",
       "      <th>3</th>\n",
       "      <td>27</td>\n",
       "      <td>330</td>\n",
       "      <td>8.18%</td>\n",
       "    </tr>\n",
       "    <tr>\n",
       "      <th>0</th>\n",
       "      <td>1063</td>\n",
       "      <td>14107</td>\n",
       "      <td>7.54%</td>\n",
       "    </tr>\n",
       "    <tr>\n",
       "      <th>5</th>\n",
       "      <td>0</td>\n",
       "      <td>9</td>\n",
       "      <td>0.00%</td>\n",
       "    </tr>\n",
       "    <tr>\n",
       "      <th rowspan=\"5\" valign=\"top\">Family Status</th>\n",
       "      <th>single</th>\n",
       "      <td>273</td>\n",
       "      <td>2796</td>\n",
       "      <td>9.76%</td>\n",
       "    </tr>\n",
       "    <tr>\n",
       "      <th>civil marriage</th>\n",
       "      <td>385</td>\n",
       "      <td>4146</td>\n",
       "      <td>9.29%</td>\n",
       "    </tr>\n",
       "    <tr>\n",
       "      <th>married</th>\n",
       "      <td>927</td>\n",
       "      <td>12266</td>\n",
       "      <td>7.56%</td>\n",
       "    </tr>\n",
       "    <tr>\n",
       "      <th>divorced</th>\n",
       "      <td>84</td>\n",
       "      <td>1189</td>\n",
       "      <td>7.06%</td>\n",
       "    </tr>\n",
       "    <tr>\n",
       "      <th>widower / widow</th>\n",
       "      <td>63</td>\n",
       "      <td>951</td>\n",
       "      <td>6.62%</td>\n",
       "    </tr>\n",
       "    <tr>\n",
       "      <th rowspan=\"5\" valign=\"top\">Total Income Category</th>\n",
       "      <th>E</th>\n",
       "      <td>2</td>\n",
       "      <td>22</td>\n",
       "      <td>9.09%</td>\n",
       "    </tr>\n",
       "    <tr>\n",
       "      <th>C</th>\n",
       "      <td>1353</td>\n",
       "      <td>15938</td>\n",
       "      <td>8.49%</td>\n",
       "    </tr>\n",
       "    <tr>\n",
       "      <th>A</th>\n",
       "      <td>2</td>\n",
       "      <td>25</td>\n",
       "      <td>8.00%</td>\n",
       "    </tr>\n",
       "    <tr>\n",
       "      <th>B</th>\n",
       "      <td>354</td>\n",
       "      <td>5014</td>\n",
       "      <td>7.06%</td>\n",
       "    </tr>\n",
       "    <tr>\n",
       "      <th>D</th>\n",
       "      <td>21</td>\n",
       "      <td>349</td>\n",
       "      <td>6.02%</td>\n",
       "    </tr>\n",
       "    <tr>\n",
       "      <th rowspan=\"4\" valign=\"top\">Credit Goal</th>\n",
       "      <th>car operations</th>\n",
       "      <td>400</td>\n",
       "      <td>4281</td>\n",
       "      <td>9.34%</td>\n",
       "    </tr>\n",
       "    <tr>\n",
       "      <th>getting an education</th>\n",
       "      <td>369</td>\n",
       "      <td>3989</td>\n",
       "      <td>9.25%</td>\n",
       "    </tr>\n",
       "    <tr>\n",
       "      <th>holding a wedding</th>\n",
       "      <td>183</td>\n",
       "      <td>2324</td>\n",
       "      <td>7.87%</td>\n",
       "    </tr>\n",
       "    <tr>\n",
       "      <th>real estate transactions</th>\n",
       "      <td>780</td>\n",
       "      <td>10754</td>\n",
       "      <td>7.25%</td>\n",
       "    </tr>\n",
       "  </tbody>\n",
       "</table>\n",
       "</div>"
      ],
      "text/plain": [
       "                                                Debtors  Total Debtors %\n",
       "Children              4                               4     41     9.76%\n",
       "                      2                             194   2052     9.45%\n",
       "                      1                             444   4809     9.23%\n",
       "                      3                              27    330     8.18%\n",
       "                      0                            1063  14107     7.54%\n",
       "                      5                               0      9     0.00%\n",
       "Family Status         single                        273   2796     9.76%\n",
       "                      civil marriage                385   4146     9.29%\n",
       "                      married                       927  12266     7.56%\n",
       "                      divorced                       84   1189     7.06%\n",
       "                      widower / widow                63    951     6.62%\n",
       "Total Income Category E                               2     22     9.09%\n",
       "                      C                            1353  15938     8.49%\n",
       "                      A                               2     25     8.00%\n",
       "                      B                             354   5014     7.06%\n",
       "                      D                              21    349     6.02%\n",
       "Credit Goal           car operations                400   4281     9.34%\n",
       "                      getting an education          369   3989     9.25%\n",
       "                      holding a wedding             183   2324     7.87%\n",
       "                      real estate transactions      780  10754     7.25%"
      ]
     },
     "execution_count": 36,
     "metadata": {},
     "output_type": "execute_result"
    }
   ],
   "source": [
    "# combining all the previous tables into one to see all the data together:\n",
    "\n",
    "alltogether = [children_debt_dependency, family_status_debt_dependency ,income_debt_dependency, purpose_debt_dependency]\n",
    "final_result = pd.concat(alltogether, keys = ['Children', 'Family Status', 'Total Income Category', 'Credit Goal'])\n",
    "final_result"
   ]
  },
  {
   "cell_type": "markdown",
   "id": "53a3ab72",
   "metadata": {},
   "source": [
    "**CONCLUSIONS**:\n",
    " \n",
    "\n",
    "- People with no children are the best at repaying loans. The share of debtors here is 7.54%. The situation is worse with debtors who have one or two children, the share of non-repayment is 9.23% and 9.45% here, respectively.\n",
    "\n",
    "- People who are married are the best at repaying loans. The share of debtors here is 7.56%. The situation is worse with debtors who are single and those in a civil marriage. The share of non-return is 9.76% and 9.31% here, respectively.\n",
    "\n",
    "- People with income category 'B' are the best at repaying loans. The share of debtors here is 7.06%. The situation is worse for debtors who have income category 'C'. The non-return rate is 8.50% here.\n",
    "\n",
    "- People whose loan purpose is \"real estate transactions\" are the best at repaying the loan, with a debt percentage of 7.26%. The worst debt repayers are those who take out a loan to buy cars or pay for education, with debt percentages of 9.35% and 9.25%, respectively (a difference of 1.07%).\n",
    "\n",
    "\n",
    "-------------------------------------------------- --------------------------\n",
    "\n",
    "- This is the classification of the factors that most affect the non-payment of debts, from the greatest to the least:\n",
    "\n",
    "    - Family status - 22.54% \n",
    "    - Loan goals - 22.35%\n",
    "    - Number of children in the family - 20.21%\n",
    "    - Income level - 16.94% \n",
    "\n",
    "The difference between family status and loan target is 0.84%\n",
    "The difference between family status and number of children is 10.34%\n",
    "The difference between family status and income level is 24.84%\n",
    "\n",
    "That is, special attention should be paid to the family status of the borrowers, as well as their goals for the loan and the number of children."
   ]
  },
  {
   "cell_type": "code",
   "execution_count": 37,
   "id": "34fc11c0",
   "metadata": {},
   "outputs": [],
   "source": [
    "# exporting the \"data\" dataframe to excel file\n",
    "file_name = 'borrower_reliability_research.xlsx'\n",
    "data.to_excel(file_name)"
   ]
  }
 ],
 "metadata": {
  "kernelspec": {
   "display_name": "Python 3 (ipykernel)",
   "language": "python",
   "name": "python3"
  },
  "language_info": {
   "codemirror_mode": {
    "name": "ipython",
    "version": 3
   },
   "file_extension": ".py",
   "mimetype": "text/x-python",
   "name": "python",
   "nbconvert_exporter": "python",
   "pygments_lexer": "ipython3",
   "version": "3.11.5"
  }
 },
 "nbformat": 4,
 "nbformat_minor": 5
}
