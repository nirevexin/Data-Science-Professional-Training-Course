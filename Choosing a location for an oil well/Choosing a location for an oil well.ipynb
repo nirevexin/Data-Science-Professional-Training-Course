{
 "cells": [
  {
   "cell_type": "markdown",
   "metadata": {},
   "source": [
    "# Choosing a location for an oil well"
   ]
  },
  {
   "cell_type": "markdown",
   "metadata": {},
   "source": [
    "## Importing the necessary libraries"
   ]
  },
  {
   "cell_type": "code",
   "execution_count": 1,
   "metadata": {},
   "outputs": [],
   "source": [
    "import pandas as pd\n",
    "import numpy as np\n",
    "import seaborn as sns\n",
    "import matplotlib.pyplot as plt\n",
    "from scipy import stats as st \n",
    "from sklearn.model_selection import train_test_split\n",
    "from sklearn.linear_model import LinearRegression\n",
    "from sklearn.metrics import mean_squared_error, r2_score, mean_absolute_error\n",
    "import os\n",
    "import sweetviz as sv\n",
    "#from IPython.core.display import display, HTML\n",
    "#display(HTML(\"<style>.container { width:75% !important; }</style>\"))"
   ]
  },
  {
   "cell_type": "markdown",
   "metadata": {},
   "source": [
    "### Importing data "
   ]
  },
  {
   "cell_type": "code",
   "execution_count": 2,
   "metadata": {},
   "outputs": [],
   "source": [
    "path1 = r'C:\\Users\\exeve\\Downloads\\geo_data_0.csv'\n",
    "path2 = r'C:\\Users\\exeve\\Downloads\\geo_data_1.csv'\n",
    "path3 = r'C:\\Users\\exeve\\Downloads\\geo_data_2.csv'\n",
    "\n",
    "path4 = '/datasets/geo_data_0.csv'\n",
    "path5 = '/datasets/geo_data_1.csv'\n",
    "path6 = '/datasets/geo_data_2.csv'\n",
    "\n",
    "try:\n",
    "    if os.path.exists(path1):\n",
    "        data1 = pd.read_csv(path1)\n",
    "    elif os.path.exists(path4):\n",
    "        data1 = pd.read_csv(path4)\n",
    "except:\n",
    "    print('Something went wrong with data1')\n",
    "    \n",
    "try:\n",
    "    if os.path.exists(path2):\n",
    "        data2 = pd.read_csv(path2)\n",
    "    elif os.path.exists(path5):\n",
    "        data2 = pd.read_csv(path5)\n",
    "except:\n",
    "    print('Something went wrong ith data2')\n",
    "    \n",
    "try:\n",
    "    if os.path.exists(path3):\n",
    "        data3 = pd.read_csv(path3)\n",
    "    elif os.path.exists(path6):\n",
    "        data3 = pd.read_csv(path6)\n",
    "except:\n",
    "    print('Something went wrong with data3')\n"
   ]
  },
  {
   "cell_type": "markdown",
   "metadata": {},
   "source": [
    "### Region 1 overview"
   ]
  },
  {
   "cell_type": "code",
   "execution_count": 3,
   "metadata": {},
   "outputs": [
    {
     "data": {
      "application/vnd.jupyter.widget-view+json": {
       "model_id": "f1fbe53f03874ea1b33a702e10c9023c",
       "version_major": 2,
       "version_minor": 0
      },
      "text/plain": [
       "                                             |                                             | [  0%]   00:00 ->…"
      ]
     },
     "metadata": {},
     "output_type": "display_data"
    },
    {
     "name": "stdout",
     "output_type": "stream",
     "text": [
      "Report Region_1.html was generated! NOTEBOOK/COLAB USERS: the web browser MAY not pop up, regardless, the report IS saved in your notebook/colab files.\n"
     ]
    }
   ],
   "source": [
    "report = sv.analyze(data1)\n",
    "report.show_html(filepath='Region_1.html')"
   ]
  },
  {
   "cell_type": "markdown",
   "metadata": {},
   "source": [
    "### Region 2 overview"
   ]
  },
  {
   "cell_type": "code",
   "execution_count": 4,
   "metadata": {},
   "outputs": [
    {
     "data": {
      "application/vnd.jupyter.widget-view+json": {
       "model_id": "be665e23795b426b85ef1c6e70972a94",
       "version_major": 2,
       "version_minor": 0
      },
      "text/plain": [
       "                                             |                                             | [  0%]   00:00 ->…"
      ]
     },
     "metadata": {},
     "output_type": "display_data"
    },
    {
     "name": "stdout",
     "output_type": "stream",
     "text": [
      "Report Region_2.html was generated! NOTEBOOK/COLAB USERS: the web browser MAY not pop up, regardless, the report IS saved in your notebook/colab files.\n"
     ]
    }
   ],
   "source": [
    "report_2 = sv.analyze(data2)\n",
    "report_2.show_html(filepath='Region_2.html')"
   ]
  },
  {
   "cell_type": "markdown",
   "metadata": {},
   "source": [
    "### Region 3 overview"
   ]
  },
  {
   "cell_type": "code",
   "execution_count": 5,
   "metadata": {},
   "outputs": [
    {
     "data": {
      "application/vnd.jupyter.widget-view+json": {
       "model_id": "c8e13dbbe91549999bca00ad333c7d19",
       "version_major": 2,
       "version_minor": 0
      },
      "text/plain": [
       "                                             |                                             | [  0%]   00:00 ->…"
      ]
     },
     "metadata": {},
     "output_type": "display_data"
    },
    {
     "name": "stdout",
     "output_type": "stream",
     "text": [
      "Report Region_3.html was generated! NOTEBOOK/COLAB USERS: the web browser MAY not pop up, regardless, the report IS saved in your notebook/colab files.\n"
     ]
    }
   ],
   "source": [
    "report_3 = sv.analyze(data3)\n",
    "report_3.show_html(filepath='Region_3.html')"
   ]
  },
  {
   "cell_type": "markdown",
   "metadata": {},
   "source": [
    "- For some wells, the information is duplicated; perhaps there was some kind of bug when writing data to the database, or perhaps not. In any case, this point needs to be clarified with the customer."
   ]
  },
  {
   "cell_type": "markdown",
   "metadata": {},
   "source": [
    "- There are no complete row duplicates. Duplicates in the 'id' column may mean that these wells have subwells, a sub-source of production, or that it is divided into two zones. We won't delete anything."
   ]
  },
  {
   "cell_type": "markdown",
   "metadata": {},
   "source": [
    "- There is no need to scale the features since there are no relatively large or small values in each respective region."
   ]
  },
  {
   "cell_type": "markdown",
   "metadata": {},
   "source": [
    "- We can see that the data is distributed differently across regions. So it will not be possible to use the same model for all regions. We will need to create a model for each region and feed it data from that particular region in order to make accurate predictions."
   ]
  },
  {
   "cell_type": "markdown",
   "metadata": {},
   "source": [
    "- There is no correlation among the features (the correlation in the second region is between feature f2 and the target, so there is no multicollinear relationship)."
   ]
  },
  {
   "cell_type": "markdown",
   "metadata": {},
   "source": [
    "### Removing unnecessary columns"
   ]
  },
  {
   "cell_type": "markdown",
   "metadata": {},
   "source": [
    "The oil well id column is not relevant to the calculations. Let's delete it."
   ]
  },
  {
   "cell_type": "code",
   "execution_count": 6,
   "metadata": {},
   "outputs": [],
   "source": [
    "data1, data2, data3 = data1.drop('id', axis = 1), data2.drop('id',axis = 1), data3.drop('id', axis = 1)"
   ]
  },
  {
   "cell_type": "markdown",
   "metadata": {},
   "source": [
    "## Training and testing the model"
   ]
  },
  {
   "cell_type": "markdown",
   "metadata": {},
   "source": [
    "### Region 1"
   ]
  },
  {
   "cell_type": "code",
   "execution_count": 7,
   "metadata": {},
   "outputs": [],
   "source": [
    "features = data1.drop('product', axis = 1)\n",
    "target = data1['product']\n",
    "\n",
    "features_train, features_valid, target_train, target_valid = train_test_split(features, target, test_size = 0.25,\\\n",
    "                                                                             random_state = 12345)"
   ]
  },
  {
   "cell_type": "code",
   "execution_count": 8,
   "metadata": {},
   "outputs": [
    {
     "name": "stdout",
     "output_type": "stream",
     "text": [
      "MSE: 1412.2129364399243\n",
      " RMSE: 37.5794217150813 \n",
      " MAE: 30.919600777151313 \n",
      " R2: 0.27994321524487786\n"
     ]
    }
   ],
   "source": [
    "model = LinearRegression()\n",
    "model.fit(features_train, target_train)\n",
    "prediction = model.predict(features_valid)\n",
    "mse = mean_squared_error(target_valid, prediction)\n",
    "rmse = mse**0.5\n",
    "r2 = r2_score(target_valid, prediction)\n",
    "mae = mean_absolute_error(target_valid, prediction)\n",
    "print(f'MSE: {mse}\\n RMSE: {rmse} \\n MAE: {mae} \\n R2: {r2}')\n"
   ]
  },
  {
   "cell_type": "code",
   "execution_count": 9,
   "metadata": {},
   "outputs": [
    {
     "name": "stdout",
     "output_type": "stream",
     "text": [
      "Average predicted raw material stock in region 1: 92.59256778438035\n",
      "Average real stock of raw materials in region 1: 92.07859674082927\n",
      "Difference: 0.005550888757594019\n"
     ]
    }
   ],
   "source": [
    "print('Average predicted raw material stock in region 1:', prediction.mean())\n",
    "print('Average real stock of raw materials in region 1:', target_valid.mean())\n",
    "print('Difference:' ,1- target_valid.mean() / prediction.mean())\n"
   ]
  },
  {
   "cell_type": "markdown",
   "metadata": {},
   "source": [
    "The quality of this model leaves much to be desired. However, the predicted mean target value was predicted quite accurately."
   ]
  },
  {
   "cell_type": "markdown",
   "metadata": {},
   "source": [
    "### Region 2"
   ]
  },
  {
   "cell_type": "code",
   "execution_count": 10,
   "metadata": {},
   "outputs": [
    {
     "name": "stdout",
     "output_type": "stream",
     "text": [
      "166.02600308231263\n",
      "68.82500000000002\n"
     ]
    }
   ],
   "source": [
    "prediction2 = model.predict(data2.drop('product', axis = 1))\n",
    "print(prediction2.mean())\n",
    "print(data2['product'].mean())"
   ]
  },
  {
   "cell_type": "code",
   "execution_count": 11,
   "metadata": {},
   "outputs": [],
   "source": [
    "features2 = data2.drop('product', axis = 1)\n",
    "target2 = data2['product']\n",
    "\n",
    "features_train2, features_valid2, target_train2, target_valid2 = train_test_split(features2, target2, test_size = 0.25,\\\n",
    "                                                                             random_state = 12345)"
   ]
  },
  {
   "cell_type": "code",
   "execution_count": 12,
   "metadata": {},
   "outputs": [
    {
     "name": "stdout",
     "output_type": "stream",
     "text": [
      "MSE: 0.7976263360391154\n",
      " RMSE: 0.8930992867756168 \n",
      " MAE: 0.7187662442124758 \n",
      " R2: 0.9996233978805127\n"
     ]
    }
   ],
   "source": [
    "model.fit(features_train2, target_train2)\n",
    "prediction2 = model.predict(features_valid2)\n",
    "mse = mean_squared_error(target_valid2, prediction2)\n",
    "rmse = mse**0.5\n",
    "r2 = r2_score(target_valid2, prediction2)\n",
    "mae = mean_absolute_error(target_valid2, prediction2)\n",
    "print(f'MSE: {mse}\\n RMSE: {rmse} \\n MAE: {mae} \\n R2: {r2}')\n"
   ]
  },
  {
   "cell_type": "code",
   "execution_count": 13,
   "metadata": {},
   "outputs": [
    {
     "name": "stdout",
     "output_type": "stream",
     "text": [
      "Average predicted raw material stock in region 2: 68.72854689544602\n",
      "Average real stock of raw materials in region 2: 68.72313602435997\n",
      "Difference: 7.872814617004842e-05\n"
     ]
    }
   ],
   "source": [
    "print('Average predicted raw material stock in region 2:', prediction2.mean())\n",
    "print('Average real stock of raw materials in region 2:', target_valid2.mean())\n",
    "print('Difference:' ,1- target_valid2.mean() / prediction2.mean())"
   ]
  },
  {
   "cell_type": "markdown",
   "metadata": {},
   "source": [
    "R2 0.99 is a very high figure. The target prediction coincides almost perfectly with the actual values."
   ]
  },
  {
   "cell_type": "markdown",
   "metadata": {},
   "source": [
    "### Region 3"
   ]
  },
  {
   "cell_type": "code",
   "execution_count": 14,
   "metadata": {},
   "outputs": [],
   "source": [
    "features3 = data3.drop('product', axis = 1)\n",
    "target3 = data3['product']\n",
    "\n",
    "features_train3, features_valid3, target_train3, target_valid3 = train_test_split(features3, target3, test_size = 0.25,\\\n",
    "                                                                             random_state = 12345)"
   ]
  },
  {
   "cell_type": "code",
   "execution_count": 15,
   "metadata": {},
   "outputs": [
    {
     "name": "stdout",
     "output_type": "stream",
     "text": [
      "MSE: 1602.3775813236196\n",
      " RMSE: 40.02970873393434 \n",
      " MAE: 32.792652105481814 \n",
      " R2: 0.20524758386040443\n"
     ]
    }
   ],
   "source": [
    "model.fit(features_train3, target_train3)\n",
    "prediction3 = model.predict(features_valid3)\n",
    "mse = mean_squared_error(target_valid3, prediction3)\n",
    "rmse = mse**0.5\n",
    "r2 = r2_score(target_valid3, prediction3)\n",
    "mae = mean_absolute_error(target_valid3, prediction3)\n",
    "print(f'MSE: {mse}\\n RMSE: {rmse} \\n MAE: {mae} \\n R2: {r2}')\n"
   ]
  },
  {
   "cell_type": "code",
   "execution_count": 16,
   "metadata": {},
   "outputs": [
    {
     "name": "stdout",
     "output_type": "stream",
     "text": [
      "Average predicted raw material stock in region 3: 94.96504596800489\n",
      "Average real stock of raw materials in region 3: 94.88423280885438\n",
      "Difference: 0.000850977939585662\n"
     ]
    }
   ],
   "source": [
    "print('Average predicted raw material stock in region 3:', prediction3.mean())\n",
    "print('Average real stock of raw materials in region 3:', target_valid3.mean())\n",
    "print('Difference:' ,1- target_valid3.mean() / prediction3.mean())"
   ]
  },
  {
   "cell_type": "markdown",
   "metadata": {},
   "source": [
    "Here is where the model predicts the worst, but the target average matches quite well."
   ]
  },
  {
   "cell_type": "markdown",
   "metadata": {},
   "source": [
    "Conclusion:\n",
    "- The average real and predicted reserves of raw materials are highest in the third region.\n",
    "- The model predicts best in the second region."
   ]
  },
  {
   "cell_type": "markdown",
   "metadata": {},
   "source": [
    "## Preparation for profit calculation"
   ]
  },
  {
   "cell_type": "markdown",
   "metadata": {},
   "source": [
    "### Preface\n",
    "- When exploring a region, 500 points are examined, from which, using machine learning, the best 200 are selected for development.\n",
    "- The budget for well development in the region is 10 billion rubles.\n",
    "- At current prices, one barrel of raw materials brings 450 rubles in income. The income from each unit of product is 450 thousand rubles, since the volume is indicated in thousands of barrels.\n",
    "- After assessing the risks, we need to leave only those regions in which the probability of losses is less than 2.5%. Among them, the region with the highest average profit is selected.\n",
    "- Synthetic data: details of contracts and characteristics of fields are not disclosed."
   ]
  },
  {
   "cell_type": "code",
   "execution_count": 17,
   "metadata": {},
   "outputs": [],
   "source": [
    "# RETRIEVED CONSTANTS\n",
    "\n",
    "BUDGET = 10**10\n",
    "BARREL_PROFIT = 450\n",
    "PRODUCT_PROFIT = BARREL_PROFIT*1000\n",
    "BEST_WELLS = 200\n",
    "EXAMINED_WELLS = 500"
   ]
  },
  {
   "cell_type": "markdown",
   "metadata": {},
   "source": [
    "###  Calculating the required volume of an oil well to avoid losses"
   ]
  },
  {
   "cell_type": "code",
   "execution_count": 18,
   "metadata": {},
   "outputs": [
    {
     "name": "stdout",
     "output_type": "stream",
     "text": [
      "Volume of raw materials for break-even development of a new well: 111.111 units of product per well\n"
     ]
    }
   ],
   "source": [
    "MINIMAL_UNITS = round(BUDGET / BEST_WELLS / PRODUCT_PROFIT, 3)\n",
    "print(f'Volume of raw materials for break-even development of a new well: {MINIMAL_UNITS} units of product per well' )"
   ]
  },
  {
   "cell_type": "markdown",
   "metadata": {},
   "source": [
    "- We divide the budget by 200 oil wells that must be built. 50,000,000 rubles are allocated for each oil well. Each unit of goods is sold for 450,000 rubles. If we divide the 50,000,000 allocated to an oil well by 450,000, we get the minimum number of units that an oil well must have in order to avoid losses. In this case: 111.111 units (= MINIMAL_UNITS).\n",
    "\n",
    "- This is much more than the average number of units in the regions (92.68 and 95, respectively). But the sample which the average is made over is 25,000 elements. It may happen that by selecting the top 200 oil wells, the average increases significantly (the greater the sample, the greater the precision). The region that the model predicts best is region two, and this is the region that has an average of 68 units of product (where there are fewer). We will use the bootstrap method for further exploration."
   ]
  },
  {
   "cell_type": "markdown",
   "metadata": {},
   "source": [
    "### A function for calculating the revenue"
   ]
  },
  {
   "cell_type": "code",
   "execution_count": 19,
   "metadata": {},
   "outputs": [],
   "source": [
    "def revenue(target, predictions, count):\n",
    "    predictions_sorted = predictions.sort_values(ascending=False)\n",
    "    selected = target[predictions_sorted.index][:count]\n",
    "    return PRODUCT_PROFIT * selected.sum() - BUDGET"
   ]
  },
  {
   "cell_type": "markdown",
   "metadata": {},
   "source": [
    "- The revenue() function calculates and returns revenue. It receives as input:\n",
    "\n",
    "     - list of actual values (target) - product units\n",
    "     - list of predictions (predictions) - the model predicts product units\n",
    "     - how many wells we want to build (count)\n",
    "    \n",
    "The function should select wells with the highest predicted number of units of product and calculate the possible profit by summing up the number of units of all 200 wells and multiplying by revenue per unit (PRODUCT_PROFIT)."
   ]
  },
  {
   "cell_type": "markdown",
   "metadata": {},
   "source": [
    "## Calculation of profits and risks"
   ]
  },
  {
   "cell_type": "markdown",
   "metadata": {},
   "source": [
    "### Bootstrap function"
   ]
  },
  {
   "cell_type": "markdown",
   "metadata": {},
   "source": [
    "Using this function, we will be randomly taking 500 target items and their corresponding predictions 1000 times, and passing the samples into the revenue() function in order to calculate the revenue. All 1000 revenue values will be stored in the \"values\" variable. From values, we will subsequently extract the average value and the lower and upper quantiles between which this average value can be obtained with a probability of 95%."
   ]
  },
  {
   "cell_type": "code",
   "execution_count": 20,
   "metadata": {},
   "outputs": [],
   "source": [
    "def bootstrap(target, prediction):\n",
    "    state = np.random.RandomState(12345)\n",
    "\n",
    "    values = []\n",
    "\n",
    "    for i in range(1000):\n",
    "    \n",
    "        target_subsample = target.sample(replace = True, random_state = state, n = EXAMINED_WELLS)\n",
    "        predictions_subsample = prediction[target_subsample.index]\n",
    "        values.append(revenue(target_subsample, predictions_subsample, BEST_WELLS))\n",
    "\n",
    "    values = pd.Series(values)\n",
    "    \n",
    "    return values"
   ]
  },
  {
   "cell_type": "markdown",
   "metadata": {},
   "source": [
    "Let's convert the predictions to Series format so that the bootstrap function works."
   ]
  },
  {
   "cell_type": "code",
   "execution_count": 21,
   "metadata": {},
   "outputs": [],
   "source": [
    "prediction3 = pd.Series(prediction3, index = target_valid3.index)\n",
    "prediction2 = pd.Series(prediction2, index = target_valid2.index)\n",
    "prediction = pd.Series(prediction, index = target_valid.index)"
   ]
  },
  {
   "cell_type": "markdown",
   "metadata": {},
   "source": [
    "### Calculating profits and risks"
   ]
  },
  {
   "cell_type": "code",
   "execution_count": 22,
   "metadata": {},
   "outputs": [],
   "source": [
    "values1 = bootstrap(target_valid, prediction)\n",
    "values2 = bootstrap(target_valid2, prediction2)\n",
    "values3 = bootstrap(target_valid3, prediction3)"
   ]
  },
  {
   "cell_type": "code",
   "execution_count": 23,
   "metadata": {},
   "outputs": [
    {
     "name": "stdout",
     "output_type": "stream",
     "text": [
      "Confidence interval of the first region:\n",
      " -102090094.83793654 - 947976353.3583689 \n",
      " Average profit of the first region: 425938526.91059244\n",
      " Loss risk: 6.0%\n",
      "\n",
      "\n",
      "Confidence interval of the second region:\n",
      " 68873225.37050176 - 931547591.2570494 \n",
      " Average profit of the second region: 515222773.4432899\n",
      " Loss risk: 1.0%\n",
      "\n",
      "\n",
      "Confidence interval of the third region:\n",
      " -128880547.32978901 - 969706954.1802661 \n",
      " Average profit of the third region: 435008362.7827556\n",
      " Loss risk: 6.4%\n"
     ]
    }
   ],
   "source": [
    "lower1 = values1.quantile(0.025)\n",
    "upper1 = values1.quantile(0.975)\n",
    "mean1 = values1.mean()\n",
    "risk1= st.percentileofscore(values1, 0, kind = 'strict')#<-- this function calculates the probability of\n",
    "# finding profit values below zero \n",
    "\n",
    "lower2 = values2.quantile(0.025)\n",
    "upper2 = values2.quantile(0.975)\n",
    "mean2 = values2.mean()\n",
    "risk2= st.percentileofscore(values2, 0, kind = 'strict')\n",
    "\n",
    "lower3 = values3.quantile(0.025)\n",
    "upper3 = values3.quantile(0.975)\n",
    "mean3 = values3.mean()\n",
    "risk3= st.percentileofscore(values3, 0, kind = 'strict')\n",
    "\n",
    "print(f'Confidence interval of the first region:\\n {lower1} - {upper1} \\n Average profit of the first region: {mean1}\\n \\\n",
    "Loss risk: {risk1}%')\n",
    "print('')\n",
    "print('')\n",
    "print(f'Confidence interval of the second region:\\n {lower2} - {upper2} \\n Average profit of the second region: {mean2}\\n \\\n",
    "Loss risk: {risk2}%')\n",
    "print('')\n",
    "print('')\n",
    "print(f'Confidence interval of the third region:\\n {lower3} - {upper3} \\n Average profit of the third region: {mean3}\\n \\\n",
    "Loss risk: {risk3}%')\n",
    "\n",
    "table = {'Quantile 2.5%' : [lower1, lower2, lower3], 'Quantile 97.5%' : [upper1, upper2, upper3],\\\n",
    "         'Risk of loss' : [risk1, risk2, risk3]}\n",
    "\n",
    "table = pd.DataFrame(table, index = ['Region 1', 'Region 2', 'Region 3'])\n",
    "\n",
    "table['Risk of loss'] = table['Risk of loss'].apply(lambda x: str(x) + '%')\n"
   ]
  },
  {
   "cell_type": "code",
   "execution_count": 24,
   "metadata": {},
   "outputs": [
    {
     "data": {
      "text/html": [
       "<div>\n",
       "<style scoped>\n",
       "    .dataframe tbody tr th:only-of-type {\n",
       "        vertical-align: middle;\n",
       "    }\n",
       "\n",
       "    .dataframe tbody tr th {\n",
       "        vertical-align: top;\n",
       "    }\n",
       "\n",
       "    .dataframe thead th {\n",
       "        text-align: right;\n",
       "    }\n",
       "</style>\n",
       "<table border=\"1\" class=\"dataframe\">\n",
       "  <thead>\n",
       "    <tr style=\"text-align: right;\">\n",
       "      <th></th>\n",
       "      <th>Quantile 2.5%</th>\n",
       "      <th>Quantile 97.5%</th>\n",
       "      <th>Risk of loss</th>\n",
       "    </tr>\n",
       "  </thead>\n",
       "  <tbody>\n",
       "    <tr>\n",
       "      <th>Region 1</th>\n",
       "      <td>-1.020901e+08</td>\n",
       "      <td>9.479764e+08</td>\n",
       "      <td>6.0%</td>\n",
       "    </tr>\n",
       "    <tr>\n",
       "      <th>Region 2</th>\n",
       "      <td>6.887323e+07</td>\n",
       "      <td>9.315476e+08</td>\n",
       "      <td>1.0%</td>\n",
       "    </tr>\n",
       "    <tr>\n",
       "      <th>Region 3</th>\n",
       "      <td>-1.288805e+08</td>\n",
       "      <td>9.697070e+08</td>\n",
       "      <td>6.4%</td>\n",
       "    </tr>\n",
       "  </tbody>\n",
       "</table>\n",
       "</div>"
      ],
      "text/plain": [
       "          Quantile 2.5%  Quantile 97.5% Risk of loss\n",
       "Region 1  -1.020901e+08    9.479764e+08         6.0%\n",
       "Region 2   6.887323e+07    9.315476e+08         1.0%\n",
       "Region 3  -1.288805e+08    9.697070e+08         6.4%"
      ]
     },
     "metadata": {},
     "output_type": "display_data"
    }
   ],
   "source": [
    "display(table)\n"
   ]
  },
  {
   "cell_type": "markdown",
   "metadata": {},
   "source": [
    "Conclusion:\n",
    "\n",
    "- According to preliminary estimates, region 2 was not suitable for well development. The region's average reserves (68.73) are much less than those of other regions (92-95) and the calculated reserves for break-even field development (111.111). But, thanks to a high-quality forecasting model, the most optimistic forecasts concern region 2 - the risk of losses is only 1%. And it is this region that is proposed for development based on the research conducted."
   ]
  },
  {
   "cell_type": "markdown",
   "metadata": {},
   "source": [
    "## Conclusion"
   ]
  },
  {
   "cell_type": "markdown",
   "metadata": {},
   "source": [
    "While working on this project the following was carried out:\n",
    "\n",
    "- The data has been studied.\n",
    "- A linear regression model was created for each region and the quality of each model was assessed according to MSE, RMSE, MAE and R2. The region 2 model turned out to be the most accurate.\n",
    "- The average actual reserves of each region were compared with those predicted by the model:\n",
    "     - The regions with the largest inventories were Region 1 and Region 3, with 92 and 95 units of product, respectively. -   - Region 2 averaged just 68 units.\n",
    "- The required volume of an oil well to avoid losses is calculated at 111.111 units. of product.\n",
    "- The average revenue for each region was estimated, as well as quantiles, between which the average revenue can be found with a probability of 95%.\n",
    "- Conclusively, Region 2 was established as the most recommended for the creation of new oil wells, with a confidence interval of $[6.88 x 10^7, 9.32 x 10^8]$ and a risk of loss of only 1.0 %.\n",
    "\n",
    "\n",
    "\n",
    "\n",
    "\n"
   ]
  }
 ],
 "metadata": {
  "ExecuteTimeLog": [
   {
    "duration": 152,
    "start_time": "2023-07-19T17:14:17.902Z"
   },
   {
    "duration": 157,
    "start_time": "2023-07-19T17:14:30.510Z"
   },
   {
    "duration": 70,
    "start_time": "2023-07-19T17:14:35.156Z"
   },
   {
    "duration": 1953,
    "start_time": "2023-07-19T17:17:25.704Z"
   },
   {
    "duration": 965,
    "start_time": "2023-07-19T17:17:27.660Z"
   },
   {
    "duration": 1356,
    "start_time": "2023-07-19T17:18:31.409Z"
   },
   {
    "duration": 501,
    "start_time": "2023-07-19T17:19:30.442Z"
   },
   {
    "duration": 481,
    "start_time": "2023-07-19T17:19:39.014Z"
   },
   {
    "duration": 438,
    "start_time": "2023-07-19T17:24:10.452Z"
   },
   {
    "duration": 65,
    "start_time": "2023-07-19T17:27:17.917Z"
   },
   {
    "duration": 98,
    "start_time": "2023-07-19T18:31:46.429Z"
   },
   {
    "duration": 416,
    "start_time": "2023-07-19T18:32:20.529Z"
   },
   {
    "duration": 391,
    "start_time": "2023-07-19T18:33:39.048Z"
   },
   {
    "duration": 345,
    "start_time": "2023-07-19T18:33:49.393Z"
   },
   {
    "duration": 349,
    "start_time": "2023-07-19T18:34:08.880Z"
   },
   {
    "duration": 123,
    "start_time": "2023-07-19T18:35:47.895Z"
   },
   {
    "duration": 434,
    "start_time": "2023-07-19T18:35:57.716Z"
   },
   {
    "duration": 1016,
    "start_time": "2023-07-19T18:36:44.064Z"
   },
   {
    "duration": 399,
    "start_time": "2023-07-19T18:37:14.408Z"
   },
   {
    "duration": 132,
    "start_time": "2023-07-19T18:38:57.058Z"
   },
   {
    "duration": 348,
    "start_time": "2023-07-19T18:39:09.576Z"
   },
   {
    "duration": 404,
    "start_time": "2023-07-19T18:41:34.199Z"
   },
   {
    "duration": 328,
    "start_time": "2023-07-19T18:44:17.379Z"
   },
   {
    "duration": 340,
    "start_time": "2023-07-19T18:44:18.660Z"
   },
   {
    "duration": 309,
    "start_time": "2023-07-19T18:44:19.098Z"
   },
   {
    "duration": 36,
    "start_time": "2023-07-19T18:44:39.680Z"
   },
   {
    "duration": 345,
    "start_time": "2023-07-19T18:44:58.372Z"
   },
   {
    "duration": 35,
    "start_time": "2023-07-19T18:45:10.319Z"
   },
   {
    "duration": 370,
    "start_time": "2023-07-19T18:45:24.058Z"
   },
   {
    "duration": 373,
    "start_time": "2023-07-19T18:45:36.745Z"
   },
   {
    "duration": 27,
    "start_time": "2023-07-19T18:45:44.445Z"
   },
   {
    "duration": 462,
    "start_time": "2023-07-19T18:46:10.844Z"
   },
   {
    "duration": 27,
    "start_time": "2023-07-19T18:46:20.405Z"
   },
   {
    "duration": 395,
    "start_time": "2023-07-19T18:46:41.012Z"
   },
   {
    "duration": 25,
    "start_time": "2023-07-19T18:46:47.172Z"
   },
   {
    "duration": 442,
    "start_time": "2023-07-19T18:47:02.345Z"
   },
   {
    "duration": 23,
    "start_time": "2023-07-19T18:47:53.945Z"
   },
   {
    "duration": 12,
    "start_time": "2023-07-19T18:48:19.327Z"
   },
   {
    "duration": 68,
    "start_time": "2023-07-19T18:49:24.549Z"
   },
   {
    "duration": 78,
    "start_time": "2023-07-19T18:49:33.658Z"
   },
   {
    "duration": 166,
    "start_time": "2023-07-19T18:49:53.689Z"
   },
   {
    "duration": 115,
    "start_time": "2023-07-19T18:50:26.923Z"
   },
   {
    "duration": 150,
    "start_time": "2023-07-19T18:51:06.417Z"
   },
   {
    "duration": 12,
    "start_time": "2023-07-19T18:51:57.553Z"
   },
   {
    "duration": 109,
    "start_time": "2023-07-19T18:52:18.000Z"
   },
   {
    "duration": 73,
    "start_time": "2023-07-19T18:52:38.796Z"
   },
   {
    "duration": 124,
    "start_time": "2023-07-19T18:54:35.301Z"
   },
   {
    "duration": 33,
    "start_time": "2023-07-19T18:54:44.120Z"
   },
   {
    "duration": 55,
    "start_time": "2023-07-19T18:54:54.956Z"
   },
   {
    "duration": 35,
    "start_time": "2023-07-19T18:55:10.587Z"
   },
   {
    "duration": 17,
    "start_time": "2023-07-19T18:56:11.973Z"
   },
   {
    "duration": 24,
    "start_time": "2023-07-19T19:29:31.830Z"
   },
   {
    "duration": 18,
    "start_time": "2023-07-19T19:30:00.836Z"
   },
   {
    "duration": 75,
    "start_time": "2023-07-20T14:56:02.482Z"
   },
   {
    "duration": 2163,
    "start_time": "2023-07-20T14:56:09.325Z"
   },
   {
    "duration": 1364,
    "start_time": "2023-07-20T14:56:11.491Z"
   },
   {
    "duration": 83,
    "start_time": "2023-07-20T14:56:12.859Z"
   },
   {
    "duration": 210,
    "start_time": "2023-07-20T14:56:12.950Z"
   },
   {
    "duration": 105,
    "start_time": "2023-07-20T14:56:13.169Z"
   },
   {
    "duration": 41,
    "start_time": "2023-07-20T14:56:13.276Z"
   },
   {
    "duration": 440,
    "start_time": "2023-07-20T14:56:13.320Z"
   },
   {
    "duration": 371,
    "start_time": "2023-07-20T14:56:13.768Z"
   },
   {
    "duration": 363,
    "start_time": "2023-07-20T14:56:14.156Z"
   },
   {
    "duration": 29,
    "start_time": "2023-07-20T14:56:14.521Z"
   },
   {
    "duration": 31,
    "start_time": "2023-07-20T14:56:14.553Z"
   },
   {
    "duration": 18,
    "start_time": "2023-07-20T14:56:14.586Z"
   },
   {
    "duration": 74,
    "start_time": "2023-07-20T15:01:50.858Z"
   },
   {
    "duration": 122,
    "start_time": "2023-07-20T15:01:51.122Z"
   },
   {
    "duration": 26,
    "start_time": "2023-07-20T15:02:04.500Z"
   },
   {
    "duration": 15,
    "start_time": "2023-07-20T15:02:05.349Z"
   },
   {
    "duration": 18,
    "start_time": "2023-07-20T15:02:14.322Z"
   },
   {
    "duration": 25,
    "start_time": "2023-07-20T15:02:48.429Z"
   },
   {
    "duration": 1115,
    "start_time": "2023-07-20T16:09:52.739Z"
   },
   {
    "duration": 16,
    "start_time": "2023-07-20T16:10:11.323Z"
   },
   {
    "duration": 14,
    "start_time": "2023-07-20T16:10:12.081Z"
   },
   {
    "duration": 12,
    "start_time": "2023-07-20T16:10:37.650Z"
   },
   {
    "duration": 10,
    "start_time": "2023-07-20T16:11:55.060Z"
   },
   {
    "duration": 13,
    "start_time": "2023-07-20T16:12:17.192Z"
   },
   {
    "duration": 9,
    "start_time": "2023-07-20T16:12:36.687Z"
   },
   {
    "duration": 1442,
    "start_time": "2023-07-20T16:13:08.065Z"
   },
   {
    "duration": 460,
    "start_time": "2023-07-20T16:13:09.509Z"
   },
   {
    "duration": 68,
    "start_time": "2023-07-20T16:13:09.971Z"
   },
   {
    "duration": 163,
    "start_time": "2023-07-20T16:13:10.041Z"
   },
   {
    "duration": 71,
    "start_time": "2023-07-20T16:13:10.207Z"
   },
   {
    "duration": 26,
    "start_time": "2023-07-20T16:13:10.280Z"
   },
   {
    "duration": 350,
    "start_time": "2023-07-20T16:13:10.308Z"
   },
   {
    "duration": 285,
    "start_time": "2023-07-20T16:13:10.660Z"
   },
   {
    "duration": 314,
    "start_time": "2023-07-20T16:13:10.947Z"
   },
   {
    "duration": 17,
    "start_time": "2023-07-20T16:13:11.262Z"
   },
   {
    "duration": 21,
    "start_time": "2023-07-20T16:13:11.281Z"
   },
   {
    "duration": 39,
    "start_time": "2023-07-20T16:13:11.305Z"
   },
   {
    "duration": 13,
    "start_time": "2023-07-20T16:13:52.664Z"
   },
   {
    "duration": 23,
    "start_time": "2023-07-20T16:15:07.727Z"
   },
   {
    "duration": 34,
    "start_time": "2023-07-20T16:15:16.957Z"
   },
   {
    "duration": 31,
    "start_time": "2023-07-20T16:18:03.421Z"
   },
   {
    "duration": 23,
    "start_time": "2023-07-20T16:18:26.465Z"
   },
   {
    "duration": 1436,
    "start_time": "2023-07-20T16:18:31.982Z"
   },
   {
    "duration": 399,
    "start_time": "2023-07-20T16:18:33.421Z"
   },
   {
    "duration": 65,
    "start_time": "2023-07-20T16:18:33.831Z"
   },
   {
    "duration": 184,
    "start_time": "2023-07-20T16:18:33.899Z"
   },
   {
    "duration": 96,
    "start_time": "2023-07-20T16:18:34.085Z"
   },
   {
    "duration": 24,
    "start_time": "2023-07-20T16:18:34.183Z"
   },
   {
    "duration": 342,
    "start_time": "2023-07-20T16:18:34.209Z"
   },
   {
    "duration": 334,
    "start_time": "2023-07-20T16:18:34.552Z"
   },
   {
    "duration": 347,
    "start_time": "2023-07-20T16:18:34.888Z"
   },
   {
    "duration": 16,
    "start_time": "2023-07-20T16:18:35.237Z"
   },
   {
    "duration": 34,
    "start_time": "2023-07-20T16:18:35.255Z"
   },
   {
    "duration": 46,
    "start_time": "2023-07-20T16:18:35.291Z"
   },
   {
    "duration": 87,
    "start_time": "2023-07-20T16:26:00.960Z"
   },
   {
    "duration": 68,
    "start_time": "2023-07-20T16:26:40.563Z"
   },
   {
    "duration": 109,
    "start_time": "2023-07-20T16:27:36.345Z"
   },
   {
    "duration": 159,
    "start_time": "2023-07-20T16:27:54.978Z"
   },
   {
    "duration": 43,
    "start_time": "2023-07-20T16:28:08.096Z"
   },
   {
    "duration": 46,
    "start_time": "2023-07-20T16:28:40.691Z"
   },
   {
    "duration": 15,
    "start_time": "2023-07-20T16:28:53.681Z"
   },
   {
    "duration": 14,
    "start_time": "2023-07-20T16:29:08.309Z"
   },
   {
    "duration": 20,
    "start_time": "2023-07-20T16:30:10.670Z"
   },
   {
    "duration": 5,
    "start_time": "2023-07-20T16:33:42.604Z"
   },
   {
    "duration": 18,
    "start_time": "2023-07-20T16:33:48.126Z"
   },
   {
    "duration": 23,
    "start_time": "2023-07-20T16:35:51.059Z"
   },
   {
    "duration": 17,
    "start_time": "2023-07-20T16:37:27.362Z"
   },
   {
    "duration": 17,
    "start_time": "2023-07-20T16:38:05.951Z"
   },
   {
    "duration": 17,
    "start_time": "2023-07-20T16:38:58.528Z"
   },
   {
    "duration": 16,
    "start_time": "2023-07-20T16:40:09.746Z"
   },
   {
    "duration": 13,
    "start_time": "2023-07-20T17:06:53.169Z"
   },
   {
    "duration": 15,
    "start_time": "2023-07-20T17:07:08.933Z"
   },
   {
    "duration": 46,
    "start_time": "2023-07-20T17:08:30.486Z"
   },
   {
    "duration": 15,
    "start_time": "2023-07-20T17:08:38.388Z"
   },
   {
    "duration": 18,
    "start_time": "2023-07-20T17:08:46.430Z"
   },
   {
    "duration": 4,
    "start_time": "2023-07-20T17:13:02.788Z"
   },
   {
    "duration": 4,
    "start_time": "2023-07-20T17:14:36.178Z"
   },
   {
    "duration": 18,
    "start_time": "2023-07-20T17:16:15.727Z"
   },
   {
    "duration": 31,
    "start_time": "2023-07-20T17:16:32.421Z"
   },
   {
    "duration": 14,
    "start_time": "2023-07-20T17:16:43.269Z"
   },
   {
    "duration": 10,
    "start_time": "2023-07-20T17:16:52.579Z"
   },
   {
    "duration": 14,
    "start_time": "2023-07-20T17:18:23.896Z"
   },
   {
    "duration": 1485,
    "start_time": "2023-07-20T17:18:39.705Z"
   },
   {
    "duration": 432,
    "start_time": "2023-07-20T17:18:41.192Z"
   },
   {
    "duration": 49,
    "start_time": "2023-07-20T17:18:41.625Z"
   },
   {
    "duration": 185,
    "start_time": "2023-07-20T17:18:41.676Z"
   },
   {
    "duration": 70,
    "start_time": "2023-07-20T17:18:41.863Z"
   },
   {
    "duration": 28,
    "start_time": "2023-07-20T17:18:41.934Z"
   },
   {
    "duration": 398,
    "start_time": "2023-07-20T17:18:41.964Z"
   },
   {
    "duration": 336,
    "start_time": "2023-07-20T17:18:42.363Z"
   },
   {
    "duration": 317,
    "start_time": "2023-07-20T17:18:42.701Z"
   },
   {
    "duration": 24,
    "start_time": "2023-07-20T17:18:43.020Z"
   },
   {
    "duration": 26,
    "start_time": "2023-07-20T17:18:43.046Z"
   },
   {
    "duration": 18,
    "start_time": "2023-07-20T17:18:43.074Z"
   },
   {
    "duration": 42,
    "start_time": "2023-07-20T17:18:43.093Z"
   },
   {
    "duration": 195,
    "start_time": "2023-07-20T17:18:43.138Z"
   },
   {
    "duration": 49,
    "start_time": "2023-07-20T17:18:43.335Z"
   },
   {
    "duration": 14,
    "start_time": "2023-07-20T17:20:51.169Z"
   },
   {
    "duration": 20,
    "start_time": "2023-07-20T17:21:30.056Z"
   },
   {
    "duration": 16,
    "start_time": "2023-07-20T17:24:11.147Z"
   },
   {
    "duration": 5,
    "start_time": "2023-07-20T17:24:51.790Z"
   },
   {
    "duration": 105,
    "start_time": "2023-07-20T17:27:18.631Z"
   },
   {
    "duration": 1244,
    "start_time": "2023-07-20T17:27:24.657Z"
   },
   {
    "duration": 12,
    "start_time": "2023-07-20T17:28:27.572Z"
   },
   {
    "duration": 10,
    "start_time": "2023-07-20T17:29:42.489Z"
   },
   {
    "duration": 9,
    "start_time": "2023-07-20T17:30:00.384Z"
   },
   {
    "duration": 1246,
    "start_time": "2023-07-20T17:30:40.980Z"
   },
   {
    "duration": 10,
    "start_time": "2023-07-20T17:30:56.212Z"
   },
   {
    "duration": 1157,
    "start_time": "2023-07-20T17:31:12.577Z"
   },
   {
    "duration": 1161,
    "start_time": "2023-07-20T17:31:48.643Z"
   },
   {
    "duration": 30,
    "start_time": "2023-07-20T17:33:45.810Z"
   },
   {
    "duration": 4,
    "start_time": "2023-07-20T17:35:21.018Z"
   },
   {
    "duration": 17,
    "start_time": "2023-07-20T17:53:44.494Z"
   },
   {
    "duration": 26,
    "start_time": "2023-07-20T17:53:44.763Z"
   },
   {
    "duration": 6,
    "start_time": "2023-07-20T17:53:44.987Z"
   },
   {
    "duration": 4,
    "start_time": "2023-07-20T17:54:08.600Z"
   },
   {
    "duration": 1509,
    "start_time": "2023-07-20T18:43:27.128Z"
   },
   {
    "duration": 439,
    "start_time": "2023-07-20T18:43:28.640Z"
   },
   {
    "duration": 69,
    "start_time": "2023-07-20T18:43:29.082Z"
   },
   {
    "duration": 153,
    "start_time": "2023-07-20T18:43:29.153Z"
   },
   {
    "duration": 79,
    "start_time": "2023-07-20T18:43:29.308Z"
   },
   {
    "duration": 27,
    "start_time": "2023-07-20T18:43:29.389Z"
   },
   {
    "duration": 129,
    "start_time": "2023-07-20T18:43:29.434Z"
   },
   {
    "duration": 341,
    "start_time": "2023-07-20T18:43:29.565Z"
   },
   {
    "duration": 381,
    "start_time": "2023-07-20T18:43:29.907Z"
   },
   {
    "duration": 328,
    "start_time": "2023-07-20T18:43:30.290Z"
   },
   {
    "duration": 27,
    "start_time": "2023-07-20T18:43:30.620Z"
   },
   {
    "duration": 132,
    "start_time": "2023-07-20T18:43:30.650Z"
   },
   {
    "duration": 159,
    "start_time": "2023-07-20T18:43:30.785Z"
   },
   {
    "duration": 108,
    "start_time": "2023-07-20T18:43:30.950Z"
   },
   {
    "duration": 464,
    "start_time": "2023-07-20T18:43:31.060Z"
   },
   {
    "duration": 292,
    "start_time": "2023-07-20T18:43:31.526Z"
   },
   {
    "duration": 47,
    "start_time": "2023-07-20T18:43:31.822Z"
   },
   {
    "duration": 164,
    "start_time": "2023-07-20T18:43:31.872Z"
   },
   {
    "duration": 72,
    "start_time": "2023-07-20T18:43:32.040Z"
   },
   {
    "duration": 119,
    "start_time": "2023-07-20T18:43:32.114Z"
   },
   {
    "duration": 15,
    "start_time": "2023-07-20T18:43:32.236Z"
   },
   {
    "duration": 11,
    "start_time": "2023-07-21T14:37:17.648Z"
   },
   {
    "duration": 4,
    "start_time": "2023-07-21T14:37:18.466Z"
   },
   {
    "duration": 3,
    "start_time": "2023-07-21T14:37:23.847Z"
   },
   {
    "duration": 46,
    "start_time": "2023-07-21T14:42:01.631Z"
   },
   {
    "duration": 1642,
    "start_time": "2023-07-21T14:42:23.113Z"
   },
   {
    "duration": 1596,
    "start_time": "2023-07-21T14:42:24.757Z"
   },
   {
    "duration": 39,
    "start_time": "2023-07-21T14:42:26.355Z"
   },
   {
    "duration": 149,
    "start_time": "2023-07-21T14:42:26.396Z"
   },
   {
    "duration": 77,
    "start_time": "2023-07-21T14:42:26.548Z"
   },
   {
    "duration": 29,
    "start_time": "2023-07-21T14:42:26.627Z"
   },
   {
    "duration": 115,
    "start_time": "2023-07-21T14:42:26.658Z"
   },
   {
    "duration": 407,
    "start_time": "2023-07-21T14:42:26.775Z"
   },
   {
    "duration": 370,
    "start_time": "2023-07-21T14:42:27.184Z"
   },
   {
    "duration": 360,
    "start_time": "2023-07-21T14:42:27.556Z"
   },
   {
    "duration": 16,
    "start_time": "2023-07-21T14:42:27.918Z"
   },
   {
    "duration": 40,
    "start_time": "2023-07-21T14:42:27.936Z"
   },
   {
    "duration": 142,
    "start_time": "2023-07-21T14:42:27.978Z"
   },
   {
    "duration": 91,
    "start_time": "2023-07-21T14:42:28.127Z"
   },
   {
    "duration": 98,
    "start_time": "2023-07-21T14:42:28.220Z"
   },
   {
    "duration": 104,
    "start_time": "2023-07-21T14:42:28.320Z"
   },
   {
    "duration": 88,
    "start_time": "2023-07-21T14:42:28.426Z"
   },
   {
    "duration": 7,
    "start_time": "2023-07-21T14:42:28.519Z"
   },
   {
    "duration": 21,
    "start_time": "2023-07-21T14:42:28.612Z"
   },
   {
    "duration": 79,
    "start_time": "2023-07-21T14:42:28.635Z"
   },
   {
    "duration": 5,
    "start_time": "2023-07-21T14:42:28.716Z"
   },
   {
    "duration": 92,
    "start_time": "2023-07-21T14:42:28.724Z"
   },
   {
    "duration": 20,
    "start_time": "2023-07-21T14:42:28.818Z"
   },
   {
    "duration": 8,
    "start_time": "2023-07-21T14:42:28.840Z"
   },
   {
    "duration": 123,
    "start_time": "2023-07-21T14:42:28.851Z"
   },
   {
    "duration": 11,
    "start_time": "2023-07-21T15:39:28.438Z"
   },
   {
    "duration": 1561,
    "start_time": "2023-07-21T15:39:55.511Z"
   },
   {
    "duration": 427,
    "start_time": "2023-07-21T15:39:57.074Z"
   },
   {
    "duration": 46,
    "start_time": "2023-07-21T15:39:57.503Z"
   },
   {
    "duration": 181,
    "start_time": "2023-07-21T15:39:57.551Z"
   },
   {
    "duration": 63,
    "start_time": "2023-07-21T15:39:57.734Z"
   },
   {
    "duration": 28,
    "start_time": "2023-07-21T15:39:57.812Z"
   },
   {
    "duration": 119,
    "start_time": "2023-07-21T15:39:57.842Z"
   },
   {
    "duration": 405,
    "start_time": "2023-07-21T15:39:57.963Z"
   },
   {
    "duration": 356,
    "start_time": "2023-07-21T15:39:58.370Z"
   },
   {
    "duration": 313,
    "start_time": "2023-07-21T15:39:58.729Z"
   },
   {
    "duration": 17,
    "start_time": "2023-07-21T15:39:59.044Z"
   },
   {
    "duration": 37,
    "start_time": "2023-07-21T15:39:59.063Z"
   },
   {
    "duration": 96,
    "start_time": "2023-07-21T15:39:59.102Z"
   },
   {
    "duration": 13,
    "start_time": "2023-07-21T15:39:59.200Z"
   },
   {
    "duration": 204,
    "start_time": "2023-07-21T15:39:59.215Z"
   },
   {
    "duration": 101,
    "start_time": "2023-07-21T15:39:59.425Z"
   },
   {
    "duration": 86,
    "start_time": "2023-07-21T15:39:59.528Z"
   },
   {
    "duration": 99,
    "start_time": "2023-07-21T15:39:59.616Z"
   },
   {
    "duration": 30,
    "start_time": "2023-07-21T15:39:59.717Z"
   },
   {
    "duration": 66,
    "start_time": "2023-07-21T15:39:59.749Z"
   },
   {
    "duration": 5,
    "start_time": "2023-07-21T15:39:59.817Z"
   },
   {
    "duration": 94,
    "start_time": "2023-07-21T15:39:59.823Z"
   },
   {
    "duration": 42,
    "start_time": "2023-07-21T15:39:59.920Z"
   },
   {
    "duration": 20,
    "start_time": "2023-07-21T15:39:59.965Z"
   },
   {
    "duration": 138,
    "start_time": "2023-07-21T15:39:59.987Z"
   },
   {
    "duration": 12,
    "start_time": "2023-07-21T15:40:30.833Z"
   },
   {
    "duration": 12,
    "start_time": "2023-07-21T15:44:16.609Z"
   },
   {
    "duration": 14,
    "start_time": "2023-07-21T15:46:25.791Z"
   },
   {
    "duration": 12,
    "start_time": "2023-07-21T15:48:38.267Z"
   },
   {
    "duration": 13,
    "start_time": "2023-07-21T16:11:52.298Z"
   },
   {
    "duration": 1582,
    "start_time": "2023-07-21T16:13:54.208Z"
   },
   {
    "duration": 409,
    "start_time": "2023-07-21T16:13:55.792Z"
   },
   {
    "duration": 43,
    "start_time": "2023-07-21T16:13:56.213Z"
   },
   {
    "duration": 169,
    "start_time": "2023-07-21T16:13:56.258Z"
   },
   {
    "duration": 60,
    "start_time": "2023-07-21T16:13:56.430Z"
   },
   {
    "duration": 45,
    "start_time": "2023-07-21T16:13:56.492Z"
   },
   {
    "duration": 112,
    "start_time": "2023-07-21T16:13:56.539Z"
   },
   {
    "duration": 348,
    "start_time": "2023-07-21T16:13:56.653Z"
   },
   {
    "duration": 314,
    "start_time": "2023-07-21T16:13:57.002Z"
   },
   {
    "duration": 304,
    "start_time": "2023-07-21T16:13:57.317Z"
   },
   {
    "duration": 20,
    "start_time": "2023-07-21T16:13:57.623Z"
   },
   {
    "duration": 36,
    "start_time": "2023-07-21T16:13:57.646Z"
   },
   {
    "duration": 37,
    "start_time": "2023-07-21T16:13:57.684Z"
   },
   {
    "duration": 93,
    "start_time": "2023-07-21T16:13:57.724Z"
   },
   {
    "duration": 103,
    "start_time": "2023-07-21T16:13:57.819Z"
   },
   {
    "duration": 202,
    "start_time": "2023-07-21T16:13:57.924Z"
   },
   {
    "duration": 86,
    "start_time": "2023-07-21T16:13:58.128Z"
   },
   {
    "duration": 5,
    "start_time": "2023-07-21T16:13:58.216Z"
   },
   {
    "duration": 105,
    "start_time": "2023-07-21T16:13:58.223Z"
   },
   {
    "duration": 21,
    "start_time": "2023-07-21T16:13:58.330Z"
   },
   {
    "duration": 69,
    "start_time": "2023-07-21T16:13:58.352Z"
   },
   {
    "duration": 91,
    "start_time": "2023-07-21T16:13:58.423Z"
   },
   {
    "duration": 18,
    "start_time": "2023-07-21T16:13:58.517Z"
   },
   {
    "duration": 26,
    "start_time": "2023-07-21T16:13:58.537Z"
   },
   {
    "duration": 123,
    "start_time": "2023-07-21T16:13:58.565Z"
   },
   {
    "duration": 14,
    "start_time": "2023-07-21T16:14:44.877Z"
   },
   {
    "duration": 13,
    "start_time": "2023-07-21T18:02:44.639Z"
   },
   {
    "duration": 123,
    "start_time": "2023-07-21T18:06:45.996Z"
   },
   {
    "duration": 4,
    "start_time": "2023-07-21T18:07:13.102Z"
   },
   {
    "duration": 14,
    "start_time": "2023-07-21T18:08:25.341Z"
   },
   {
    "duration": 5,
    "start_time": "2023-07-21T18:11:55.308Z"
   },
   {
    "duration": 18,
    "start_time": "2023-07-21T18:11:55.717Z"
   },
   {
    "duration": 5,
    "start_time": "2023-07-21T18:12:06.136Z"
   },
   {
    "duration": 22,
    "start_time": "2023-07-21T18:12:29.177Z"
   },
   {
    "duration": 45,
    "start_time": "2023-07-21T18:12:37.669Z"
   },
   {
    "duration": 22,
    "start_time": "2023-07-21T18:13:01.291Z"
   },
   {
    "duration": 21,
    "start_time": "2023-07-21T18:13:23.433Z"
   },
   {
    "duration": 18,
    "start_time": "2023-07-21T18:13:33.009Z"
   },
   {
    "duration": 5,
    "start_time": "2023-07-21T18:15:34.324Z"
   },
   {
    "duration": 14,
    "start_time": "2023-07-21T18:15:34.597Z"
   },
   {
    "duration": 12,
    "start_time": "2023-07-21T18:17:19.577Z"
   },
   {
    "duration": 23,
    "start_time": "2023-07-21T18:17:27.728Z"
   },
   {
    "duration": 18,
    "start_time": "2023-07-21T18:19:01.296Z"
   },
   {
    "duration": 1497,
    "start_time": "2023-07-21T18:19:47.551Z"
   },
   {
    "duration": 409,
    "start_time": "2023-07-21T18:19:49.051Z"
   },
   {
    "duration": 65,
    "start_time": "2023-07-21T18:19:49.462Z"
   },
   {
    "duration": 197,
    "start_time": "2023-07-21T18:19:49.529Z"
   },
   {
    "duration": 93,
    "start_time": "2023-07-21T18:19:49.730Z"
   },
   {
    "duration": 32,
    "start_time": "2023-07-21T18:19:49.825Z"
   },
   {
    "duration": 145,
    "start_time": "2023-07-21T18:19:49.859Z"
   },
   {
    "duration": 337,
    "start_time": "2023-07-21T18:19:50.014Z"
   },
   {
    "duration": 365,
    "start_time": "2023-07-21T18:19:50.353Z"
   },
   {
    "duration": 329,
    "start_time": "2023-07-21T18:19:50.720Z"
   },
   {
    "duration": 20,
    "start_time": "2023-07-21T18:19:51.051Z"
   },
   {
    "duration": 39,
    "start_time": "2023-07-21T18:19:51.073Z"
   },
   {
    "duration": 41,
    "start_time": "2023-07-21T18:19:51.114Z"
   },
   {
    "duration": 64,
    "start_time": "2023-07-21T18:19:51.158Z"
   },
   {
    "duration": 138,
    "start_time": "2023-07-21T18:19:51.223Z"
   },
   {
    "duration": 159,
    "start_time": "2023-07-21T18:19:51.363Z"
   },
   {
    "duration": 23,
    "start_time": "2023-07-21T18:19:51.524Z"
   },
   {
    "duration": 102,
    "start_time": "2023-07-21T18:19:51.614Z"
   },
   {
    "duration": 83,
    "start_time": "2023-07-21T18:19:51.719Z"
   },
   {
    "duration": 75,
    "start_time": "2023-07-21T18:19:51.805Z"
   },
   {
    "duration": 113,
    "start_time": "2023-07-21T18:19:51.917Z"
   },
   {
    "duration": 130,
    "start_time": "2023-07-21T18:19:52.031Z"
   },
   {
    "duration": 14,
    "start_time": "2023-07-21T18:19:52.163Z"
   },
   {
    "duration": 25,
    "start_time": "2023-07-21T18:19:52.179Z"
   },
   {
    "duration": 18,
    "start_time": "2023-07-21T18:19:52.205Z"
   },
   {
    "duration": 1481,
    "start_time": "2023-07-21T18:19:52.224Z"
   },
   {
    "duration": 1401,
    "start_time": "2023-07-21T18:24:18.202Z"
   },
   {
    "duration": 2770,
    "start_time": "2023-07-21T18:25:04.923Z"
   },
   {
    "duration": 4287,
    "start_time": "2023-07-21T18:25:38.802Z"
   },
   {
    "duration": 4192,
    "start_time": "2023-07-21T18:25:45.203Z"
   },
   {
    "duration": 12347,
    "start_time": "2023-07-21T18:35:31.304Z"
   },
   {
    "duration": 12688,
    "start_time": "2023-07-21T18:35:57.533Z"
   },
   {
    "duration": 12725,
    "start_time": "2023-07-21T18:37:10.598Z"
   },
   {
    "duration": 12162,
    "start_time": "2023-07-21T18:39:06.706Z"
   },
   {
    "duration": 12009,
    "start_time": "2023-07-21T18:39:48.002Z"
   },
   {
    "duration": 12015,
    "start_time": "2023-07-21T18:40:51.228Z"
   },
   {
    "duration": 12093,
    "start_time": "2023-07-21T18:41:18.232Z"
   },
   {
    "duration": 3,
    "start_time": "2023-07-21T18:44:44.594Z"
   },
   {
    "duration": 11974,
    "start_time": "2023-07-21T18:44:45.432Z"
   },
   {
    "duration": 1482,
    "start_time": "2023-07-21T18:45:17.496Z"
   },
   {
    "duration": 414,
    "start_time": "2023-07-21T18:45:18.981Z"
   },
   {
    "duration": 55,
    "start_time": "2023-07-21T18:45:19.397Z"
   },
   {
    "duration": 181,
    "start_time": "2023-07-21T18:45:19.453Z"
   },
   {
    "duration": 88,
    "start_time": "2023-07-21T18:45:19.636Z"
   },
   {
    "duration": 33,
    "start_time": "2023-07-21T18:45:19.726Z"
   },
   {
    "duration": 162,
    "start_time": "2023-07-21T18:45:19.762Z"
   },
   {
    "duration": 319,
    "start_time": "2023-07-21T18:45:19.925Z"
   },
   {
    "duration": 310,
    "start_time": "2023-07-21T18:45:20.246Z"
   },
   {
    "duration": 355,
    "start_time": "2023-07-21T18:45:20.558Z"
   },
   {
    "duration": 19,
    "start_time": "2023-07-21T18:45:20.915Z"
   },
   {
    "duration": 36,
    "start_time": "2023-07-21T18:45:20.935Z"
   },
   {
    "duration": 45,
    "start_time": "2023-07-21T18:45:20.972Z"
   },
   {
    "duration": 96,
    "start_time": "2023-07-21T18:45:21.020Z"
   },
   {
    "duration": 97,
    "start_time": "2023-07-21T18:45:21.117Z"
   },
   {
    "duration": 111,
    "start_time": "2023-07-21T18:45:21.216Z"
   },
   {
    "duration": 85,
    "start_time": "2023-07-21T18:45:21.329Z"
   },
   {
    "duration": 5,
    "start_time": "2023-07-21T18:45:21.416Z"
   },
   {
    "duration": 31,
    "start_time": "2023-07-21T18:45:21.513Z"
   },
   {
    "duration": 18,
    "start_time": "2023-07-21T18:45:21.546Z"
   },
   {
    "duration": 56,
    "start_time": "2023-07-21T18:45:21.566Z"
   },
   {
    "duration": 9,
    "start_time": "2023-07-21T18:45:21.712Z"
   },
   {
    "duration": 11,
    "start_time": "2023-07-21T18:45:21.722Z"
   },
   {
    "duration": 6,
    "start_time": "2023-07-21T18:45:21.735Z"
   },
   {
    "duration": 9,
    "start_time": "2023-07-21T18:45:21.743Z"
   },
   {
    "duration": 22,
    "start_time": "2023-07-21T18:45:21.753Z"
   },
   {
    "duration": 12403,
    "start_time": "2023-07-21T18:45:21.776Z"
   },
   {
    "duration": 14135,
    "start_time": "2023-07-21T19:04:17.853Z"
   },
   {
    "duration": 15307,
    "start_time": "2023-07-21T19:05:17.927Z"
   },
   {
    "duration": 15243,
    "start_time": "2023-07-21T19:06:41.505Z"
   },
   {
    "duration": 16740,
    "start_time": "2023-07-21T19:08:07.720Z"
   },
   {
    "duration": 6,
    "start_time": "2023-07-21T19:13:28.527Z"
   },
   {
    "duration": 16396,
    "start_time": "2023-07-21T19:13:41.271Z"
   },
   {
    "duration": 16700,
    "start_time": "2023-07-21T19:14:15.624Z"
   },
   {
    "duration": 110,
    "start_time": "2023-07-21T19:21:14.764Z"
   },
   {
    "duration": 179,
    "start_time": "2023-07-21T19:21:22.346Z"
   },
   {
    "duration": 128,
    "start_time": "2023-07-21T19:21:47.839Z"
   },
   {
    "duration": 4,
    "start_time": "2023-07-21T19:22:02.966Z"
   },
   {
    "duration": 9,
    "start_time": "2023-07-21T19:22:09.321Z"
   },
   {
    "duration": 4,
    "start_time": "2023-07-21T19:22:37.664Z"
   },
   {
    "duration": 9,
    "start_time": "2023-07-21T19:22:44.339Z"
   },
   {
    "duration": 121,
    "start_time": "2023-07-21T19:24:20.741Z"
   },
   {
    "duration": 5,
    "start_time": "2023-07-21T19:25:01.617Z"
   },
   {
    "duration": 4,
    "start_time": "2023-07-21T19:25:02.234Z"
   },
   {
    "duration": 17117,
    "start_time": "2023-07-21T19:25:02.562Z"
   },
   {
    "duration": 4,
    "start_time": "2023-07-21T19:28:50.797Z"
   },
   {
    "duration": 3,
    "start_time": "2023-07-21T19:30:12.769Z"
   },
   {
    "duration": 4,
    "start_time": "2023-07-21T19:31:45.042Z"
   },
   {
    "duration": 3,
    "start_time": "2023-07-21T19:32:13.062Z"
   },
   {
    "duration": 156,
    "start_time": "2023-07-21T19:32:45.806Z"
   },
   {
    "duration": 3,
    "start_time": "2023-07-21T19:32:54.418Z"
   },
   {
    "duration": 3,
    "start_time": "2023-07-21T19:34:21.456Z"
   },
   {
    "duration": 4,
    "start_time": "2023-07-21T19:34:53.115Z"
   },
   {
    "duration": 4,
    "start_time": "2023-07-21T19:43:46.937Z"
   },
   {
    "duration": 6,
    "start_time": "2023-07-21T20:03:08.002Z"
   },
   {
    "duration": 6,
    "start_time": "2023-07-21T20:03:27.200Z"
   },
   {
    "duration": 6,
    "start_time": "2023-07-21T20:05:37.833Z"
   },
   {
    "duration": 5,
    "start_time": "2023-07-21T20:06:17.781Z"
   },
   {
    "duration": 6,
    "start_time": "2023-07-21T20:06:54.999Z"
   },
   {
    "duration": 8,
    "start_time": "2023-07-21T20:22:06.072Z"
   },
   {
    "duration": 15,
    "start_time": "2023-07-21T20:22:25.407Z"
   },
   {
    "duration": 14,
    "start_time": "2023-07-21T20:22:53.890Z"
   },
   {
    "duration": 928,
    "start_time": "2023-07-21T20:27:50.781Z"
   },
   {
    "duration": 763,
    "start_time": "2023-07-21T20:29:23.782Z"
   },
   {
    "duration": 0,
    "start_time": "2023-07-21T20:33:16.814Z"
   },
   {
    "duration": 1515,
    "start_time": "2023-07-21T20:33:23.069Z"
   },
   {
    "duration": 428,
    "start_time": "2023-07-21T20:33:24.586Z"
   },
   {
    "duration": 49,
    "start_time": "2023-07-21T20:33:25.016Z"
   },
   {
    "duration": 187,
    "start_time": "2023-07-21T20:33:25.068Z"
   },
   {
    "duration": 77,
    "start_time": "2023-07-21T20:33:25.257Z"
   },
   {
    "duration": 28,
    "start_time": "2023-07-21T20:33:25.336Z"
   },
   {
    "duration": 50,
    "start_time": "2023-07-21T20:33:25.366Z"
   },
   {
    "duration": 133,
    "start_time": "2023-07-21T20:33:25.418Z"
   },
   {
    "duration": 1042,
    "start_time": "2023-07-21T20:33:25.553Z"
   },
   {
    "duration": 0,
    "start_time": "2023-07-21T20:33:26.597Z"
   },
   {
    "duration": 0,
    "start_time": "2023-07-21T20:33:26.598Z"
   },
   {
    "duration": 0,
    "start_time": "2023-07-21T20:33:26.599Z"
   },
   {
    "duration": 0,
    "start_time": "2023-07-21T20:33:26.600Z"
   },
   {
    "duration": 0,
    "start_time": "2023-07-21T20:33:26.614Z"
   },
   {
    "duration": 0,
    "start_time": "2023-07-21T20:33:26.615Z"
   },
   {
    "duration": 0,
    "start_time": "2023-07-21T20:33:26.616Z"
   },
   {
    "duration": 0,
    "start_time": "2023-07-21T20:33:26.617Z"
   },
   {
    "duration": 0,
    "start_time": "2023-07-21T20:33:26.618Z"
   },
   {
    "duration": 0,
    "start_time": "2023-07-21T20:33:26.619Z"
   },
   {
    "duration": 0,
    "start_time": "2023-07-21T20:33:26.620Z"
   },
   {
    "duration": 0,
    "start_time": "2023-07-21T20:33:26.621Z"
   },
   {
    "duration": 0,
    "start_time": "2023-07-21T20:33:26.622Z"
   },
   {
    "duration": 0,
    "start_time": "2023-07-21T20:33:26.623Z"
   },
   {
    "duration": 0,
    "start_time": "2023-07-21T20:33:26.623Z"
   },
   {
    "duration": 0,
    "start_time": "2023-07-21T20:33:26.624Z"
   },
   {
    "duration": 0,
    "start_time": "2023-07-21T20:33:26.625Z"
   },
   {
    "duration": 0,
    "start_time": "2023-07-21T20:33:26.626Z"
   },
   {
    "duration": 0,
    "start_time": "2023-07-21T20:33:26.627Z"
   },
   {
    "duration": 0,
    "start_time": "2023-07-21T20:33:26.628Z"
   },
   {
    "duration": 1527,
    "start_time": "2023-07-21T20:34:41.194Z"
   },
   {
    "duration": 1705,
    "start_time": "2023-07-21T20:35:23.796Z"
   },
   {
    "duration": 951,
    "start_time": "2023-07-21T20:35:47.025Z"
   },
   {
    "duration": 2101,
    "start_time": "2023-07-21T20:36:02.198Z"
   },
   {
    "duration": 5485,
    "start_time": "2023-07-21T20:38:07.693Z"
   },
   {
    "duration": 1606,
    "start_time": "2023-07-21T20:40:21.640Z"
   },
   {
    "duration": 1486,
    "start_time": "2023-07-21T20:41:55.446Z"
   },
   {
    "duration": 2777,
    "start_time": "2023-07-21T20:42:08.386Z"
   },
   {
    "duration": 2946,
    "start_time": "2023-07-21T20:42:40.079Z"
   },
   {
    "duration": 384,
    "start_time": "2023-07-21T20:43:59.558Z"
   },
   {
    "duration": 315,
    "start_time": "2023-07-21T20:44:01.628Z"
   },
   {
    "duration": 339,
    "start_time": "2023-07-21T20:44:10.083Z"
   },
   {
    "duration": 12,
    "start_time": "2023-07-21T20:44:10.886Z"
   },
   {
    "duration": 4,
    "start_time": "2023-07-21T21:09:16.568Z"
   },
   {
    "duration": 19,
    "start_time": "2023-07-21T21:09:24.632Z"
   },
   {
    "duration": 1420,
    "start_time": "2023-07-21T21:12:07.316Z"
   },
   {
    "duration": 403,
    "start_time": "2023-07-21T21:12:08.738Z"
   },
   {
    "duration": 40,
    "start_time": "2023-07-21T21:12:09.143Z"
   },
   {
    "duration": 178,
    "start_time": "2023-07-21T21:12:09.185Z"
   },
   {
    "duration": 67,
    "start_time": "2023-07-21T21:12:09.365Z"
   },
   {
    "duration": 24,
    "start_time": "2023-07-21T21:12:09.434Z"
   },
   {
    "duration": 23,
    "start_time": "2023-07-21T21:12:09.459Z"
   },
   {
    "duration": 144,
    "start_time": "2023-07-21T21:12:09.483Z"
   },
   {
    "duration": 2798,
    "start_time": "2023-07-21T21:12:09.629Z"
   },
   {
    "duration": 312,
    "start_time": "2023-07-21T21:12:12.429Z"
   },
   {
    "duration": 395,
    "start_time": "2023-07-21T21:12:12.743Z"
   },
   {
    "duration": 292,
    "start_time": "2023-07-21T21:12:13.140Z"
   },
   {
    "duration": 18,
    "start_time": "2023-07-21T21:12:13.434Z"
   },
   {
    "duration": 23,
    "start_time": "2023-07-21T21:12:13.454Z"
   },
   {
    "duration": 35,
    "start_time": "2023-07-21T21:12:13.479Z"
   },
   {
    "duration": 103,
    "start_time": "2023-07-21T21:12:13.515Z"
   },
   {
    "duration": 96,
    "start_time": "2023-07-21T21:12:13.621Z"
   },
   {
    "duration": 106,
    "start_time": "2023-07-21T21:12:13.719Z"
   },
   {
    "duration": 86,
    "start_time": "2023-07-21T21:12:13.828Z"
   },
   {
    "duration": 96,
    "start_time": "2023-07-21T21:12:13.916Z"
   },
   {
    "duration": 19,
    "start_time": "2023-07-21T21:12:14.015Z"
   },
   {
    "duration": 46,
    "start_time": "2023-07-21T21:12:14.035Z"
   },
   {
    "duration": 40,
    "start_time": "2023-07-21T21:12:14.082Z"
   },
   {
    "duration": 110,
    "start_time": "2023-07-21T21:12:14.124Z"
   },
   {
    "duration": 22,
    "start_time": "2023-07-21T21:12:14.236Z"
   },
   {
    "duration": 22,
    "start_time": "2023-07-21T21:12:14.260Z"
   },
   {
    "duration": 18,
    "start_time": "2023-07-21T21:12:14.283Z"
   },
   {
    "duration": 20,
    "start_time": "2023-07-21T21:12:14.303Z"
   },
   {
    "duration": 16540,
    "start_time": "2023-07-21T21:12:14.325Z"
   },
   {
    "duration": 16007,
    "start_time": "2023-07-21T21:31:02.474Z"
   },
   {
    "duration": 16387,
    "start_time": "2023-07-21T21:31:57.969Z"
   },
   {
    "duration": 8,
    "start_time": "2023-07-21T21:33:03.571Z"
   },
   {
    "duration": 211,
    "start_time": "2023-07-21T21:35:33.203Z"
   },
   {
    "duration": 234,
    "start_time": "2023-07-21T21:35:52.895Z"
   },
   {
    "duration": 205,
    "start_time": "2023-07-21T21:37:05.736Z"
   },
   {
    "duration": 116,
    "start_time": "2023-07-21T21:38:51.535Z"
   },
   {
    "duration": 8,
    "start_time": "2023-07-21T21:38:57.376Z"
   },
   {
    "duration": 16700,
    "start_time": "2023-07-21T21:39:47.008Z"
   },
   {
    "duration": 10,
    "start_time": "2023-07-21T21:40:03.715Z"
   },
   {
    "duration": 146,
    "start_time": "2023-07-21T21:44:40.343Z"
   },
   {
    "duration": 130,
    "start_time": "2023-07-21T21:44:53.817Z"
   },
   {
    "duration": 129,
    "start_time": "2023-07-21T21:45:04.624Z"
   },
   {
    "duration": 16726,
    "start_time": "2023-07-21T21:45:23.789Z"
   },
   {
    "duration": 0,
    "start_time": "2023-07-21T21:45:40.517Z"
   },
   {
    "duration": 16236,
    "start_time": "2023-07-21T21:46:13.291Z"
   },
   {
    "duration": 8,
    "start_time": "2023-07-21T21:46:29.528Z"
   },
   {
    "duration": 1551,
    "start_time": "2023-07-21T23:56:22.809Z"
   },
   {
    "duration": 403,
    "start_time": "2023-07-21T23:56:24.362Z"
   },
   {
    "duration": 55,
    "start_time": "2023-07-21T23:56:24.767Z"
   },
   {
    "duration": 154,
    "start_time": "2023-07-21T23:56:24.824Z"
   },
   {
    "duration": 72,
    "start_time": "2023-07-21T23:56:24.980Z"
   },
   {
    "duration": 28,
    "start_time": "2023-07-21T23:56:25.054Z"
   },
   {
    "duration": 47,
    "start_time": "2023-07-21T23:56:25.085Z"
   },
   {
    "duration": 123,
    "start_time": "2023-07-21T23:56:25.134Z"
   },
   {
    "duration": 2788,
    "start_time": "2023-07-21T23:56:25.259Z"
   },
   {
    "duration": 335,
    "start_time": "2023-07-21T23:56:28.050Z"
   },
   {
    "duration": 440,
    "start_time": "2023-07-21T23:56:28.387Z"
   },
   {
    "duration": 303,
    "start_time": "2023-07-21T23:56:28.829Z"
   },
   {
    "duration": 18,
    "start_time": "2023-07-21T23:56:29.133Z"
   },
   {
    "duration": 38,
    "start_time": "2023-07-21T23:56:29.154Z"
   },
   {
    "duration": 121,
    "start_time": "2023-07-21T23:56:29.194Z"
   },
   {
    "duration": 5,
    "start_time": "2023-07-21T23:56:29.316Z"
   },
   {
    "duration": 128,
    "start_time": "2023-07-21T23:56:29.323Z"
   },
   {
    "duration": 160,
    "start_time": "2023-07-21T23:56:29.453Z"
   },
   {
    "duration": 44,
    "start_time": "2023-07-21T23:56:29.616Z"
   },
   {
    "duration": 55,
    "start_time": "2023-07-21T23:56:29.662Z"
   },
   {
    "duration": 117,
    "start_time": "2023-07-21T23:56:29.719Z"
   },
   {
    "duration": 0,
    "start_time": "2023-07-21T23:56:29.838Z"
   },
   {
    "duration": 0,
    "start_time": "2023-07-21T23:56:29.840Z"
   },
   {
    "duration": 0,
    "start_time": "2023-07-21T23:56:29.842Z"
   },
   {
    "duration": 0,
    "start_time": "2023-07-21T23:56:29.843Z"
   },
   {
    "duration": 0,
    "start_time": "2023-07-21T23:56:29.845Z"
   },
   {
    "duration": 0,
    "start_time": "2023-07-21T23:56:29.846Z"
   },
   {
    "duration": 0,
    "start_time": "2023-07-21T23:56:29.848Z"
   },
   {
    "duration": 0,
    "start_time": "2023-07-21T23:56:29.849Z"
   },
   {
    "duration": 0,
    "start_time": "2023-07-21T23:56:29.851Z"
   },
   {
    "duration": 0,
    "start_time": "2023-07-21T23:56:29.852Z"
   },
   {
    "duration": 18,
    "start_time": "2023-07-21T23:56:58.948Z"
   },
   {
    "duration": 27,
    "start_time": "2023-07-21T23:56:59.746Z"
   },
   {
    "duration": 6,
    "start_time": "2023-07-21T23:57:00.811Z"
   },
   {
    "duration": 3,
    "start_time": "2023-07-21T23:57:03.635Z"
   },
   {
    "duration": 4,
    "start_time": "2023-07-21T23:57:04.121Z"
   },
   {
    "duration": 3,
    "start_time": "2023-07-21T23:57:04.717Z"
   },
   {
    "duration": 4,
    "start_time": "2023-07-21T23:57:07.991Z"
   },
   {
    "duration": 3,
    "start_time": "2023-07-21T23:57:09.036Z"
   },
   {
    "duration": 16771,
    "start_time": "2023-07-21T23:57:09.473Z"
   },
   {
    "duration": 8,
    "start_time": "2023-07-21T23:57:26.246Z"
   },
   {
    "duration": 2430,
    "start_time": "2023-07-22T07:51:09.503Z"
   },
   {
    "duration": 2008,
    "start_time": "2023-07-22T07:51:11.938Z"
   },
   {
    "duration": 65,
    "start_time": "2023-07-22T07:51:13.950Z"
   },
   {
    "duration": 222,
    "start_time": "2023-07-22T07:51:14.018Z"
   },
   {
    "duration": 83,
    "start_time": "2023-07-22T07:51:14.242Z"
   },
   {
    "duration": 38,
    "start_time": "2023-07-22T07:51:14.326Z"
   },
   {
    "duration": 50,
    "start_time": "2023-07-22T07:51:14.366Z"
   },
   {
    "duration": 148,
    "start_time": "2023-07-22T07:51:14.418Z"
   },
   {
    "duration": 3118,
    "start_time": "2023-07-22T07:51:14.569Z"
   },
   {
    "duration": 404,
    "start_time": "2023-07-22T07:51:17.691Z"
   },
   {
    "duration": 438,
    "start_time": "2023-07-22T07:51:18.097Z"
   },
   {
    "duration": 304,
    "start_time": "2023-07-22T07:51:18.539Z"
   },
   {
    "duration": 22,
    "start_time": "2023-07-22T07:51:18.845Z"
   },
   {
    "duration": 18,
    "start_time": "2023-07-22T07:51:18.868Z"
   },
   {
    "duration": 227,
    "start_time": "2023-07-22T07:51:18.888Z"
   },
   {
    "duration": 24,
    "start_time": "2023-07-22T07:51:19.117Z"
   },
   {
    "duration": 88,
    "start_time": "2023-07-22T07:51:19.143Z"
   },
   {
    "duration": 92,
    "start_time": "2023-07-22T07:51:19.232Z"
   },
   {
    "duration": 100,
    "start_time": "2023-07-22T07:51:19.326Z"
   },
   {
    "duration": 11,
    "start_time": "2023-07-22T07:51:19.429Z"
   },
   {
    "duration": 94,
    "start_time": "2023-07-22T07:51:19.445Z"
   },
   {
    "duration": 177,
    "start_time": "2023-07-22T07:51:19.542Z"
   },
   {
    "duration": 6,
    "start_time": "2023-07-22T07:51:19.722Z"
   },
   {
    "duration": 17,
    "start_time": "2023-07-22T07:51:19.730Z"
   },
   {
    "duration": 65,
    "start_time": "2023-07-22T07:51:19.754Z"
   },
   {
    "duration": 16,
    "start_time": "2023-07-22T07:51:19.822Z"
   },
   {
    "duration": 18,
    "start_time": "2023-07-22T07:51:19.840Z"
   },
   {
    "duration": 16,
    "start_time": "2023-07-22T07:51:19.862Z"
   },
   {
    "duration": 17677,
    "start_time": "2023-07-22T07:51:19.881Z"
   },
   {
    "duration": 8,
    "start_time": "2023-07-22T07:51:37.560Z"
   },
   {
    "duration": 8,
    "start_time": "2023-07-22T10:45:42.428Z"
   },
   {
    "duration": 3,
    "start_time": "2023-07-22T10:45:47.138Z"
   },
   {
    "duration": 42,
    "start_time": "2023-07-22T10:45:48.305Z"
   },
   {
    "duration": 10,
    "start_time": "2023-07-22T10:45:48.516Z"
   },
   {
    "duration": 1558,
    "start_time": "2023-07-22T10:48:04.010Z"
   },
   {
    "duration": 697,
    "start_time": "2023-07-22T10:48:05.570Z"
   },
   {
    "duration": 33,
    "start_time": "2023-07-22T10:48:06.268Z"
   },
   {
    "duration": 120,
    "start_time": "2023-07-22T10:48:06.303Z"
   },
   {
    "duration": 44,
    "start_time": "2023-07-22T10:48:06.424Z"
   },
   {
    "duration": 19,
    "start_time": "2023-07-22T10:48:06.469Z"
   },
   {
    "duration": 44,
    "start_time": "2023-07-22T10:48:06.489Z"
   },
   {
    "duration": 69,
    "start_time": "2023-07-22T10:48:06.534Z"
   },
   {
    "duration": 2555,
    "start_time": "2023-07-22T10:48:06.604Z"
   },
   {
    "duration": 386,
    "start_time": "2023-07-22T10:48:09.161Z"
   },
   {
    "duration": 340,
    "start_time": "2023-07-22T10:48:09.549Z"
   },
   {
    "duration": 289,
    "start_time": "2023-07-22T10:48:09.891Z"
   },
   {
    "duration": 14,
    "start_time": "2023-07-22T10:48:10.182Z"
   },
   {
    "duration": 40,
    "start_time": "2023-07-22T10:48:10.197Z"
   },
   {
    "duration": 90,
    "start_time": "2023-07-22T10:48:10.238Z"
   },
   {
    "duration": 108,
    "start_time": "2023-07-22T10:48:10.330Z"
   },
   {
    "duration": 13,
    "start_time": "2023-07-22T10:48:10.519Z"
   },
   {
    "duration": 186,
    "start_time": "2023-07-22T10:48:10.534Z"
   },
   {
    "duration": 15,
    "start_time": "2023-07-22T10:48:10.722Z"
   },
   {
    "duration": 4,
    "start_time": "2023-07-22T10:48:10.742Z"
   },
   {
    "duration": 173,
    "start_time": "2023-07-22T10:48:10.747Z"
   },
   {
    "duration": 15,
    "start_time": "2023-07-22T10:48:10.922Z"
   },
   {
    "duration": 5,
    "start_time": "2023-07-22T10:48:10.939Z"
   },
   {
    "duration": 99,
    "start_time": "2023-07-22T10:48:11.025Z"
   },
   {
    "duration": 7,
    "start_time": "2023-07-22T10:48:11.126Z"
   },
   {
    "duration": 5,
    "start_time": "2023-07-22T10:48:11.135Z"
   },
   {
    "duration": 6,
    "start_time": "2023-07-22T10:48:11.141Z"
   },
   {
    "duration": 8,
    "start_time": "2023-07-22T10:48:11.149Z"
   },
   {
    "duration": 12095,
    "start_time": "2023-07-22T10:48:11.159Z"
   },
   {
    "duration": 6,
    "start_time": "2023-07-22T10:48:23.256Z"
   },
   {
    "duration": 12364,
    "start_time": "2023-07-22T10:49:42.423Z"
   },
   {
    "duration": 7,
    "start_time": "2023-07-22T10:49:54.789Z"
   },
   {
    "duration": 3,
    "start_time": "2023-07-22T10:55:20.835Z"
   },
   {
    "duration": 3,
    "start_time": "2023-07-22T10:55:21.357Z"
   },
   {
    "duration": 8,
    "start_time": "2023-07-22T10:55:22.528Z"
   },
   {
    "duration": 3,
    "start_time": "2023-07-22T10:55:26.552Z"
   },
   {
    "duration": 1374,
    "start_time": "2023-07-22T10:56:03.003Z"
   },
   {
    "duration": 334,
    "start_time": "2023-07-22T10:56:04.379Z"
   },
   {
    "duration": 38,
    "start_time": "2023-07-22T10:56:04.714Z"
   },
   {
    "duration": 134,
    "start_time": "2023-07-22T10:56:04.753Z"
   },
   {
    "duration": 56,
    "start_time": "2023-07-22T10:56:04.889Z"
   },
   {
    "duration": 44,
    "start_time": "2023-07-22T10:56:04.946Z"
   },
   {
    "duration": 77,
    "start_time": "2023-07-22T10:56:04.992Z"
   },
   {
    "duration": 92,
    "start_time": "2023-07-22T10:56:05.070Z"
   },
   {
    "duration": 2551,
    "start_time": "2023-07-22T10:56:05.164Z"
   },
   {
    "duration": 283,
    "start_time": "2023-07-22T10:56:07.717Z"
   },
   {
    "duration": 331,
    "start_time": "2023-07-22T10:56:08.002Z"
   },
   {
    "duration": 273,
    "start_time": "2023-07-22T10:56:08.334Z"
   },
   {
    "duration": 19,
    "start_time": "2023-07-22T10:56:08.610Z"
   },
   {
    "duration": 30,
    "start_time": "2023-07-22T10:56:08.630Z"
   },
   {
    "duration": 26,
    "start_time": "2023-07-22T10:56:08.662Z"
   },
   {
    "duration": 104,
    "start_time": "2023-07-22T10:56:08.719Z"
   },
   {
    "duration": 12,
    "start_time": "2023-07-22T10:56:08.824Z"
   },
   {
    "duration": 182,
    "start_time": "2023-07-22T10:56:08.838Z"
   },
   {
    "duration": 17,
    "start_time": "2023-07-22T10:56:09.022Z"
   },
   {
    "duration": 82,
    "start_time": "2023-07-22T10:56:09.041Z"
   },
   {
    "duration": 148,
    "start_time": "2023-07-22T10:56:09.125Z"
   },
   {
    "duration": 49,
    "start_time": "2023-07-22T10:56:09.274Z"
   },
   {
    "duration": 98,
    "start_time": "2023-07-22T10:56:09.326Z"
   },
   {
    "duration": 95,
    "start_time": "2023-07-22T10:56:09.429Z"
   },
   {
    "duration": 13,
    "start_time": "2023-07-22T10:56:09.526Z"
   },
   {
    "duration": 7,
    "start_time": "2023-07-22T10:56:09.540Z"
   },
   {
    "duration": 18,
    "start_time": "2023-07-22T10:56:09.549Z"
   },
   {
    "duration": 11,
    "start_time": "2023-07-22T10:56:09.570Z"
   },
   {
    "duration": 12351,
    "start_time": "2023-07-22T10:56:09.583Z"
   },
   {
    "duration": 6,
    "start_time": "2023-07-22T10:56:21.936Z"
   },
   {
    "duration": 1356,
    "start_time": "2023-07-22T12:11:53.109Z"
   },
   {
    "duration": 345,
    "start_time": "2023-07-22T12:11:54.467Z"
   },
   {
    "duration": 35,
    "start_time": "2023-07-22T12:11:54.813Z"
   },
   {
    "duration": 129,
    "start_time": "2023-07-22T12:11:54.850Z"
   },
   {
    "duration": 52,
    "start_time": "2023-07-22T12:11:54.980Z"
   },
   {
    "duration": 20,
    "start_time": "2023-07-22T12:11:55.034Z"
   },
   {
    "duration": 25,
    "start_time": "2023-07-22T12:11:55.055Z"
   },
   {
    "duration": 96,
    "start_time": "2023-07-22T12:11:55.081Z"
   },
   {
    "duration": 2784,
    "start_time": "2023-07-22T12:11:55.179Z"
   },
   {
    "duration": 346,
    "start_time": "2023-07-22T12:11:57.966Z"
   },
   {
    "duration": 329,
    "start_time": "2023-07-22T12:11:58.313Z"
   },
   {
    "duration": 264,
    "start_time": "2023-07-22T12:11:58.643Z"
   },
   {
    "duration": 21,
    "start_time": "2023-07-22T12:11:58.908Z"
   },
   {
    "duration": 58,
    "start_time": "2023-07-22T12:11:58.930Z"
   },
   {
    "duration": 35,
    "start_time": "2023-07-22T12:11:58.990Z"
   },
   {
    "duration": 120,
    "start_time": "2023-07-22T12:11:59.027Z"
   },
   {
    "duration": 73,
    "start_time": "2023-07-22T12:11:59.150Z"
   },
   {
    "duration": 115,
    "start_time": "2023-07-22T12:11:59.224Z"
   },
   {
    "duration": 91,
    "start_time": "2023-07-22T12:11:59.340Z"
   },
   {
    "duration": 92,
    "start_time": "2023-07-22T12:11:59.433Z"
   },
   {
    "duration": 102,
    "start_time": "2023-07-22T12:11:59.527Z"
   },
   {
    "duration": 15,
    "start_time": "2023-07-22T12:11:59.631Z"
   },
   {
    "duration": 175,
    "start_time": "2023-07-22T12:11:59.647Z"
   },
   {
    "duration": 8,
    "start_time": "2023-07-22T12:11:59.824Z"
   },
   {
    "duration": 7,
    "start_time": "2023-07-22T12:11:59.833Z"
   },
   {
    "duration": 6,
    "start_time": "2023-07-22T12:11:59.841Z"
   },
   {
    "duration": 7,
    "start_time": "2023-07-22T12:11:59.848Z"
   },
   {
    "duration": 5,
    "start_time": "2023-07-22T12:11:59.857Z"
   },
   {
    "duration": 3268,
    "start_time": "2023-07-22T12:11:59.863Z"
   },
   {
    "duration": 12,
    "start_time": "2023-07-22T12:12:03.132Z"
   },
   {
    "duration": 73,
    "start_time": "2023-07-22T12:12:03.146Z"
   },
   {
    "duration": 1300,
    "start_time": "2023-07-22T12:12:43.573Z"
   },
   {
    "duration": 353,
    "start_time": "2023-07-22T12:12:44.875Z"
   },
   {
    "duration": 34,
    "start_time": "2023-07-22T12:12:45.229Z"
   },
   {
    "duration": 132,
    "start_time": "2023-07-22T12:12:45.265Z"
   },
   {
    "duration": 49,
    "start_time": "2023-07-22T12:12:45.399Z"
   },
   {
    "duration": 17,
    "start_time": "2023-07-22T12:12:45.449Z"
   },
   {
    "duration": 20,
    "start_time": "2023-07-22T12:12:45.468Z"
   },
   {
    "duration": 86,
    "start_time": "2023-07-22T12:12:45.489Z"
   },
   {
    "duration": 2519,
    "start_time": "2023-07-22T12:12:45.576Z"
   },
   {
    "duration": 301,
    "start_time": "2023-07-22T12:12:48.098Z"
   },
   {
    "duration": 332,
    "start_time": "2023-07-22T12:12:48.401Z"
   },
   {
    "duration": 262,
    "start_time": "2023-07-22T12:12:48.735Z"
   },
   {
    "duration": 23,
    "start_time": "2023-07-22T12:12:48.999Z"
   },
   {
    "duration": 41,
    "start_time": "2023-07-22T12:12:49.024Z"
   },
   {
    "duration": 25,
    "start_time": "2023-07-22T12:12:49.066Z"
   },
   {
    "duration": 131,
    "start_time": "2023-07-22T12:12:49.092Z"
   },
   {
    "duration": 30,
    "start_time": "2023-07-22T12:12:49.224Z"
   },
   {
    "duration": 162,
    "start_time": "2023-07-22T12:12:49.258Z"
   },
   {
    "duration": 15,
    "start_time": "2023-07-22T12:12:49.422Z"
   },
   {
    "duration": 87,
    "start_time": "2023-07-22T12:12:49.439Z"
   },
   {
    "duration": 113,
    "start_time": "2023-07-22T12:12:49.528Z"
   },
   {
    "duration": 24,
    "start_time": "2023-07-22T12:12:49.642Z"
   },
   {
    "duration": 155,
    "start_time": "2023-07-22T12:12:49.668Z"
   },
   {
    "duration": 53,
    "start_time": "2023-07-22T12:12:49.824Z"
   },
   {
    "duration": 22,
    "start_time": "2023-07-22T12:12:49.878Z"
   },
   {
    "duration": 22,
    "start_time": "2023-07-22T12:12:49.901Z"
   },
   {
    "duration": 22,
    "start_time": "2023-07-22T12:12:49.924Z"
   },
   {
    "duration": 39,
    "start_time": "2023-07-22T12:12:49.949Z"
   },
   {
    "duration": 3052,
    "start_time": "2023-07-22T12:12:49.989Z"
   },
   {
    "duration": 12,
    "start_time": "2023-07-22T12:12:53.043Z"
   },
   {
    "duration": 29,
    "start_time": "2023-07-22T12:12:53.057Z"
   },
   {
    "duration": 47,
    "start_time": "2023-07-22T12:13:32.506Z"
   },
   {
    "duration": 37,
    "start_time": "2023-07-22T12:14:13.867Z"
   },
   {
    "duration": 4,
    "start_time": "2023-07-22T12:14:33.653Z"
   }
  ],
  "kernelspec": {
   "display_name": "Python 3 (ipykernel)",
   "language": "python",
   "name": "python3"
  },
  "language_info": {
   "codemirror_mode": {
    "name": "ipython",
    "version": 3
   },
   "file_extension": ".py",
   "mimetype": "text/x-python",
   "name": "python",
   "nbconvert_exporter": "python",
   "pygments_lexer": "ipython3",
   "version": "3.11.5"
  },
  "toc": {
   "base_numbering": 1,
   "nav_menu": {},
   "number_sections": true,
   "sideBar": true,
   "skip_h1_title": true,
   "title_cell": "Table of Contents",
   "title_sidebar": "Contents",
   "toc_cell": false,
   "toc_position": {},
   "toc_section_display": true,
   "toc_window_display": false
  }
 },
 "nbformat": 4,
 "nbformat_minor": 2
}
