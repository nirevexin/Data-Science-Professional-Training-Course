{
 "cells": [
  {
   "cell_type": "markdown",
   "metadata": {},
   "source": [
    "# Project: protection of clients personal data"
   ]
  },
  {
   "cell_type": "markdown",
   "metadata": {},
   "source": [
    "## Importing the necessary libraries"
   ]
  },
  {
   "cell_type": "code",
   "execution_count": 1,
   "metadata": {},
   "outputs": [],
   "source": [
    "import pandas as pd\n",
    "\n",
    "import numpy as np\n",
    "from numpy.linalg import inv, det\n",
    "\n",
    "import os\n",
    "\n",
    "import seaborn as sns\n",
    "import matplotlib.pyplot as plt\n",
    "\n",
    "from sklearn.linear_model import LinearRegression\n",
    "from sklearn.metrics import r2_score\n",
    "from sklearn.preprocessing import StandardScaler\n",
    "from sklearn.model_selection import train_test_split as tts"
   ]
  },
  {
   "cell_type": "markdown",
   "metadata": {},
   "source": [
    "## Loading the data"
   ]
  },
  {
   "cell_type": "code",
   "execution_count": 2,
   "metadata": {},
   "outputs": [],
   "source": [
    "pth1 = r'C:\\Users\\exeve\\Downloads\\insurance.csv'\n",
    "pth2 = '/datasets/insurance.csv'\n",
    "\n",
    "if os.path.exists(pth1):\n",
    "    data = pd.read_csv(pth1)\n",
    "    \n",
    "else:   \n",
    "    data = pd.read_csv(pth2)"
   ]
  },
  {
   "cell_type": "code",
   "execution_count": 3,
   "metadata": {},
   "outputs": [],
   "source": [
    "pd.set_option('display.max_columns', None)\n",
    "pd.set_option('display.max_rows', None)"
   ]
  },
  {
   "cell_type": "markdown",
   "metadata": {},
   "source": [
    "## Analyzing the data"
   ]
  },
  {
   "cell_type": "code",
   "execution_count": 4,
   "metadata": {},
   "outputs": [
    {
     "name": "stdout",
     "output_type": "stream",
     "text": [
      "<class 'pandas.core.frame.DataFrame'>\n",
      "RangeIndex: 5000 entries, 0 to 4999\n",
      "Data columns (total 5 columns):\n",
      " #   Column             Non-Null Count  Dtype  \n",
      "---  ------             --------------  -----  \n",
      " 0   Пол                5000 non-null   int64  \n",
      " 1   Возраст            5000 non-null   float64\n",
      " 2   Зарплата           5000 non-null   float64\n",
      " 3   Члены семьи        5000 non-null   int64  \n",
      " 4   Страховые выплаты  5000 non-null   int64  \n",
      "dtypes: float64(2), int64(3)\n",
      "memory usage: 195.4 KB\n"
     ]
    }
   ],
   "source": [
    "data.info()"
   ]
  },
  {
   "cell_type": "code",
   "execution_count": 5,
   "metadata": {},
   "outputs": [],
   "source": [
    "# renaming the columns for convenience\n",
    "data.columns = ['gender', 'age','salary', 'family_members', 'insurance_payments']"
   ]
  },
  {
   "cell_type": "code",
   "execution_count": 6,
   "metadata": {},
   "outputs": [
    {
     "data": {
      "text/html": [
       "<div>\n",
       "<style scoped>\n",
       "    .dataframe tbody tr th:only-of-type {\n",
       "        vertical-align: middle;\n",
       "    }\n",
       "\n",
       "    .dataframe tbody tr th {\n",
       "        vertical-align: top;\n",
       "    }\n",
       "\n",
       "    .dataframe thead th {\n",
       "        text-align: right;\n",
       "    }\n",
       "</style>\n",
       "<table border=\"1\" class=\"dataframe\">\n",
       "  <thead>\n",
       "    <tr style=\"text-align: right;\">\n",
       "      <th></th>\n",
       "      <th>gender</th>\n",
       "      <th>age</th>\n",
       "      <th>salary</th>\n",
       "      <th>family_members</th>\n",
       "      <th>insurance_payments</th>\n",
       "    </tr>\n",
       "  </thead>\n",
       "  <tbody>\n",
       "    <tr>\n",
       "      <th>count</th>\n",
       "      <td>5000.000000</td>\n",
       "      <td>5000.000000</td>\n",
       "      <td>5000.000000</td>\n",
       "      <td>5000.000000</td>\n",
       "      <td>5000.000000</td>\n",
       "    </tr>\n",
       "    <tr>\n",
       "      <th>mean</th>\n",
       "      <td>0.499000</td>\n",
       "      <td>30.952800</td>\n",
       "      <td>39916.360000</td>\n",
       "      <td>1.194200</td>\n",
       "      <td>0.148000</td>\n",
       "    </tr>\n",
       "    <tr>\n",
       "      <th>std</th>\n",
       "      <td>0.500049</td>\n",
       "      <td>8.440807</td>\n",
       "      <td>9900.083569</td>\n",
       "      <td>1.091387</td>\n",
       "      <td>0.463183</td>\n",
       "    </tr>\n",
       "    <tr>\n",
       "      <th>min</th>\n",
       "      <td>0.000000</td>\n",
       "      <td>18.000000</td>\n",
       "      <td>5300.000000</td>\n",
       "      <td>0.000000</td>\n",
       "      <td>0.000000</td>\n",
       "    </tr>\n",
       "    <tr>\n",
       "      <th>25%</th>\n",
       "      <td>0.000000</td>\n",
       "      <td>24.000000</td>\n",
       "      <td>33300.000000</td>\n",
       "      <td>0.000000</td>\n",
       "      <td>0.000000</td>\n",
       "    </tr>\n",
       "    <tr>\n",
       "      <th>50%</th>\n",
       "      <td>0.000000</td>\n",
       "      <td>30.000000</td>\n",
       "      <td>40200.000000</td>\n",
       "      <td>1.000000</td>\n",
       "      <td>0.000000</td>\n",
       "    </tr>\n",
       "    <tr>\n",
       "      <th>75%</th>\n",
       "      <td>1.000000</td>\n",
       "      <td>37.000000</td>\n",
       "      <td>46600.000000</td>\n",
       "      <td>2.000000</td>\n",
       "      <td>0.000000</td>\n",
       "    </tr>\n",
       "    <tr>\n",
       "      <th>max</th>\n",
       "      <td>1.000000</td>\n",
       "      <td>65.000000</td>\n",
       "      <td>79000.000000</td>\n",
       "      <td>6.000000</td>\n",
       "      <td>5.000000</td>\n",
       "    </tr>\n",
       "  </tbody>\n",
       "</table>\n",
       "</div>"
      ],
      "text/plain": [
       "            gender          age        salary  family_members  \\\n",
       "count  5000.000000  5000.000000   5000.000000     5000.000000   \n",
       "mean      0.499000    30.952800  39916.360000        1.194200   \n",
       "std       0.500049     8.440807   9900.083569        1.091387   \n",
       "min       0.000000    18.000000   5300.000000        0.000000   \n",
       "25%       0.000000    24.000000  33300.000000        0.000000   \n",
       "50%       0.000000    30.000000  40200.000000        1.000000   \n",
       "75%       1.000000    37.000000  46600.000000        2.000000   \n",
       "max       1.000000    65.000000  79000.000000        6.000000   \n",
       "\n",
       "       insurance_payments  \n",
       "count         5000.000000  \n",
       "mean             0.148000  \n",
       "std              0.463183  \n",
       "min              0.000000  \n",
       "25%              0.000000  \n",
       "50%              0.000000  \n",
       "75%              0.000000  \n",
       "max              5.000000  "
      ]
     },
     "execution_count": 6,
     "metadata": {},
     "output_type": "execute_result"
    }
   ],
   "source": [
    "data.describe()"
   ]
  },
  {
   "cell_type": "markdown",
   "metadata": {},
   "source": [
    "#### Columns overview"
   ]
  },
  {
   "cell_type": "code",
   "execution_count": 7,
   "metadata": {},
   "outputs": [],
   "source": [
    "def histo(data):\n",
    "    for column in data:\n",
    "        sns.histplot(data[column])\n",
    "        plt.show()\n"
   ]
  },
  {
   "cell_type": "code",
   "execution_count": 8,
   "metadata": {},
   "outputs": [
    {
     "data": {
      "image/png": "[encoded data removed]",
      "text/plain": [
       "<Figure size 640x480 with 1 Axes>"
      ]
     },
     "metadata": {},
     "output_type": "display_data"
    },
    {
     "data": {
      "image/png": "[encoded data removed]",
      "text/plain": [
       "<Figure size 640x480 with 1 Axes>"
      ]
     },
     "metadata": {},
     "output_type": "display_data"
    },
    {
     "data": {
      "image/png": "[encoded data removed]",
      "text/plain": [
       "<Figure size 640x480 with 1 Axes>"
      ]
     },
     "metadata": {},
     "output_type": "display_data"
    },
    {
     "data": {
      "image/png": "[encoded data removed]",
      "text/plain": [
       "<Figure size 640x480 with 1 Axes>"
      ]
     },
     "metadata": {},
     "output_type": "display_data"
    },
    {
     "data": {
      "image/png": "[encoded data removed]",
      "text/plain": [
       "<Figure size 640x480 with 1 Axes>"
      ]
     },
     "metadata": {},
     "output_type": "display_data"
    }
   ],
   "source": [
    "histo(data)"
   ]
  },
  {
   "cell_type": "markdown",
   "metadata": {},
   "source": [
    "No strange indicators."
   ]
  },
  {
   "cell_type": "markdown",
   "metadata": {},
   "source": [
    "#### Duplicates"
   ]
  },
  {
   "cell_type": "code",
   "execution_count": 9,
   "metadata": {},
   "outputs": [
    {
     "data": {
      "text/plain": [
       "153"
      ]
     },
     "execution_count": 9,
     "metadata": {},
     "output_type": "execute_result"
    }
   ],
   "source": [
    "data.duplicated().sum()"
   ]
  },
  {
   "cell_type": "code",
   "execution_count": 10,
   "metadata": {},
   "outputs": [
    {
     "data": {
      "text/html": [
       "<div>\n",
       "<style scoped>\n",
       "    .dataframe tbody tr th:only-of-type {\n",
       "        vertical-align: middle;\n",
       "    }\n",
       "\n",
       "    .dataframe tbody tr th {\n",
       "        vertical-align: top;\n",
       "    }\n",
       "\n",
       "    .dataframe thead th {\n",
       "        text-align: right;\n",
       "    }\n",
       "</style>\n",
       "<table border=\"1\" class=\"dataframe\">\n",
       "  <thead>\n",
       "    <tr style=\"text-align: right;\">\n",
       "      <th></th>\n",
       "      <th>gender</th>\n",
       "      <th>age</th>\n",
       "      <th>salary</th>\n",
       "      <th>family_members</th>\n",
       "      <th>insurance_payments</th>\n",
       "    </tr>\n",
       "  </thead>\n",
       "  <tbody>\n",
       "    <tr>\n",
       "      <th>281</th>\n",
       "      <td>1</td>\n",
       "      <td>39.0</td>\n",
       "      <td>48100.0</td>\n",
       "      <td>1</td>\n",
       "      <td>0</td>\n",
       "    </tr>\n",
       "    <tr>\n",
       "      <th>488</th>\n",
       "      <td>1</td>\n",
       "      <td>24.0</td>\n",
       "      <td>32900.0</td>\n",
       "      <td>1</td>\n",
       "      <td>0</td>\n",
       "    </tr>\n",
       "    <tr>\n",
       "      <th>513</th>\n",
       "      <td>0</td>\n",
       "      <td>31.0</td>\n",
       "      <td>37400.0</td>\n",
       "      <td>2</td>\n",
       "      <td>0</td>\n",
       "    </tr>\n",
       "    <tr>\n",
       "      <th>718</th>\n",
       "      <td>1</td>\n",
       "      <td>22.0</td>\n",
       "      <td>32600.0</td>\n",
       "      <td>1</td>\n",
       "      <td>0</td>\n",
       "    </tr>\n",
       "    <tr>\n",
       "      <th>785</th>\n",
       "      <td>0</td>\n",
       "      <td>20.0</td>\n",
       "      <td>35800.0</td>\n",
       "      <td>0</td>\n",
       "      <td>0</td>\n",
       "    </tr>\n",
       "    <tr>\n",
       "      <th>869</th>\n",
       "      <td>1</td>\n",
       "      <td>24.0</td>\n",
       "      <td>33100.0</td>\n",
       "      <td>1</td>\n",
       "      <td>0</td>\n",
       "    </tr>\n",
       "    <tr>\n",
       "      <th>887</th>\n",
       "      <td>1</td>\n",
       "      <td>19.0</td>\n",
       "      <td>35500.0</td>\n",
       "      <td>0</td>\n",
       "      <td>0</td>\n",
       "    </tr>\n",
       "    <tr>\n",
       "      <th>1004</th>\n",
       "      <td>1</td>\n",
       "      <td>29.0</td>\n",
       "      <td>42400.0</td>\n",
       "      <td>0</td>\n",
       "      <td>0</td>\n",
       "    </tr>\n",
       "    <tr>\n",
       "      <th>1089</th>\n",
       "      <td>0</td>\n",
       "      <td>27.0</td>\n",
       "      <td>46800.0</td>\n",
       "      <td>2</td>\n",
       "      <td>0</td>\n",
       "    </tr>\n",
       "    <tr>\n",
       "      <th>1091</th>\n",
       "      <td>1</td>\n",
       "      <td>41.0</td>\n",
       "      <td>34000.0</td>\n",
       "      <td>1</td>\n",
       "      <td>0</td>\n",
       "    </tr>\n",
       "    <tr>\n",
       "      <th>1140</th>\n",
       "      <td>1</td>\n",
       "      <td>34.0</td>\n",
       "      <td>26900.0</td>\n",
       "      <td>0</td>\n",
       "      <td>0</td>\n",
       "    </tr>\n",
       "    <tr>\n",
       "      <th>1251</th>\n",
       "      <td>1</td>\n",
       "      <td>37.0</td>\n",
       "      <td>31200.0</td>\n",
       "      <td>2</td>\n",
       "      <td>0</td>\n",
       "    </tr>\n",
       "    <tr>\n",
       "      <th>1281</th>\n",
       "      <td>1</td>\n",
       "      <td>24.0</td>\n",
       "      <td>53900.0</td>\n",
       "      <td>2</td>\n",
       "      <td>0</td>\n",
       "    </tr>\n",
       "    <tr>\n",
       "      <th>1317</th>\n",
       "      <td>0</td>\n",
       "      <td>25.0</td>\n",
       "      <td>45900.0</td>\n",
       "      <td>1</td>\n",
       "      <td>0</td>\n",
       "    </tr>\n",
       "    <tr>\n",
       "      <th>1340</th>\n",
       "      <td>1</td>\n",
       "      <td>20.0</td>\n",
       "      <td>37400.0</td>\n",
       "      <td>2</td>\n",
       "      <td>0</td>\n",
       "    </tr>\n",
       "    <tr>\n",
       "      <th>1485</th>\n",
       "      <td>1</td>\n",
       "      <td>41.0</td>\n",
       "      <td>32700.0</td>\n",
       "      <td>0</td>\n",
       "      <td>0</td>\n",
       "    </tr>\n",
       "    <tr>\n",
       "      <th>1559</th>\n",
       "      <td>1</td>\n",
       "      <td>32.0</td>\n",
       "      <td>36900.0</td>\n",
       "      <td>0</td>\n",
       "      <td>0</td>\n",
       "    </tr>\n",
       "    <tr>\n",
       "      <th>1588</th>\n",
       "      <td>0</td>\n",
       "      <td>35.0</td>\n",
       "      <td>44000.0</td>\n",
       "      <td>1</td>\n",
       "      <td>0</td>\n",
       "    </tr>\n",
       "    <tr>\n",
       "      <th>1598</th>\n",
       "      <td>0</td>\n",
       "      <td>28.0</td>\n",
       "      <td>39800.0</td>\n",
       "      <td>1</td>\n",
       "      <td>0</td>\n",
       "    </tr>\n",
       "    <tr>\n",
       "      <th>1604</th>\n",
       "      <td>0</td>\n",
       "      <td>26.0</td>\n",
       "      <td>43400.0</td>\n",
       "      <td>1</td>\n",
       "      <td>0</td>\n",
       "    </tr>\n",
       "    <tr>\n",
       "      <th>1667</th>\n",
       "      <td>1</td>\n",
       "      <td>30.0</td>\n",
       "      <td>49900.0</td>\n",
       "      <td>1</td>\n",
       "      <td>0</td>\n",
       "    </tr>\n",
       "    <tr>\n",
       "      <th>1671</th>\n",
       "      <td>1</td>\n",
       "      <td>23.0</td>\n",
       "      <td>41900.0</td>\n",
       "      <td>2</td>\n",
       "      <td>0</td>\n",
       "    </tr>\n",
       "    <tr>\n",
       "      <th>1724</th>\n",
       "      <td>0</td>\n",
       "      <td>32.0</td>\n",
       "      <td>43800.0</td>\n",
       "      <td>1</td>\n",
       "      <td>0</td>\n",
       "    </tr>\n",
       "    <tr>\n",
       "      <th>1728</th>\n",
       "      <td>0</td>\n",
       "      <td>30.0</td>\n",
       "      <td>37800.0</td>\n",
       "      <td>0</td>\n",
       "      <td>0</td>\n",
       "    </tr>\n",
       "    <tr>\n",
       "      <th>1742</th>\n",
       "      <td>1</td>\n",
       "      <td>28.0</td>\n",
       "      <td>59900.0</td>\n",
       "      <td>0</td>\n",
       "      <td>0</td>\n",
       "    </tr>\n",
       "    <tr>\n",
       "      <th>1758</th>\n",
       "      <td>1</td>\n",
       "      <td>23.0</td>\n",
       "      <td>33100.0</td>\n",
       "      <td>1</td>\n",
       "      <td>0</td>\n",
       "    </tr>\n",
       "    <tr>\n",
       "      <th>1807</th>\n",
       "      <td>1</td>\n",
       "      <td>33.0</td>\n",
       "      <td>40900.0</td>\n",
       "      <td>1</td>\n",
       "      <td>0</td>\n",
       "    </tr>\n",
       "    <tr>\n",
       "      <th>1815</th>\n",
       "      <td>1</td>\n",
       "      <td>27.0</td>\n",
       "      <td>38700.0</td>\n",
       "      <td>2</td>\n",
       "      <td>0</td>\n",
       "    </tr>\n",
       "    <tr>\n",
       "      <th>1893</th>\n",
       "      <td>1</td>\n",
       "      <td>30.0</td>\n",
       "      <td>49900.0</td>\n",
       "      <td>1</td>\n",
       "      <td>0</td>\n",
       "    </tr>\n",
       "    <tr>\n",
       "      <th>1928</th>\n",
       "      <td>0</td>\n",
       "      <td>33.0</td>\n",
       "      <td>41500.0</td>\n",
       "      <td>1</td>\n",
       "      <td>0</td>\n",
       "    </tr>\n",
       "    <tr>\n",
       "      <th>2055</th>\n",
       "      <td>1</td>\n",
       "      <td>32.0</td>\n",
       "      <td>47100.0</td>\n",
       "      <td>1</td>\n",
       "      <td>0</td>\n",
       "    </tr>\n",
       "    <tr>\n",
       "      <th>2139</th>\n",
       "      <td>1</td>\n",
       "      <td>26.0</td>\n",
       "      <td>43900.0</td>\n",
       "      <td>0</td>\n",
       "      <td>0</td>\n",
       "    </tr>\n",
       "    <tr>\n",
       "      <th>2176</th>\n",
       "      <td>0</td>\n",
       "      <td>36.0</td>\n",
       "      <td>31700.0</td>\n",
       "      <td>1</td>\n",
       "      <td>0</td>\n",
       "    </tr>\n",
       "    <tr>\n",
       "      <th>2198</th>\n",
       "      <td>0</td>\n",
       "      <td>21.0</td>\n",
       "      <td>40400.0</td>\n",
       "      <td>3</td>\n",
       "      <td>0</td>\n",
       "    </tr>\n",
       "    <tr>\n",
       "      <th>2231</th>\n",
       "      <td>0</td>\n",
       "      <td>33.0</td>\n",
       "      <td>59300.0</td>\n",
       "      <td>2</td>\n",
       "      <td>0</td>\n",
       "    </tr>\n",
       "    <tr>\n",
       "      <th>2269</th>\n",
       "      <td>1</td>\n",
       "      <td>19.0</td>\n",
       "      <td>43200.0</td>\n",
       "      <td>1</td>\n",
       "      <td>0</td>\n",
       "    </tr>\n",
       "    <tr>\n",
       "      <th>2274</th>\n",
       "      <td>1</td>\n",
       "      <td>41.0</td>\n",
       "      <td>30200.0</td>\n",
       "      <td>0</td>\n",
       "      <td>0</td>\n",
       "    </tr>\n",
       "    <tr>\n",
       "      <th>2318</th>\n",
       "      <td>0</td>\n",
       "      <td>35.0</td>\n",
       "      <td>42500.0</td>\n",
       "      <td>0</td>\n",
       "      <td>0</td>\n",
       "    </tr>\n",
       "    <tr>\n",
       "      <th>2409</th>\n",
       "      <td>1</td>\n",
       "      <td>20.0</td>\n",
       "      <td>46700.0</td>\n",
       "      <td>0</td>\n",
       "      <td>0</td>\n",
       "    </tr>\n",
       "    <tr>\n",
       "      <th>2429</th>\n",
       "      <td>1</td>\n",
       "      <td>18.0</td>\n",
       "      <td>39800.0</td>\n",
       "      <td>2</td>\n",
       "      <td>0</td>\n",
       "    </tr>\n",
       "    <tr>\n",
       "      <th>2450</th>\n",
       "      <td>1</td>\n",
       "      <td>33.0</td>\n",
       "      <td>43700.0</td>\n",
       "      <td>2</td>\n",
       "      <td>0</td>\n",
       "    </tr>\n",
       "    <tr>\n",
       "      <th>2460</th>\n",
       "      <td>0</td>\n",
       "      <td>27.0</td>\n",
       "      <td>34200.0</td>\n",
       "      <td>2</td>\n",
       "      <td>0</td>\n",
       "    </tr>\n",
       "    <tr>\n",
       "      <th>2465</th>\n",
       "      <td>0</td>\n",
       "      <td>40.0</td>\n",
       "      <td>54000.0</td>\n",
       "      <td>2</td>\n",
       "      <td>0</td>\n",
       "    </tr>\n",
       "    <tr>\n",
       "      <th>2470</th>\n",
       "      <td>0</td>\n",
       "      <td>34.0</td>\n",
       "      <td>39900.0</td>\n",
       "      <td>0</td>\n",
       "      <td>0</td>\n",
       "    </tr>\n",
       "    <tr>\n",
       "      <th>2486</th>\n",
       "      <td>1</td>\n",
       "      <td>31.0</td>\n",
       "      <td>37200.0</td>\n",
       "      <td>1</td>\n",
       "      <td>0</td>\n",
       "    </tr>\n",
       "    <tr>\n",
       "      <th>2501</th>\n",
       "      <td>0</td>\n",
       "      <td>25.0</td>\n",
       "      <td>28300.0</td>\n",
       "      <td>0</td>\n",
       "      <td>0</td>\n",
       "    </tr>\n",
       "    <tr>\n",
       "      <th>2512</th>\n",
       "      <td>1</td>\n",
       "      <td>19.0</td>\n",
       "      <td>43200.0</td>\n",
       "      <td>1</td>\n",
       "      <td>0</td>\n",
       "    </tr>\n",
       "    <tr>\n",
       "      <th>2526</th>\n",
       "      <td>0</td>\n",
       "      <td>25.0</td>\n",
       "      <td>37600.0</td>\n",
       "      <td>1</td>\n",
       "      <td>0</td>\n",
       "    </tr>\n",
       "    <tr>\n",
       "      <th>2534</th>\n",
       "      <td>0</td>\n",
       "      <td>26.0</td>\n",
       "      <td>46700.0</td>\n",
       "      <td>0</td>\n",
       "      <td>0</td>\n",
       "    </tr>\n",
       "    <tr>\n",
       "      <th>2553</th>\n",
       "      <td>0</td>\n",
       "      <td>26.0</td>\n",
       "      <td>36100.0</td>\n",
       "      <td>1</td>\n",
       "      <td>0</td>\n",
       "    </tr>\n",
       "    <tr>\n",
       "      <th>2565</th>\n",
       "      <td>1</td>\n",
       "      <td>31.0</td>\n",
       "      <td>27900.0</td>\n",
       "      <td>1</td>\n",
       "      <td>0</td>\n",
       "    </tr>\n",
       "    <tr>\n",
       "      <th>2589</th>\n",
       "      <td>0</td>\n",
       "      <td>31.0</td>\n",
       "      <td>42100.0</td>\n",
       "      <td>0</td>\n",
       "      <td>0</td>\n",
       "    </tr>\n",
       "    <tr>\n",
       "      <th>2590</th>\n",
       "      <td>0</td>\n",
       "      <td>38.0</td>\n",
       "      <td>40200.0</td>\n",
       "      <td>0</td>\n",
       "      <td>0</td>\n",
       "    </tr>\n",
       "    <tr>\n",
       "      <th>2602</th>\n",
       "      <td>1</td>\n",
       "      <td>27.0</td>\n",
       "      <td>35000.0</td>\n",
       "      <td>1</td>\n",
       "      <td>0</td>\n",
       "    </tr>\n",
       "    <tr>\n",
       "      <th>2623</th>\n",
       "      <td>0</td>\n",
       "      <td>28.0</td>\n",
       "      <td>43000.0</td>\n",
       "      <td>0</td>\n",
       "      <td>0</td>\n",
       "    </tr>\n",
       "    <tr>\n",
       "      <th>2654</th>\n",
       "      <td>0</td>\n",
       "      <td>20.0</td>\n",
       "      <td>36800.0</td>\n",
       "      <td>0</td>\n",
       "      <td>0</td>\n",
       "    </tr>\n",
       "    <tr>\n",
       "      <th>2662</th>\n",
       "      <td>0</td>\n",
       "      <td>22.0</td>\n",
       "      <td>33800.0</td>\n",
       "      <td>1</td>\n",
       "      <td>0</td>\n",
       "    </tr>\n",
       "    <tr>\n",
       "      <th>2694</th>\n",
       "      <td>1</td>\n",
       "      <td>19.0</td>\n",
       "      <td>52600.0</td>\n",
       "      <td>0</td>\n",
       "      <td>0</td>\n",
       "    </tr>\n",
       "    <tr>\n",
       "      <th>2723</th>\n",
       "      <td>0</td>\n",
       "      <td>36.0</td>\n",
       "      <td>26400.0</td>\n",
       "      <td>0</td>\n",
       "      <td>0</td>\n",
       "    </tr>\n",
       "    <tr>\n",
       "      <th>2819</th>\n",
       "      <td>0</td>\n",
       "      <td>37.0</td>\n",
       "      <td>37300.0</td>\n",
       "      <td>1</td>\n",
       "      <td>0</td>\n",
       "    </tr>\n",
       "    <tr>\n",
       "      <th>2840</th>\n",
       "      <td>1</td>\n",
       "      <td>22.0</td>\n",
       "      <td>36200.0</td>\n",
       "      <td>1</td>\n",
       "      <td>0</td>\n",
       "    </tr>\n",
       "    <tr>\n",
       "      <th>2844</th>\n",
       "      <td>1</td>\n",
       "      <td>28.0</td>\n",
       "      <td>41100.0</td>\n",
       "      <td>0</td>\n",
       "      <td>0</td>\n",
       "    </tr>\n",
       "    <tr>\n",
       "      <th>2853</th>\n",
       "      <td>0</td>\n",
       "      <td>19.0</td>\n",
       "      <td>51700.0</td>\n",
       "      <td>0</td>\n",
       "      <td>0</td>\n",
       "    </tr>\n",
       "    <tr>\n",
       "      <th>2869</th>\n",
       "      <td>0</td>\n",
       "      <td>50.0</td>\n",
       "      <td>24700.0</td>\n",
       "      <td>1</td>\n",
       "      <td>2</td>\n",
       "    </tr>\n",
       "    <tr>\n",
       "      <th>2881</th>\n",
       "      <td>0</td>\n",
       "      <td>28.0</td>\n",
       "      <td>39800.0</td>\n",
       "      <td>1</td>\n",
       "      <td>0</td>\n",
       "    </tr>\n",
       "    <tr>\n",
       "      <th>2969</th>\n",
       "      <td>0</td>\n",
       "      <td>37.0</td>\n",
       "      <td>42500.0</td>\n",
       "      <td>1</td>\n",
       "      <td>0</td>\n",
       "    </tr>\n",
       "    <tr>\n",
       "      <th>2988</th>\n",
       "      <td>1</td>\n",
       "      <td>32.0</td>\n",
       "      <td>21600.0</td>\n",
       "      <td>0</td>\n",
       "      <td>0</td>\n",
       "    </tr>\n",
       "    <tr>\n",
       "      <th>2998</th>\n",
       "      <td>0</td>\n",
       "      <td>31.0</td>\n",
       "      <td>49400.0</td>\n",
       "      <td>1</td>\n",
       "      <td>0</td>\n",
       "    </tr>\n",
       "    <tr>\n",
       "      <th>3038</th>\n",
       "      <td>1</td>\n",
       "      <td>32.0</td>\n",
       "      <td>41900.0</td>\n",
       "      <td>2</td>\n",
       "      <td>0</td>\n",
       "    </tr>\n",
       "    <tr>\n",
       "      <th>3087</th>\n",
       "      <td>0</td>\n",
       "      <td>31.0</td>\n",
       "      <td>49400.0</td>\n",
       "      <td>1</td>\n",
       "      <td>0</td>\n",
       "    </tr>\n",
       "    <tr>\n",
       "      <th>3136</th>\n",
       "      <td>0</td>\n",
       "      <td>22.0</td>\n",
       "      <td>37800.0</td>\n",
       "      <td>1</td>\n",
       "      <td>0</td>\n",
       "    </tr>\n",
       "    <tr>\n",
       "      <th>3141</th>\n",
       "      <td>0</td>\n",
       "      <td>21.0</td>\n",
       "      <td>37200.0</td>\n",
       "      <td>0</td>\n",
       "      <td>0</td>\n",
       "    </tr>\n",
       "    <tr>\n",
       "      <th>3150</th>\n",
       "      <td>0</td>\n",
       "      <td>23.0</td>\n",
       "      <td>53600.0</td>\n",
       "      <td>1</td>\n",
       "      <td>0</td>\n",
       "    </tr>\n",
       "    <tr>\n",
       "      <th>3161</th>\n",
       "      <td>0</td>\n",
       "      <td>35.0</td>\n",
       "      <td>31600.0</td>\n",
       "      <td>0</td>\n",
       "      <td>0</td>\n",
       "    </tr>\n",
       "    <tr>\n",
       "      <th>3176</th>\n",
       "      <td>0</td>\n",
       "      <td>21.0</td>\n",
       "      <td>35300.0</td>\n",
       "      <td>1</td>\n",
       "      <td>0</td>\n",
       "    </tr>\n",
       "    <tr>\n",
       "      <th>3218</th>\n",
       "      <td>0</td>\n",
       "      <td>23.0</td>\n",
       "      <td>37000.0</td>\n",
       "      <td>2</td>\n",
       "      <td>0</td>\n",
       "    </tr>\n",
       "    <tr>\n",
       "      <th>3221</th>\n",
       "      <td>1</td>\n",
       "      <td>32.0</td>\n",
       "      <td>47500.0</td>\n",
       "      <td>1</td>\n",
       "      <td>0</td>\n",
       "    </tr>\n",
       "    <tr>\n",
       "      <th>3241</th>\n",
       "      <td>1</td>\n",
       "      <td>26.0</td>\n",
       "      <td>45700.0</td>\n",
       "      <td>1</td>\n",
       "      <td>0</td>\n",
       "    </tr>\n",
       "    <tr>\n",
       "      <th>3256</th>\n",
       "      <td>1</td>\n",
       "      <td>26.0</td>\n",
       "      <td>46800.0</td>\n",
       "      <td>2</td>\n",
       "      <td>0</td>\n",
       "    </tr>\n",
       "    <tr>\n",
       "      <th>3257</th>\n",
       "      <td>1</td>\n",
       "      <td>34.0</td>\n",
       "      <td>37500.0</td>\n",
       "      <td>1</td>\n",
       "      <td>0</td>\n",
       "    </tr>\n",
       "    <tr>\n",
       "      <th>3267</th>\n",
       "      <td>1</td>\n",
       "      <td>34.0</td>\n",
       "      <td>46000.0</td>\n",
       "      <td>0</td>\n",
       "      <td>0</td>\n",
       "    </tr>\n",
       "    <tr>\n",
       "      <th>3268</th>\n",
       "      <td>0</td>\n",
       "      <td>19.0</td>\n",
       "      <td>38600.0</td>\n",
       "      <td>0</td>\n",
       "      <td>0</td>\n",
       "    </tr>\n",
       "    <tr>\n",
       "      <th>3269</th>\n",
       "      <td>0</td>\n",
       "      <td>25.0</td>\n",
       "      <td>45900.0</td>\n",
       "      <td>1</td>\n",
       "      <td>0</td>\n",
       "    </tr>\n",
       "    <tr>\n",
       "      <th>3296</th>\n",
       "      <td>0</td>\n",
       "      <td>27.0</td>\n",
       "      <td>49900.0</td>\n",
       "      <td>1</td>\n",
       "      <td>0</td>\n",
       "    </tr>\n",
       "    <tr>\n",
       "      <th>3303</th>\n",
       "      <td>0</td>\n",
       "      <td>25.0</td>\n",
       "      <td>52800.0</td>\n",
       "      <td>2</td>\n",
       "      <td>0</td>\n",
       "    </tr>\n",
       "    <tr>\n",
       "      <th>3315</th>\n",
       "      <td>1</td>\n",
       "      <td>30.0</td>\n",
       "      <td>28200.0</td>\n",
       "      <td>0</td>\n",
       "      <td>0</td>\n",
       "    </tr>\n",
       "    <tr>\n",
       "      <th>3333</th>\n",
       "      <td>0</td>\n",
       "      <td>36.0</td>\n",
       "      <td>29700.0</td>\n",
       "      <td>2</td>\n",
       "      <td>0</td>\n",
       "    </tr>\n",
       "    <tr>\n",
       "      <th>3365</th>\n",
       "      <td>1</td>\n",
       "      <td>41.0</td>\n",
       "      <td>47100.0</td>\n",
       "      <td>1</td>\n",
       "      <td>0</td>\n",
       "    </tr>\n",
       "    <tr>\n",
       "      <th>3395</th>\n",
       "      <td>0</td>\n",
       "      <td>31.0</td>\n",
       "      <td>33900.0</td>\n",
       "      <td>0</td>\n",
       "      <td>0</td>\n",
       "    </tr>\n",
       "    <tr>\n",
       "      <th>3419</th>\n",
       "      <td>1</td>\n",
       "      <td>19.0</td>\n",
       "      <td>41600.0</td>\n",
       "      <td>1</td>\n",
       "      <td>0</td>\n",
       "    </tr>\n",
       "    <tr>\n",
       "      <th>3455</th>\n",
       "      <td>1</td>\n",
       "      <td>25.0</td>\n",
       "      <td>46100.0</td>\n",
       "      <td>1</td>\n",
       "      <td>0</td>\n",
       "    </tr>\n",
       "    <tr>\n",
       "      <th>3476</th>\n",
       "      <td>0</td>\n",
       "      <td>25.0</td>\n",
       "      <td>43400.0</td>\n",
       "      <td>0</td>\n",
       "      <td>0</td>\n",
       "    </tr>\n",
       "    <tr>\n",
       "      <th>3513</th>\n",
       "      <td>1</td>\n",
       "      <td>36.0</td>\n",
       "      <td>41300.0</td>\n",
       "      <td>0</td>\n",
       "      <td>0</td>\n",
       "    </tr>\n",
       "    <tr>\n",
       "      <th>3519</th>\n",
       "      <td>0</td>\n",
       "      <td>29.0</td>\n",
       "      <td>49900.0</td>\n",
       "      <td>2</td>\n",
       "      <td>0</td>\n",
       "    </tr>\n",
       "    <tr>\n",
       "      <th>3588</th>\n",
       "      <td>0</td>\n",
       "      <td>24.0</td>\n",
       "      <td>52700.0</td>\n",
       "      <td>1</td>\n",
       "      <td>0</td>\n",
       "    </tr>\n",
       "    <tr>\n",
       "      <th>3648</th>\n",
       "      <td>1</td>\n",
       "      <td>28.0</td>\n",
       "      <td>39800.0</td>\n",
       "      <td>2</td>\n",
       "      <td>0</td>\n",
       "    </tr>\n",
       "    <tr>\n",
       "      <th>3666</th>\n",
       "      <td>0</td>\n",
       "      <td>31.0</td>\n",
       "      <td>49900.0</td>\n",
       "      <td>1</td>\n",
       "      <td>0</td>\n",
       "    </tr>\n",
       "    <tr>\n",
       "      <th>3711</th>\n",
       "      <td>1</td>\n",
       "      <td>30.0</td>\n",
       "      <td>43000.0</td>\n",
       "      <td>0</td>\n",
       "      <td>0</td>\n",
       "    </tr>\n",
       "    <tr>\n",
       "      <th>3724</th>\n",
       "      <td>1</td>\n",
       "      <td>35.0</td>\n",
       "      <td>42500.0</td>\n",
       "      <td>0</td>\n",
       "      <td>0</td>\n",
       "    </tr>\n",
       "    <tr>\n",
       "      <th>3730</th>\n",
       "      <td>0</td>\n",
       "      <td>29.0</td>\n",
       "      <td>40400.0</td>\n",
       "      <td>2</td>\n",
       "      <td>0</td>\n",
       "    </tr>\n",
       "    <tr>\n",
       "      <th>3746</th>\n",
       "      <td>0</td>\n",
       "      <td>37.0</td>\n",
       "      <td>51400.0</td>\n",
       "      <td>0</td>\n",
       "      <td>0</td>\n",
       "    </tr>\n",
       "    <tr>\n",
       "      <th>3748</th>\n",
       "      <td>1</td>\n",
       "      <td>26.0</td>\n",
       "      <td>42200.0</td>\n",
       "      <td>1</td>\n",
       "      <td>0</td>\n",
       "    </tr>\n",
       "    <tr>\n",
       "      <th>3763</th>\n",
       "      <td>0</td>\n",
       "      <td>32.0</td>\n",
       "      <td>34300.0</td>\n",
       "      <td>1</td>\n",
       "      <td>0</td>\n",
       "    </tr>\n",
       "    <tr>\n",
       "      <th>3780</th>\n",
       "      <td>1</td>\n",
       "      <td>26.0</td>\n",
       "      <td>45600.0</td>\n",
       "      <td>3</td>\n",
       "      <td>0</td>\n",
       "    </tr>\n",
       "    <tr>\n",
       "      <th>3791</th>\n",
       "      <td>1</td>\n",
       "      <td>21.0</td>\n",
       "      <td>36300.0</td>\n",
       "      <td>0</td>\n",
       "      <td>0</td>\n",
       "    </tr>\n",
       "    <tr>\n",
       "      <th>3798</th>\n",
       "      <td>1</td>\n",
       "      <td>23.0</td>\n",
       "      <td>50400.0</td>\n",
       "      <td>0</td>\n",
       "      <td>0</td>\n",
       "    </tr>\n",
       "    <tr>\n",
       "      <th>3809</th>\n",
       "      <td>1</td>\n",
       "      <td>28.0</td>\n",
       "      <td>45300.0</td>\n",
       "      <td>0</td>\n",
       "      <td>0</td>\n",
       "    </tr>\n",
       "    <tr>\n",
       "      <th>3822</th>\n",
       "      <td>1</td>\n",
       "      <td>38.0</td>\n",
       "      <td>50200.0</td>\n",
       "      <td>2</td>\n",
       "      <td>0</td>\n",
       "    </tr>\n",
       "    <tr>\n",
       "      <th>3881</th>\n",
       "      <td>0</td>\n",
       "      <td>22.0</td>\n",
       "      <td>42200.0</td>\n",
       "      <td>2</td>\n",
       "      <td>0</td>\n",
       "    </tr>\n",
       "    <tr>\n",
       "      <th>3894</th>\n",
       "      <td>0</td>\n",
       "      <td>21.0</td>\n",
       "      <td>41700.0</td>\n",
       "      <td>2</td>\n",
       "      <td>0</td>\n",
       "    </tr>\n",
       "    <tr>\n",
       "      <th>3923</th>\n",
       "      <td>1</td>\n",
       "      <td>41.0</td>\n",
       "      <td>48900.0</td>\n",
       "      <td>0</td>\n",
       "      <td>0</td>\n",
       "    </tr>\n",
       "    <tr>\n",
       "      <th>3968</th>\n",
       "      <td>0</td>\n",
       "      <td>22.0</td>\n",
       "      <td>32400.0</td>\n",
       "      <td>2</td>\n",
       "      <td>0</td>\n",
       "    </tr>\n",
       "    <tr>\n",
       "      <th>3988</th>\n",
       "      <td>1</td>\n",
       "      <td>24.0</td>\n",
       "      <td>35300.0</td>\n",
       "      <td>0</td>\n",
       "      <td>0</td>\n",
       "    </tr>\n",
       "    <tr>\n",
       "      <th>3999</th>\n",
       "      <td>0</td>\n",
       "      <td>26.0</td>\n",
       "      <td>36000.0</td>\n",
       "      <td>0</td>\n",
       "      <td>0</td>\n",
       "    </tr>\n",
       "    <tr>\n",
       "      <th>4022</th>\n",
       "      <td>1</td>\n",
       "      <td>22.0</td>\n",
       "      <td>42700.0</td>\n",
       "      <td>1</td>\n",
       "      <td>0</td>\n",
       "    </tr>\n",
       "    <tr>\n",
       "      <th>4041</th>\n",
       "      <td>1</td>\n",
       "      <td>36.0</td>\n",
       "      <td>35000.0</td>\n",
       "      <td>1</td>\n",
       "      <td>0</td>\n",
       "    </tr>\n",
       "    <tr>\n",
       "      <th>4043</th>\n",
       "      <td>1</td>\n",
       "      <td>29.0</td>\n",
       "      <td>48100.0</td>\n",
       "      <td>2</td>\n",
       "      <td>0</td>\n",
       "    </tr>\n",
       "    <tr>\n",
       "      <th>4048</th>\n",
       "      <td>0</td>\n",
       "      <td>23.0</td>\n",
       "      <td>41600.0</td>\n",
       "      <td>0</td>\n",
       "      <td>0</td>\n",
       "    </tr>\n",
       "    <tr>\n",
       "      <th>4052</th>\n",
       "      <td>0</td>\n",
       "      <td>32.0</td>\n",
       "      <td>48700.0</td>\n",
       "      <td>2</td>\n",
       "      <td>0</td>\n",
       "    </tr>\n",
       "    <tr>\n",
       "      <th>4125</th>\n",
       "      <td>0</td>\n",
       "      <td>20.0</td>\n",
       "      <td>41500.0</td>\n",
       "      <td>2</td>\n",
       "      <td>0</td>\n",
       "    </tr>\n",
       "    <tr>\n",
       "      <th>4129</th>\n",
       "      <td>1</td>\n",
       "      <td>19.0</td>\n",
       "      <td>35600.0</td>\n",
       "      <td>2</td>\n",
       "      <td>0</td>\n",
       "    </tr>\n",
       "    <tr>\n",
       "      <th>4174</th>\n",
       "      <td>1</td>\n",
       "      <td>38.0</td>\n",
       "      <td>40700.0</td>\n",
       "      <td>1</td>\n",
       "      <td>0</td>\n",
       "    </tr>\n",
       "    <tr>\n",
       "      <th>4189</th>\n",
       "      <td>1</td>\n",
       "      <td>31.0</td>\n",
       "      <td>28400.0</td>\n",
       "      <td>1</td>\n",
       "      <td>0</td>\n",
       "    </tr>\n",
       "    <tr>\n",
       "      <th>4202</th>\n",
       "      <td>0</td>\n",
       "      <td>38.0</td>\n",
       "      <td>31400.0</td>\n",
       "      <td>1</td>\n",
       "      <td>0</td>\n",
       "    </tr>\n",
       "    <tr>\n",
       "      <th>4212</th>\n",
       "      <td>0</td>\n",
       "      <td>25.0</td>\n",
       "      <td>47800.0</td>\n",
       "      <td>1</td>\n",
       "      <td>0</td>\n",
       "    </tr>\n",
       "    <tr>\n",
       "      <th>4219</th>\n",
       "      <td>1</td>\n",
       "      <td>36.0</td>\n",
       "      <td>43500.0</td>\n",
       "      <td>1</td>\n",
       "      <td>0</td>\n",
       "    </tr>\n",
       "    <tr>\n",
       "      <th>4230</th>\n",
       "      <td>0</td>\n",
       "      <td>32.0</td>\n",
       "      <td>25600.0</td>\n",
       "      <td>1</td>\n",
       "      <td>0</td>\n",
       "    </tr>\n",
       "    <tr>\n",
       "      <th>4239</th>\n",
       "      <td>0</td>\n",
       "      <td>36.0</td>\n",
       "      <td>31500.0</td>\n",
       "      <td>2</td>\n",
       "      <td>0</td>\n",
       "    </tr>\n",
       "    <tr>\n",
       "      <th>4240</th>\n",
       "      <td>0</td>\n",
       "      <td>27.0</td>\n",
       "      <td>37100.0</td>\n",
       "      <td>1</td>\n",
       "      <td>0</td>\n",
       "    </tr>\n",
       "    <tr>\n",
       "      <th>4266</th>\n",
       "      <td>0</td>\n",
       "      <td>32.0</td>\n",
       "      <td>50400.0</td>\n",
       "      <td>1</td>\n",
       "      <td>0</td>\n",
       "    </tr>\n",
       "    <tr>\n",
       "      <th>4270</th>\n",
       "      <td>0</td>\n",
       "      <td>29.0</td>\n",
       "      <td>52700.0</td>\n",
       "      <td>1</td>\n",
       "      <td>0</td>\n",
       "    </tr>\n",
       "    <tr>\n",
       "      <th>4301</th>\n",
       "      <td>1</td>\n",
       "      <td>35.0</td>\n",
       "      <td>34900.0</td>\n",
       "      <td>1</td>\n",
       "      <td>0</td>\n",
       "    </tr>\n",
       "    <tr>\n",
       "      <th>4306</th>\n",
       "      <td>0</td>\n",
       "      <td>21.0</td>\n",
       "      <td>37200.0</td>\n",
       "      <td>0</td>\n",
       "      <td>0</td>\n",
       "    </tr>\n",
       "    <tr>\n",
       "      <th>4351</th>\n",
       "      <td>1</td>\n",
       "      <td>25.0</td>\n",
       "      <td>33400.0</td>\n",
       "      <td>1</td>\n",
       "      <td>0</td>\n",
       "    </tr>\n",
       "    <tr>\n",
       "      <th>4425</th>\n",
       "      <td>1</td>\n",
       "      <td>40.0</td>\n",
       "      <td>39300.0</td>\n",
       "      <td>0</td>\n",
       "      <td>0</td>\n",
       "    </tr>\n",
       "    <tr>\n",
       "      <th>4463</th>\n",
       "      <td>1</td>\n",
       "      <td>40.0</td>\n",
       "      <td>41900.0</td>\n",
       "      <td>2</td>\n",
       "      <td>0</td>\n",
       "    </tr>\n",
       "    <tr>\n",
       "      <th>4481</th>\n",
       "      <td>1</td>\n",
       "      <td>29.0</td>\n",
       "      <td>47500.0</td>\n",
       "      <td>0</td>\n",
       "      <td>0</td>\n",
       "    </tr>\n",
       "    <tr>\n",
       "      <th>4580</th>\n",
       "      <td>1</td>\n",
       "      <td>27.0</td>\n",
       "      <td>37300.0</td>\n",
       "      <td>0</td>\n",
       "      <td>0</td>\n",
       "    </tr>\n",
       "    <tr>\n",
       "      <th>4592</th>\n",
       "      <td>0</td>\n",
       "      <td>26.0</td>\n",
       "      <td>35400.0</td>\n",
       "      <td>1</td>\n",
       "      <td>0</td>\n",
       "    </tr>\n",
       "    <tr>\n",
       "      <th>4614</th>\n",
       "      <td>1</td>\n",
       "      <td>27.0</td>\n",
       "      <td>46600.0</td>\n",
       "      <td>0</td>\n",
       "      <td>0</td>\n",
       "    </tr>\n",
       "    <tr>\n",
       "      <th>4657</th>\n",
       "      <td>1</td>\n",
       "      <td>23.0</td>\n",
       "      <td>43400.0</td>\n",
       "      <td>1</td>\n",
       "      <td>0</td>\n",
       "    </tr>\n",
       "    <tr>\n",
       "      <th>4664</th>\n",
       "      <td>0</td>\n",
       "      <td>28.0</td>\n",
       "      <td>39900.0</td>\n",
       "      <td>0</td>\n",
       "      <td>0</td>\n",
       "    </tr>\n",
       "    <tr>\n",
       "      <th>4698</th>\n",
       "      <td>1</td>\n",
       "      <td>29.0</td>\n",
       "      <td>45600.0</td>\n",
       "      <td>1</td>\n",
       "      <td>0</td>\n",
       "    </tr>\n",
       "    <tr>\n",
       "      <th>4702</th>\n",
       "      <td>0</td>\n",
       "      <td>33.0</td>\n",
       "      <td>33700.0</td>\n",
       "      <td>2</td>\n",
       "      <td>0</td>\n",
       "    </tr>\n",
       "    <tr>\n",
       "      <th>4726</th>\n",
       "      <td>1</td>\n",
       "      <td>19.0</td>\n",
       "      <td>31700.0</td>\n",
       "      <td>1</td>\n",
       "      <td>0</td>\n",
       "    </tr>\n",
       "    <tr>\n",
       "      <th>4755</th>\n",
       "      <td>0</td>\n",
       "      <td>31.0</td>\n",
       "      <td>40700.0</td>\n",
       "      <td>0</td>\n",
       "      <td>0</td>\n",
       "    </tr>\n",
       "    <tr>\n",
       "      <th>4764</th>\n",
       "      <td>0</td>\n",
       "      <td>30.0</td>\n",
       "      <td>31400.0</td>\n",
       "      <td>2</td>\n",
       "      <td>0</td>\n",
       "    </tr>\n",
       "    <tr>\n",
       "      <th>4781</th>\n",
       "      <td>1</td>\n",
       "      <td>40.0</td>\n",
       "      <td>37400.0</td>\n",
       "      <td>2</td>\n",
       "      <td>0</td>\n",
       "    </tr>\n",
       "    <tr>\n",
       "      <th>4793</th>\n",
       "      <td>1</td>\n",
       "      <td>24.0</td>\n",
       "      <td>37800.0</td>\n",
       "      <td>0</td>\n",
       "      <td>0</td>\n",
       "    </tr>\n",
       "    <tr>\n",
       "      <th>4902</th>\n",
       "      <td>1</td>\n",
       "      <td>35.0</td>\n",
       "      <td>38700.0</td>\n",
       "      <td>1</td>\n",
       "      <td>0</td>\n",
       "    </tr>\n",
       "    <tr>\n",
       "      <th>4935</th>\n",
       "      <td>1</td>\n",
       "      <td>19.0</td>\n",
       "      <td>32700.0</td>\n",
       "      <td>0</td>\n",
       "      <td>0</td>\n",
       "    </tr>\n",
       "    <tr>\n",
       "      <th>4945</th>\n",
       "      <td>1</td>\n",
       "      <td>21.0</td>\n",
       "      <td>45800.0</td>\n",
       "      <td>0</td>\n",
       "      <td>0</td>\n",
       "    </tr>\n",
       "    <tr>\n",
       "      <th>4965</th>\n",
       "      <td>0</td>\n",
       "      <td>22.0</td>\n",
       "      <td>40100.0</td>\n",
       "      <td>1</td>\n",
       "      <td>0</td>\n",
       "    </tr>\n",
       "  </tbody>\n",
       "</table>\n",
       "</div>"
      ],
      "text/plain": [
       "      gender   age   salary  family_members  insurance_payments\n",
       "281        1  39.0  48100.0               1                   0\n",
       "488        1  24.0  32900.0               1                   0\n",
       "513        0  31.0  37400.0               2                   0\n",
       "718        1  22.0  32600.0               1                   0\n",
       "785        0  20.0  35800.0               0                   0\n",
       "869        1  24.0  33100.0               1                   0\n",
       "887        1  19.0  35500.0               0                   0\n",
       "1004       1  29.0  42400.0               0                   0\n",
       "1089       0  27.0  46800.0               2                   0\n",
       "1091       1  41.0  34000.0               1                   0\n",
       "1140       1  34.0  26900.0               0                   0\n",
       "1251       1  37.0  31200.0               2                   0\n",
       "1281       1  24.0  53900.0               2                   0\n",
       "1317       0  25.0  45900.0               1                   0\n",
       "1340       1  20.0  37400.0               2                   0\n",
       "1485       1  41.0  32700.0               0                   0\n",
       "1559       1  32.0  36900.0               0                   0\n",
       "1588       0  35.0  44000.0               1                   0\n",
       "1598       0  28.0  39800.0               1                   0\n",
       "1604       0  26.0  43400.0               1                   0\n",
       "1667       1  30.0  49900.0               1                   0\n",
       "1671       1  23.0  41900.0               2                   0\n",
       "1724       0  32.0  43800.0               1                   0\n",
       "1728       0  30.0  37800.0               0                   0\n",
       "1742       1  28.0  59900.0               0                   0\n",
       "1758       1  23.0  33100.0               1                   0\n",
       "1807       1  33.0  40900.0               1                   0\n",
       "1815       1  27.0  38700.0               2                   0\n",
       "1893       1  30.0  49900.0               1                   0\n",
       "1928       0  33.0  41500.0               1                   0\n",
       "2055       1  32.0  47100.0               1                   0\n",
       "2139       1  26.0  43900.0               0                   0\n",
       "2176       0  36.0  31700.0               1                   0\n",
       "2198       0  21.0  40400.0               3                   0\n",
       "2231       0  33.0  59300.0               2                   0\n",
       "2269       1  19.0  43200.0               1                   0\n",
       "2274       1  41.0  30200.0               0                   0\n",
       "2318       0  35.0  42500.0               0                   0\n",
       "2409       1  20.0  46700.0               0                   0\n",
       "2429       1  18.0  39800.0               2                   0\n",
       "2450       1  33.0  43700.0               2                   0\n",
       "2460       0  27.0  34200.0               2                   0\n",
       "2465       0  40.0  54000.0               2                   0\n",
       "2470       0  34.0  39900.0               0                   0\n",
       "2486       1  31.0  37200.0               1                   0\n",
       "2501       0  25.0  28300.0               0                   0\n",
       "2512       1  19.0  43200.0               1                   0\n",
       "2526       0  25.0  37600.0               1                   0\n",
       "2534       0  26.0  46700.0               0                   0\n",
       "2553       0  26.0  36100.0               1                   0\n",
       "2565       1  31.0  27900.0               1                   0\n",
       "2589       0  31.0  42100.0               0                   0\n",
       "2590       0  38.0  40200.0               0                   0\n",
       "2602       1  27.0  35000.0               1                   0\n",
       "2623       0  28.0  43000.0               0                   0\n",
       "2654       0  20.0  36800.0               0                   0\n",
       "2662       0  22.0  33800.0               1                   0\n",
       "2694       1  19.0  52600.0               0                   0\n",
       "2723       0  36.0  26400.0               0                   0\n",
       "2819       0  37.0  37300.0               1                   0\n",
       "2840       1  22.0  36200.0               1                   0\n",
       "2844       1  28.0  41100.0               0                   0\n",
       "2853       0  19.0  51700.0               0                   0\n",
       "2869       0  50.0  24700.0               1                   2\n",
       "2881       0  28.0  39800.0               1                   0\n",
       "2969       0  37.0  42500.0               1                   0\n",
       "2988       1  32.0  21600.0               0                   0\n",
       "2998       0  31.0  49400.0               1                   0\n",
       "3038       1  32.0  41900.0               2                   0\n",
       "3087       0  31.0  49400.0               1                   0\n",
       "3136       0  22.0  37800.0               1                   0\n",
       "3141       0  21.0  37200.0               0                   0\n",
       "3150       0  23.0  53600.0               1                   0\n",
       "3161       0  35.0  31600.0               0                   0\n",
       "3176       0  21.0  35300.0               1                   0\n",
       "3218       0  23.0  37000.0               2                   0\n",
       "3221       1  32.0  47500.0               1                   0\n",
       "3241       1  26.0  45700.0               1                   0\n",
       "3256       1  26.0  46800.0               2                   0\n",
       "3257       1  34.0  37500.0               1                   0\n",
       "3267       1  34.0  46000.0               0                   0\n",
       "3268       0  19.0  38600.0               0                   0\n",
       "3269       0  25.0  45900.0               1                   0\n",
       "3296       0  27.0  49900.0               1                   0\n",
       "3303       0  25.0  52800.0               2                   0\n",
       "3315       1  30.0  28200.0               0                   0\n",
       "3333       0  36.0  29700.0               2                   0\n",
       "3365       1  41.0  47100.0               1                   0\n",
       "3395       0  31.0  33900.0               0                   0\n",
       "3419       1  19.0  41600.0               1                   0\n",
       "3455       1  25.0  46100.0               1                   0\n",
       "3476       0  25.0  43400.0               0                   0\n",
       "3513       1  36.0  41300.0               0                   0\n",
       "3519       0  29.0  49900.0               2                   0\n",
       "3588       0  24.0  52700.0               1                   0\n",
       "3648       1  28.0  39800.0               2                   0\n",
       "3666       0  31.0  49900.0               1                   0\n",
       "3711       1  30.0  43000.0               0                   0\n",
       "3724       1  35.0  42500.0               0                   0\n",
       "3730       0  29.0  40400.0               2                   0\n",
       "3746       0  37.0  51400.0               0                   0\n",
       "3748       1  26.0  42200.0               1                   0\n",
       "3763       0  32.0  34300.0               1                   0\n",
       "3780       1  26.0  45600.0               3                   0\n",
       "3791       1  21.0  36300.0               0                   0\n",
       "3798       1  23.0  50400.0               0                   0\n",
       "3809       1  28.0  45300.0               0                   0\n",
       "3822       1  38.0  50200.0               2                   0\n",
       "3881       0  22.0  42200.0               2                   0\n",
       "3894       0  21.0  41700.0               2                   0\n",
       "3923       1  41.0  48900.0               0                   0\n",
       "3968       0  22.0  32400.0               2                   0\n",
       "3988       1  24.0  35300.0               0                   0\n",
       "3999       0  26.0  36000.0               0                   0\n",
       "4022       1  22.0  42700.0               1                   0\n",
       "4041       1  36.0  35000.0               1                   0\n",
       "4043       1  29.0  48100.0               2                   0\n",
       "4048       0  23.0  41600.0               0                   0\n",
       "4052       0  32.0  48700.0               2                   0\n",
       "4125       0  20.0  41500.0               2                   0\n",
       "4129       1  19.0  35600.0               2                   0\n",
       "4174       1  38.0  40700.0               1                   0\n",
       "4189       1  31.0  28400.0               1                   0\n",
       "4202       0  38.0  31400.0               1                   0\n",
       "4212       0  25.0  47800.0               1                   0\n",
       "4219       1  36.0  43500.0               1                   0\n",
       "4230       0  32.0  25600.0               1                   0\n",
       "4239       0  36.0  31500.0               2                   0\n",
       "4240       0  27.0  37100.0               1                   0\n",
       "4266       0  32.0  50400.0               1                   0\n",
       "4270       0  29.0  52700.0               1                   0\n",
       "4301       1  35.0  34900.0               1                   0\n",
       "4306       0  21.0  37200.0               0                   0\n",
       "4351       1  25.0  33400.0               1                   0\n",
       "4425       1  40.0  39300.0               0                   0\n",
       "4463       1  40.0  41900.0               2                   0\n",
       "4481       1  29.0  47500.0               0                   0\n",
       "4580       1  27.0  37300.0               0                   0\n",
       "4592       0  26.0  35400.0               1                   0\n",
       "4614       1  27.0  46600.0               0                   0\n",
       "4657       1  23.0  43400.0               1                   0\n",
       "4664       0  28.0  39900.0               0                   0\n",
       "4698       1  29.0  45600.0               1                   0\n",
       "4702       0  33.0  33700.0               2                   0\n",
       "4726       1  19.0  31700.0               1                   0\n",
       "4755       0  31.0  40700.0               0                   0\n",
       "4764       0  30.0  31400.0               2                   0\n",
       "4781       1  40.0  37400.0               2                   0\n",
       "4793       1  24.0  37800.0               0                   0\n",
       "4902       1  35.0  38700.0               1                   0\n",
       "4935       1  19.0  32700.0               0                   0\n",
       "4945       1  21.0  45800.0               0                   0\n",
       "4965       0  22.0  40100.0               1                   0"
      ]
     },
     "execution_count": 10,
     "metadata": {},
     "output_type": "execute_result"
    }
   ],
   "source": [
    "data.loc[data.duplicated()]"
   ]
  },
  {
   "cell_type": "markdown",
   "metadata": {},
   "source": [
    "There are duplicates, but since we do not have a client id, it is quite possible that these are not duplicates, but simply matching data. We will just leave it as it is."
   ]
  },
  {
   "cell_type": "markdown",
   "metadata": {},
   "source": [
    "#### Gaps"
   ]
  },
  {
   "cell_type": "code",
   "execution_count": 11,
   "metadata": {},
   "outputs": [
    {
     "data": {
      "text/plain": [
       "gender                0\n",
       "age                   0\n",
       "salary                0\n",
       "family_members        0\n",
       "insurance_payments    0\n",
       "dtype: int64"
      ]
     },
     "execution_count": 11,
     "metadata": {},
     "output_type": "execute_result"
    }
   ],
   "source": [
    "data.isna().sum()"
   ]
  },
  {
   "cell_type": "markdown",
   "metadata": {},
   "source": [
    "#### Datatype"
   ]
  },
  {
   "cell_type": "code",
   "execution_count": 12,
   "metadata": {},
   "outputs": [],
   "source": [
    "data['age'] = data['age'].astype('int')\n",
    "data['salary'] = data['salary'].astype('int')"
   ]
  },
  {
   "cell_type": "markdown",
   "metadata": {},
   "source": [
    "## Theoretical verification that the quality of the linear regression will not vary after applying the transformation algorithm"
   ]
  },
  {
   "cell_type": "markdown",
   "metadata": {},
   "source": [
    "Designations:\n",
    "\n",
    "- $X$ — feature matrix (zero column consists of ones)\n",
    "\n",
    "- $y$ — target vector\n",
    "\n",
    "- $P$ — the matrix the features are multiplied by\n",
    "\n",
    "- $w$ — vector of linear regression weights (zero element equals shift)"
   ]
  },
  {
   "cell_type": "markdown",
   "metadata": {},
   "source": [
    "Predictions:\n",
    "\n",
    "$$\n",
    "a = Xw\n",
    "$$\n",
    "\n",
    "Training:\n",
    "\n",
    "$$\n",
    "w = \\arg\\min_w MSE(Xw, y)\n",
    "$$\n",
    "\n",
    "Training Formula:\n",
    "\n",
    "$$\n",
    "w = (X^T X)^{-1} X^T y\n",
    "$$"
   ]
  },
  {
   "cell_type": "markdown",
   "metadata": {},
   "source": [
    "**Rationale:** "
   ]
  },
  {
   "cell_type": "markdown",
   "metadata": {},
   "source": [
    "Prediction and training formulas:\n",
    "\n",
    "$$\n",
    "a = Xw \n",
    "$$\n",
    "\n",
    "$$\n",
    "w = (X^TX)^{-1} X^Ty\n",
    "$$\n",
    "\n",
    "$$\n",
    "a = X(X^TX)^{-1} X^Ty\n",
    "$$\n",
    "\n",
    "\n",
    "\n",
    "\n",
    "\n",
    "After multiplying a and w by the matrix P, the expressions will be:\n",
    "$$\n",
    "w' = ((XP)^TXP)^{-1} (XP)^Ty\n",
    "$$\n",
    "$$\n",
    "a' = XPw'\n",
    "$$\n",
    "\n",
    "Let's simplify the expression using the following properties of matrices (**I = identity matrix**):\n",
    "\n",
    "$$ \n",
    "(AB)^T = B^T A^T  \n",
    "$$\n",
    "$$\n",
    "(AB)^{-1} = B^{-1} A^{-1}\n",
    "$$\n",
    "\n",
    "$$\n",
    "AA^{-1} = A^{-1}A = I\n",
    "$$\n",
    "$$\n",
    "AI = IA = A\n",
    "$$\n",
    "\n",
    "Simplifying:\n",
    "\n",
    "$$\n",
    "w' = ((XP)^TXP)^{-1} (XP)^Ty = (P^TX^TXP)^{-1} P^TX^T y = P^{-1}(P^TX^TX)^{-1}P^TX^T y = P^{-1}(X^TX)^{-1}(P^T)^{-1}P^TX^T y\n",
    "= P^{-1} (X^TX)^{-1} IX^T y = P^{-1} (X^TX)^{-1} X^T y = P^{-1} w\n",
    "$$\n",
    "\n",
    "$$\n",
    "a = Xw\n",
    "$$\n",
    "$$\n",
    "a' = XP P^{-1} w = Xw = a\n",
    "$$\n",
    "\n",
    "- For a change in the quality of linear regression to occur, it must turn out that a ≠ a'. Otherwise, there will be no qualitative change.\n",
    "\n",
    "- And thus we returned to the original expression, from which it follows that multiplying the matrix X by the invertible matrix P does not make any difference, and so the quality will not change."
   ]
  },
  {
   "cell_type": "markdown",
   "metadata": {},
   "source": [
    "## Conversion algorithm"
   ]
  },
  {
   "cell_type": "markdown",
   "metadata": {},
   "source": [
    "- Proposal of a data transformation algorithm to solve the problem. \n",
    "- Explanation of why the quality of the linear regression will not change."
   ]
  },
  {
   "cell_type": "markdown",
   "metadata": {},
   "source": [
    "**The algorithm**\n",
    "- Multiplication of the matrix formed by the features by an invertible matrix of dimension nxn, where n = number of features."
   ]
  },
  {
   "cell_type": "markdown",
   "metadata": {},
   "source": [
    "**Rationale**\n",
    "\n",
    "The result of the scalar product of vectors consisting of several numbers is a single number. It is impossible to derive vectors from a single number. For this reason, encryption is secure. But knowing the encryption matrix the feature matrix was multiplied by, we can obtain the original vectors. To do this, we need to multiply by an invertible matrix, that is, it must be square and its determinant cannot be equal to zero. For a correct multiplication of rows by columns, the dimension of this matrix is determined by the number of features. By multiplying the inverse of the encryption matrix by the encrypted features, we obtain the original features."
   ]
  },
  {
   "cell_type": "markdown",
   "metadata": {},
   "source": [
    "## Algorithm verification"
   ]
  },
  {
   "cell_type": "markdown",
   "metadata": {},
   "source": [
    "- Let's program the algorithm using matrix operations\n",
    "- Let's check that the quality of the linear regression from sklearn does not differ before and after the transformation.\n",
    "- Let's apply the R2 metric."
   ]
  },
  {
   "cell_type": "markdown",
   "metadata": {},
   "source": [
    "#### Quality before transformation"
   ]
  },
  {
   "cell_type": "code",
   "execution_count": 13,
   "metadata": {},
   "outputs": [],
   "source": [
    "dada = data"
   ]
  },
  {
   "cell_type": "code",
   "execution_count": 14,
   "metadata": {},
   "outputs": [],
   "source": [
    "features_X = dada.drop('insurance_payments', axis = 1)\n",
    "target_X = dada['insurance_payments']"
   ]
  },
  {
   "cell_type": "code",
   "execution_count": 15,
   "metadata": {},
   "outputs": [],
   "source": [
    "def proof(features, target, title = ''):\n",
    "    \n",
    "    features_train, features_test, target_train, target_test = tts(features, target, test_size=0.25, random_state=12345,\n",
    "                                                                  shuffle = True)\n",
    "    model = LinearRegression()\n",
    "    model.fit(features_train, target_train)\n",
    "    predictions = model.predict(features_test)\n",
    "    print(title)\n",
    "    print('R2:', r2_score(target_test, predictions))"
   ]
  },
  {
   "cell_type": "code",
   "execution_count": 16,
   "metadata": {},
   "outputs": [
    {
     "name": "stdout",
     "output_type": "stream",
     "text": [
      "Quality before transformation:\n",
      "R2: 0.43522756840832666\n"
     ]
    }
   ],
   "source": [
    "proof(features_X, target_X, 'Quality before transformation:')"
   ]
  },
  {
   "cell_type": "markdown",
   "metadata": {},
   "source": [
    "#### Quality after transformation"
   ]
  },
  {
   "cell_type": "code",
   "execution_count": 17,
   "metadata": {},
   "outputs": [
    {
     "data": {
      "text/plain": [
       "True"
      ]
     },
     "execution_count": 17,
     "metadata": {},
     "output_type": "execute_result"
    }
   ],
   "source": [
    "# Creating an encryption matrix\n",
    "P = np.random.randint(20, size = (data.shape[1]-1, data.shape[1]-1))\n",
    "\n",
    "# inverse matrix for verification\n",
    "Pinv = inv(P)\n",
    "\n",
    "# verifying AA**(-1) = I\n",
    "np.allclose(np.dot(P,Pinv), np.eye(data.shape[1]-1))"
   ]
  },
  {
   "cell_type": "code",
   "execution_count": 18,
   "metadata": {},
   "outputs": [
    {
     "name": "stdout",
     "output_type": "stream",
     "text": [
      "8306.999999999995\n"
     ]
    }
   ],
   "source": [
    "# if the determinant of the matrix is not 0 then the matrix is invertible\n",
    "print(det(P))"
   ]
  },
  {
   "cell_type": "code",
   "execution_count": 19,
   "metadata": {},
   "outputs": [],
   "source": [
    "# features for transformation\n",
    "X = data.drop('insurance_payments', axis = 1)\n",
    "\n",
    "# we leave the target without transformation because it’s still \n",
    "# impossible to find out who it belongs to, because the features are encrypted \n",
    "target_Z = data['insurance_payments']\n",
    "\n",
    "# transforming the features by multiplying them by the encryption matrix \n",
    "Z = X @ P"
   ]
  },
  {
   "cell_type": "code",
   "execution_count": 20,
   "metadata": {},
   "outputs": [
    {
     "name": "stdout",
     "output_type": "stream",
     "text": [
      "Quality afer transformation:\n",
      "R2: 0.43522756840832333\n"
     ]
    }
   ],
   "source": [
    "proof(Z, target_Z, 'Quality afer transformation:')"
   ]
  },
  {
   "cell_type": "markdown",
   "metadata": {},
   "source": [
    "#### Decoding\n"
   ]
  },
  {
   "cell_type": "markdown",
   "metadata": {},
   "source": [
    "$$\n",
    "XP = Z -> X = XI = XPP^{-1} = ZP^{-1}\n",
    "$$"
   ]
  },
  {
   "cell_type": "markdown",
   "metadata": {},
   "source": [
    "- In order to find the initial values of the features, we would multiply the encrypted values by the inverse matrix of the encryption matrix.\n",
    "- If the data from \"data\" matches the data from \"inception\", then the encryption works correctly."
   ]
  },
  {
   "cell_type": "code",
   "execution_count": 21,
   "metadata": {},
   "outputs": [
    {
     "data": {
      "text/html": [
       "<div>\n",
       "<style scoped>\n",
       "    .dataframe tbody tr th:only-of-type {\n",
       "        vertical-align: middle;\n",
       "    }\n",
       "\n",
       "    .dataframe tbody tr th {\n",
       "        vertical-align: top;\n",
       "    }\n",
       "\n",
       "    .dataframe thead th {\n",
       "        text-align: right;\n",
       "    }\n",
       "</style>\n",
       "<table border=\"1\" class=\"dataframe\">\n",
       "  <thead>\n",
       "    <tr style=\"text-align: right;\">\n",
       "      <th></th>\n",
       "      <th>gender</th>\n",
       "      <th>age</th>\n",
       "      <th>salary</th>\n",
       "      <th>family_members</th>\n",
       "      <th>insurance_payments</th>\n",
       "    </tr>\n",
       "  </thead>\n",
       "  <tbody>\n",
       "    <tr>\n",
       "      <th>0</th>\n",
       "      <td>1</td>\n",
       "      <td>41</td>\n",
       "      <td>49600</td>\n",
       "      <td>1</td>\n",
       "      <td>0</td>\n",
       "    </tr>\n",
       "    <tr>\n",
       "      <th>1</th>\n",
       "      <td>0</td>\n",
       "      <td>46</td>\n",
       "      <td>38000</td>\n",
       "      <td>1</td>\n",
       "      <td>1</td>\n",
       "    </tr>\n",
       "    <tr>\n",
       "      <th>2</th>\n",
       "      <td>0</td>\n",
       "      <td>29</td>\n",
       "      <td>21000</td>\n",
       "      <td>0</td>\n",
       "      <td>0</td>\n",
       "    </tr>\n",
       "    <tr>\n",
       "      <th>3</th>\n",
       "      <td>0</td>\n",
       "      <td>21</td>\n",
       "      <td>41700</td>\n",
       "      <td>2</td>\n",
       "      <td>0</td>\n",
       "    </tr>\n",
       "    <tr>\n",
       "      <th>4</th>\n",
       "      <td>1</td>\n",
       "      <td>28</td>\n",
       "      <td>26100</td>\n",
       "      <td>0</td>\n",
       "      <td>0</td>\n",
       "    </tr>\n",
       "  </tbody>\n",
       "</table>\n",
       "</div>"
      ],
      "text/plain": [
       "   gender  age  salary  family_members  insurance_payments\n",
       "0       1   41   49600               1                   0\n",
       "1       0   46   38000               1                   1\n",
       "2       0   29   21000               0                   0\n",
       "3       0   21   41700               2                   0\n",
       "4       1   28   26100               0                   0"
      ]
     },
     "execution_count": 21,
     "metadata": {},
     "output_type": "execute_result"
    }
   ],
   "source": [
    "data.head()"
   ]
  },
  {
   "cell_type": "code",
   "execution_count": 22,
   "metadata": {},
   "outputs": [
    {
     "data": {
      "text/html": [
       "<div>\n",
       "<style scoped>\n",
       "    .dataframe tbody tr th:only-of-type {\n",
       "        vertical-align: middle;\n",
       "    }\n",
       "\n",
       "    .dataframe tbody tr th {\n",
       "        vertical-align: top;\n",
       "    }\n",
       "\n",
       "    .dataframe thead th {\n",
       "        text-align: right;\n",
       "    }\n",
       "</style>\n",
       "<table border=\"1\" class=\"dataframe\">\n",
       "  <thead>\n",
       "    <tr style=\"text-align: right;\">\n",
       "      <th></th>\n",
       "      <th>gender</th>\n",
       "      <th>age</th>\n",
       "      <th>salary</th>\n",
       "      <th>family_members</th>\n",
       "      <th>insurance_payments</th>\n",
       "    </tr>\n",
       "  </thead>\n",
       "  <tbody>\n",
       "    <tr>\n",
       "      <th>0</th>\n",
       "      <td>1</td>\n",
       "      <td>41</td>\n",
       "      <td>49600</td>\n",
       "      <td>1</td>\n",
       "      <td>0</td>\n",
       "    </tr>\n",
       "    <tr>\n",
       "      <th>1</th>\n",
       "      <td>0</td>\n",
       "      <td>46</td>\n",
       "      <td>38000</td>\n",
       "      <td>1</td>\n",
       "      <td>1</td>\n",
       "    </tr>\n",
       "    <tr>\n",
       "      <th>2</th>\n",
       "      <td>0</td>\n",
       "      <td>29</td>\n",
       "      <td>21000</td>\n",
       "      <td>0</td>\n",
       "      <td>0</td>\n",
       "    </tr>\n",
       "    <tr>\n",
       "      <th>3</th>\n",
       "      <td>0</td>\n",
       "      <td>21</td>\n",
       "      <td>41700</td>\n",
       "      <td>2</td>\n",
       "      <td>0</td>\n",
       "    </tr>\n",
       "    <tr>\n",
       "      <th>4</th>\n",
       "      <td>1</td>\n",
       "      <td>28</td>\n",
       "      <td>26100</td>\n",
       "      <td>0</td>\n",
       "      <td>0</td>\n",
       "    </tr>\n",
       "  </tbody>\n",
       "</table>\n",
       "</div>"
      ],
      "text/plain": [
       "   gender  age  salary  family_members  insurance_payments\n",
       "0       1   41   49600               1                   0\n",
       "1       0   46   38000               1                   1\n",
       "2       0   29   21000               0                   0\n",
       "3       0   21   41700               2                   0\n",
       "4       1   28   26100               0                   0"
      ]
     },
     "execution_count": 22,
     "metadata": {},
     "output_type": "execute_result"
    }
   ],
   "source": [
    "inception = pd.DataFrame(Z @ Pinv).join(target_Z)\n",
    "\n",
    "inception.columns = data.columns\n",
    "feat = ['gender', 'age', 'salary', 'family_members']\n",
    "inception[feat] = inception[feat].round().astype('int')\n",
    "\n",
    "inception.head()"
   ]
  },
  {
   "cell_type": "markdown",
   "metadata": {},
   "source": [
    "## Conclusion"
   ]
  },
  {
   "cell_type": "markdown",
   "metadata": {},
   "source": [
    "- We have found an encryption algorithm to encrypt customer data.\n",
    "\n",
    "- We showed that, as we expected in theory, the quality of the model before and after encryption does not change in practice."
   ]
  }
 ],
 "metadata": {
  "ExecuteTimeLog": [
   {
    "duration": 779,
    "start_time": "2023-08-17T16:34:20.088Z"
   },
   {
    "duration": 118,
    "start_time": "2023-08-17T16:39:04.446Z"
   },
   {
    "duration": 14,
    "start_time": "2023-08-17T17:00:52.692Z"
   },
   {
    "duration": 14,
    "start_time": "2023-08-17T17:02:01.756Z"
   },
   {
    "duration": 539,
    "start_time": "2023-08-17T17:03:08.491Z"
   },
   {
    "duration": 509,
    "start_time": "2023-08-17T17:03:53.513Z"
   },
   {
    "duration": 17,
    "start_time": "2023-08-17T17:05:31.360Z"
   },
   {
    "duration": 589,
    "start_time": "2023-08-17T17:06:04.160Z"
   },
   {
    "duration": 4,
    "start_time": "2023-08-17T17:06:40.404Z"
   },
   {
    "duration": 478,
    "start_time": "2023-08-17T17:07:12.005Z"
   },
   {
    "duration": 202,
    "start_time": "2023-08-17T17:07:26.316Z"
   },
   {
    "duration": 131,
    "start_time": "2023-08-17T17:07:43.875Z"
   },
   {
    "duration": 177,
    "start_time": "2023-08-17T17:07:55.915Z"
   },
   {
    "duration": 3,
    "start_time": "2023-08-17T17:09:40.447Z"
   },
   {
    "duration": 355,
    "start_time": "2023-08-17T17:09:50.089Z"
   },
   {
    "duration": 3,
    "start_time": "2023-08-17T17:10:41.703Z"
   },
   {
    "duration": 810,
    "start_time": "2023-08-17T17:10:42.332Z"
   },
   {
    "duration": 15,
    "start_time": "2023-08-17T17:32:52.511Z"
   },
   {
    "duration": 46,
    "start_time": "2023-08-17T17:33:07.507Z"
   },
   {
    "duration": 6,
    "start_time": "2023-08-17T17:33:12.775Z"
   },
   {
    "duration": 12,
    "start_time": "2023-08-17T17:34:33.964Z"
   },
   {
    "duration": 3,
    "start_time": "2023-08-17T17:34:37.808Z"
   },
   {
    "duration": 6,
    "start_time": "2023-08-17T17:34:38.435Z"
   },
   {
    "duration": 3,
    "start_time": "2023-08-17T17:34:51.260Z"
   },
   {
    "duration": 7,
    "start_time": "2023-08-17T17:34:51.575Z"
   },
   {
    "duration": 44,
    "start_time": "2023-08-17T17:36:31.878Z"
   },
   {
    "duration": 7,
    "start_time": "2023-08-17T17:36:43.449Z"
   },
   {
    "duration": 6,
    "start_time": "2023-08-17T17:36:54.914Z"
   },
   {
    "duration": 6,
    "start_time": "2023-08-17T17:37:16.700Z"
   },
   {
    "duration": 6,
    "start_time": "2023-08-17T17:37:17.835Z"
   },
   {
    "duration": 2,
    "start_time": "2023-08-17T17:37:27.861Z"
   },
   {
    "duration": 6,
    "start_time": "2023-08-17T17:37:28.831Z"
   },
   {
    "duration": 38,
    "start_time": "2023-08-17T17:38:50.286Z"
   },
   {
    "duration": 6,
    "start_time": "2023-08-17T17:43:20.477Z"
   },
   {
    "duration": 23,
    "start_time": "2023-08-17T18:24:48.652Z"
   },
   {
    "duration": 461,
    "start_time": "2023-08-17T18:25:00.361Z"
   },
   {
    "duration": 14,
    "start_time": "2023-08-17T18:25:17.478Z"
   },
   {
    "duration": 504,
    "start_time": "2023-08-17T18:25:30.094Z"
   },
   {
    "duration": 21,
    "start_time": "2023-08-17T18:26:47.567Z"
   },
   {
    "duration": 52,
    "start_time": "2023-08-18T19:10:24.084Z"
   },
   {
    "duration": 1879,
    "start_time": "2023-08-18T19:10:31.178Z"
   },
   {
    "duration": 133,
    "start_time": "2023-08-18T19:10:34.010Z"
   },
   {
    "duration": 445,
    "start_time": "2023-08-18T19:10:42.678Z"
   },
   {
    "duration": 4,
    "start_time": "2023-08-18T19:11:14.807Z"
   },
   {
    "duration": 4,
    "start_time": "2023-08-18T19:11:48.288Z"
   },
   {
    "duration": 4,
    "start_time": "2023-08-18T19:13:25.426Z"
   },
   {
    "duration": 98,
    "start_time": "2023-08-18T19:13:26.996Z"
   },
   {
    "duration": 3,
    "start_time": "2023-08-18T19:13:55.805Z"
   },
   {
    "duration": 4,
    "start_time": "2023-08-18T19:14:03.516Z"
   },
   {
    "duration": 4,
    "start_time": "2023-08-18T19:14:47.236Z"
   },
   {
    "duration": 4,
    "start_time": "2023-08-18T19:15:35.518Z"
   },
   {
    "duration": 47,
    "start_time": "2023-08-18T19:18:13.716Z"
   },
   {
    "duration": 8,
    "start_time": "2023-08-18T19:18:25.469Z"
   },
   {
    "duration": 3,
    "start_time": "2023-08-18T20:13:14.846Z"
   },
   {
    "duration": 4,
    "start_time": "2023-08-18T20:13:22.523Z"
   },
   {
    "duration": 4,
    "start_time": "2023-08-18T20:13:58.486Z"
   },
   {
    "duration": 5,
    "start_time": "2023-08-18T20:13:58.890Z"
   },
   {
    "duration": 3,
    "start_time": "2023-08-18T20:15:19.586Z"
   },
   {
    "duration": 4,
    "start_time": "2023-08-18T20:15:20.324Z"
   },
   {
    "duration": 5,
    "start_time": "2023-08-18T20:15:30.847Z"
   },
   {
    "duration": 4,
    "start_time": "2023-08-18T20:15:44.331Z"
   },
   {
    "duration": 12,
    "start_time": "2023-08-18T20:16:30.968Z"
   },
   {
    "duration": 4,
    "start_time": "2023-08-18T20:18:20.557Z"
   },
   {
    "duration": 757,
    "start_time": "2023-08-18T20:20:43.376Z"
   },
   {
    "duration": 4,
    "start_time": "2023-08-18T20:22:17.494Z"
   },
   {
    "duration": 112,
    "start_time": "2023-08-18T20:25:51.182Z"
   },
   {
    "duration": 3,
    "start_time": "2023-08-18T20:26:14.896Z"
   },
   {
    "duration": 4,
    "start_time": "2023-08-18T20:26:17.757Z"
   },
   {
    "duration": 9,
    "start_time": "2023-08-18T20:27:40.318Z"
   },
   {
    "duration": 4,
    "start_time": "2023-08-18T20:27:47.188Z"
   },
   {
    "duration": 3,
    "start_time": "2023-08-18T20:31:48.518Z"
   },
   {
    "duration": 4,
    "start_time": "2023-08-18T20:31:50.467Z"
   },
   {
    "duration": 5,
    "start_time": "2023-08-18T20:31:51.882Z"
   },
   {
    "duration": 10,
    "start_time": "2023-08-18T20:34:03.819Z"
   },
   {
    "duration": 3,
    "start_time": "2023-08-18T20:34:10.372Z"
   },
   {
    "duration": 6,
    "start_time": "2023-08-18T20:34:18.856Z"
   },
   {
    "duration": 6,
    "start_time": "2023-08-18T20:35:25.121Z"
   },
   {
    "duration": 101,
    "start_time": "2023-08-18T20:36:16.416Z"
   },
   {
    "duration": 13,
    "start_time": "2023-08-18T20:38:52.139Z"
   },
   {
    "duration": 6,
    "start_time": "2023-08-18T20:39:13.987Z"
   },
   {
    "duration": 5,
    "start_time": "2023-08-18T20:42:30.225Z"
   },
   {
    "duration": 4,
    "start_time": "2023-08-18T20:43:02.922Z"
   },
   {
    "duration": 7,
    "start_time": "2023-08-18T20:44:12.920Z"
   },
   {
    "duration": 8,
    "start_time": "2023-08-18T20:44:24.773Z"
   },
   {
    "duration": 6,
    "start_time": "2023-08-18T20:46:44.917Z"
   },
   {
    "duration": 3,
    "start_time": "2023-08-18T20:48:20.964Z"
   },
   {
    "duration": 11,
    "start_time": "2023-08-18T20:48:22.350Z"
   },
   {
    "duration": 18,
    "start_time": "2023-08-18T20:48:31.345Z"
   },
   {
    "duration": 6,
    "start_time": "2023-08-18T20:49:00.280Z"
   },
   {
    "duration": 6,
    "start_time": "2023-08-18T20:49:10.367Z"
   },
   {
    "duration": 6,
    "start_time": "2023-08-18T20:49:26.612Z"
   },
   {
    "duration": 5,
    "start_time": "2023-08-18T20:49:46.016Z"
   },
   {
    "duration": 85,
    "start_time": "2023-08-18T20:50:19.257Z"
   },
   {
    "duration": 4,
    "start_time": "2023-08-18T20:50:26.354Z"
   },
   {
    "duration": 3,
    "start_time": "2023-08-18T20:50:27.812Z"
   },
   {
    "duration": 6,
    "start_time": "2023-08-18T20:50:30.852Z"
   },
   {
    "duration": 7,
    "start_time": "2023-08-18T20:50:36.169Z"
   },
   {
    "duration": 4,
    "start_time": "2023-08-18T20:50:36.712Z"
   },
   {
    "duration": 5,
    "start_time": "2023-08-18T20:52:00.565Z"
   },
   {
    "duration": 5,
    "start_time": "2023-08-18T20:52:30.223Z"
   },
   {
    "duration": 20,
    "start_time": "2023-08-18T20:52:43.553Z"
   },
   {
    "duration": 13,
    "start_time": "2023-08-18T20:52:49.372Z"
   },
   {
    "duration": 10,
    "start_time": "2023-08-18T20:54:20.211Z"
   },
   {
    "duration": 10,
    "start_time": "2023-08-18T20:54:41.670Z"
   },
   {
    "duration": 6,
    "start_time": "2023-08-18T20:55:10.498Z"
   },
   {
    "duration": 3,
    "start_time": "2023-08-18T21:05:20.762Z"
   },
   {
    "duration": 2,
    "start_time": "2023-08-18T21:05:46.814Z"
   },
   {
    "duration": 4,
    "start_time": "2023-08-18T21:06:20.842Z"
   },
   {
    "duration": 5,
    "start_time": "2023-08-18T21:08:24.829Z"
   },
   {
    "duration": 3,
    "start_time": "2023-08-18T21:10:51.118Z"
   },
   {
    "duration": 3,
    "start_time": "2023-08-18T21:11:03.575Z"
   },
   {
    "duration": 4,
    "start_time": "2023-08-18T21:11:11.608Z"
   },
   {
    "duration": 6,
    "start_time": "2023-08-18T21:12:24.099Z"
   },
   {
    "duration": 4,
    "start_time": "2023-08-18T21:15:50.735Z"
   },
   {
    "duration": 5,
    "start_time": "2023-08-18T21:15:51.408Z"
   },
   {
    "duration": 3,
    "start_time": "2023-08-18T21:16:45.311Z"
   },
   {
    "duration": 2,
    "start_time": "2023-08-18T21:17:08.317Z"
   },
   {
    "duration": 5,
    "start_time": "2023-08-18T21:17:32.566Z"
   },
   {
    "duration": 5,
    "start_time": "2023-08-18T21:19:06.663Z"
   },
   {
    "duration": 4,
    "start_time": "2023-08-18T21:19:41.126Z"
   },
   {
    "duration": 5,
    "start_time": "2023-08-18T21:20:20.596Z"
   },
   {
    "duration": 4,
    "start_time": "2023-08-18T21:20:34.905Z"
   },
   {
    "duration": 10,
    "start_time": "2023-08-18T21:28:00.373Z"
   },
   {
    "duration": 3,
    "start_time": "2023-08-18T21:28:25.727Z"
   },
   {
    "duration": 5,
    "start_time": "2023-08-18T21:28:35.370Z"
   },
   {
    "duration": 4,
    "start_time": "2023-08-18T21:32:17.367Z"
   },
   {
    "duration": 5,
    "start_time": "2023-08-18T21:33:00.231Z"
   },
   {
    "duration": 78,
    "start_time": "2023-08-18T21:34:08.411Z"
   },
   {
    "duration": 3,
    "start_time": "2023-08-18T21:34:13.633Z"
   },
   {
    "duration": 4,
    "start_time": "2023-08-18T21:34:43.001Z"
   },
   {
    "duration": 3,
    "start_time": "2023-08-18T21:35:42.820Z"
   },
   {
    "duration": 4,
    "start_time": "2023-08-18T21:35:48.445Z"
   },
   {
    "duration": 3,
    "start_time": "2023-08-18T21:37:10.555Z"
   },
   {
    "duration": 5,
    "start_time": "2023-08-18T21:37:12.983Z"
   },
   {
    "duration": 5,
    "start_time": "2023-08-18T21:38:58.193Z"
   },
   {
    "duration": 4,
    "start_time": "2023-08-18T21:39:23.105Z"
   },
   {
    "duration": 4,
    "start_time": "2023-08-18T21:40:02.539Z"
   },
   {
    "duration": 3,
    "start_time": "2023-08-18T21:40:42.951Z"
   },
   {
    "duration": 4,
    "start_time": "2023-08-18T21:40:43.660Z"
   },
   {
    "duration": 3,
    "start_time": "2023-08-18T21:41:00.371Z"
   },
   {
    "duration": 4,
    "start_time": "2023-08-18T21:41:01.308Z"
   },
   {
    "duration": 4,
    "start_time": "2023-08-18T21:41:06.011Z"
   },
   {
    "duration": 4,
    "start_time": "2023-08-18T21:41:06.547Z"
   },
   {
    "duration": 3,
    "start_time": "2023-08-18T21:41:21.590Z"
   },
   {
    "duration": 4,
    "start_time": "2023-08-18T21:41:22.233Z"
   },
   {
    "duration": 4,
    "start_time": "2023-08-18T21:43:56.820Z"
   },
   {
    "duration": 4,
    "start_time": "2023-08-18T21:44:21.081Z"
   },
   {
    "duration": 10,
    "start_time": "2023-08-18T21:44:24.870Z"
   },
   {
    "duration": 1231,
    "start_time": "2023-08-18T21:44:29.227Z"
   },
   {
    "duration": 10,
    "start_time": "2023-08-18T21:44:56.161Z"
   },
   {
    "duration": 8,
    "start_time": "2023-08-18T21:45:21.565Z"
   },
   {
    "duration": 1424,
    "start_time": "2023-08-18T21:45:31.637Z"
   },
   {
    "duration": 76,
    "start_time": "2023-08-18T21:45:33.063Z"
   },
   {
    "duration": 11,
    "start_time": "2023-08-18T21:45:33.141Z"
   },
   {
    "duration": 39,
    "start_time": "2023-08-18T21:45:33.153Z"
   },
   {
    "duration": 8,
    "start_time": "2023-08-18T21:45:33.194Z"
   },
   {
    "duration": 811,
    "start_time": "2023-08-18T21:45:33.203Z"
   },
   {
    "duration": 6,
    "start_time": "2023-08-18T21:45:34.016Z"
   },
   {
    "duration": 43,
    "start_time": "2023-08-18T21:45:34.023Z"
   },
   {
    "duration": 6,
    "start_time": "2023-08-18T21:45:34.068Z"
   },
   {
    "duration": 451,
    "start_time": "2023-08-18T21:45:34.076Z"
   },
   {
    "duration": 3,
    "start_time": "2023-08-18T21:45:34.529Z"
   },
   {
    "duration": 23,
    "start_time": "2023-08-18T21:45:34.533Z"
   },
   {
    "duration": 4,
    "start_time": "2023-08-18T21:45:34.558Z"
   },
   {
    "duration": 7,
    "start_time": "2023-08-18T21:45:34.564Z"
   },
   {
    "duration": 9,
    "start_time": "2023-08-18T21:45:34.658Z"
   },
   {
    "duration": 11,
    "start_time": "2023-08-18T21:45:34.669Z"
   },
   {
    "duration": 174,
    "start_time": "2023-08-18T21:45:34.682Z"
   },
   {
    "duration": 9,
    "start_time": "2023-08-18T21:46:51.146Z"
   },
   {
    "duration": 1443,
    "start_time": "2023-08-18T21:47:22.730Z"
   },
   {
    "duration": 72,
    "start_time": "2023-08-18T21:47:24.174Z"
   },
   {
    "duration": 12,
    "start_time": "2023-08-18T21:47:24.248Z"
   },
   {
    "duration": 41,
    "start_time": "2023-08-18T21:47:24.262Z"
   },
   {
    "duration": 3,
    "start_time": "2023-08-18T21:47:24.305Z"
   },
   {
    "duration": 802,
    "start_time": "2023-08-18T21:47:24.310Z"
   },
   {
    "duration": 6,
    "start_time": "2023-08-18T21:47:25.114Z"
   },
   {
    "duration": 41,
    "start_time": "2023-08-18T21:47:25.121Z"
   },
   {
    "duration": 6,
    "start_time": "2023-08-18T21:47:25.164Z"
   },
   {
    "duration": 446,
    "start_time": "2023-08-18T21:47:25.172Z"
   },
   {
    "duration": 3,
    "start_time": "2023-08-18T21:47:25.620Z"
   },
   {
    "duration": 33,
    "start_time": "2023-08-18T21:47:25.625Z"
   },
   {
    "duration": 3,
    "start_time": "2023-08-18T21:47:25.660Z"
   },
   {
    "duration": 5,
    "start_time": "2023-08-18T21:47:25.665Z"
   },
   {
    "duration": 9,
    "start_time": "2023-08-18T21:47:25.757Z"
   },
   {
    "duration": 10,
    "start_time": "2023-08-18T21:47:25.767Z"
   },
   {
    "duration": 125,
    "start_time": "2023-08-18T21:47:25.779Z"
   },
   {
    "duration": 3,
    "start_time": "2023-08-18T21:56:09.494Z"
   },
   {
    "duration": 6,
    "start_time": "2023-08-18T21:56:10.088Z"
   },
   {
    "duration": 11,
    "start_time": "2023-08-18T21:56:11.220Z"
   },
   {
    "duration": 7,
    "start_time": "2023-08-18T21:57:14.542Z"
   },
   {
    "duration": 11,
    "start_time": "2023-08-18T21:57:14.842Z"
   },
   {
    "duration": 25,
    "start_time": "2023-08-18T22:02:44.039Z"
   },
   {
    "duration": 2,
    "start_time": "2023-08-18T22:03:02.318Z"
   },
   {
    "duration": 13,
    "start_time": "2023-08-18T22:04:11.893Z"
   },
   {
    "duration": 2,
    "start_time": "2023-08-18T22:04:39.665Z"
   },
   {
    "duration": 12,
    "start_time": "2023-08-18T22:07:46.739Z"
   },
   {
    "duration": 7,
    "start_time": "2023-08-18T22:09:45.306Z"
   },
   {
    "duration": 6,
    "start_time": "2023-08-18T22:09:59.314Z"
   },
   {
    "duration": 10,
    "start_time": "2023-08-18T22:10:56.494Z"
   },
   {
    "duration": 11,
    "start_time": "2023-08-18T22:13:25.213Z"
   },
   {
    "duration": 12,
    "start_time": "2023-08-18T22:13:33.241Z"
   },
   {
    "duration": 11,
    "start_time": "2023-08-18T22:15:20.717Z"
   },
   {
    "duration": 18,
    "start_time": "2023-08-18T22:36:35.518Z"
   },
   {
    "duration": 18,
    "start_time": "2023-08-18T22:37:24.791Z"
   },
   {
    "duration": 19,
    "start_time": "2023-08-18T22:37:37.064Z"
   },
   {
    "duration": 15,
    "start_time": "2023-08-18T22:38:34.308Z"
   },
   {
    "duration": 17,
    "start_time": "2023-08-18T22:39:02.637Z"
   },
   {
    "duration": 10,
    "start_time": "2023-08-18T22:39:14.047Z"
   },
   {
    "duration": 9,
    "start_time": "2023-08-18T22:39:14.878Z"
   },
   {
    "duration": 12,
    "start_time": "2023-08-18T22:39:50.806Z"
   },
   {
    "duration": 3,
    "start_time": "2023-08-18T22:54:19.510Z"
   },
   {
    "duration": 9,
    "start_time": "2023-08-18T23:12:33.410Z"
   },
   {
    "duration": 3,
    "start_time": "2023-08-18T23:12:38.201Z"
   },
   {
    "duration": 17,
    "start_time": "2023-08-18T23:12:38.988Z"
   },
   {
    "duration": 4,
    "start_time": "2023-08-18T23:13:11.302Z"
   },
   {
    "duration": 10,
    "start_time": "2023-08-18T23:13:11.801Z"
   },
   {
    "duration": 17,
    "start_time": "2023-08-18T23:14:15.892Z"
   },
   {
    "duration": 18,
    "start_time": "2023-08-18T23:15:00.054Z"
   },
   {
    "duration": 19,
    "start_time": "2023-08-18T23:15:11.161Z"
   },
   {
    "duration": 10,
    "start_time": "2023-08-18T23:27:48.979Z"
   },
   {
    "duration": 4,
    "start_time": "2023-08-18T23:27:51.079Z"
   },
   {
    "duration": 4,
    "start_time": "2023-08-18T23:27:51.801Z"
   },
   {
    "duration": 10,
    "start_time": "2023-08-18T23:27:52.338Z"
   },
   {
    "duration": 6,
    "start_time": "2023-08-18T23:28:58.764Z"
   },
   {
    "duration": 3,
    "start_time": "2023-08-18T23:28:59.963Z"
   },
   {
    "duration": 5,
    "start_time": "2023-08-18T23:29:00.598Z"
   },
   {
    "duration": 3,
    "start_time": "2023-08-18T23:29:23.958Z"
   },
   {
    "duration": 3,
    "start_time": "2023-08-18T23:29:25.202Z"
   },
   {
    "duration": 10,
    "start_time": "2023-08-18T23:29:34.311Z"
   },
   {
    "duration": 1343,
    "start_time": "2023-08-18T23:30:54.985Z"
   },
   {
    "duration": 75,
    "start_time": "2023-08-18T23:30:56.330Z"
   },
   {
    "duration": 3,
    "start_time": "2023-08-18T23:30:56.407Z"
   },
   {
    "duration": 23,
    "start_time": "2023-08-18T23:30:56.411Z"
   },
   {
    "duration": 25,
    "start_time": "2023-08-18T23:30:56.436Z"
   },
   {
    "duration": 3,
    "start_time": "2023-08-18T23:30:56.462Z"
   },
   {
    "duration": 724,
    "start_time": "2023-08-18T23:30:56.466Z"
   },
   {
    "duration": 6,
    "start_time": "2023-08-18T23:30:57.191Z"
   },
   {
    "duration": 45,
    "start_time": "2023-08-18T23:30:57.198Z"
   },
   {
    "duration": 11,
    "start_time": "2023-08-18T23:30:57.245Z"
   },
   {
    "duration": 444,
    "start_time": "2023-08-18T23:30:57.258Z"
   },
   {
    "duration": 4,
    "start_time": "2023-08-18T23:30:57.703Z"
   },
   {
    "duration": 17,
    "start_time": "2023-08-18T23:30:57.709Z"
   },
   {
    "duration": 5,
    "start_time": "2023-08-18T23:30:57.727Z"
   },
   {
    "duration": 23,
    "start_time": "2023-08-18T23:30:57.733Z"
   },
   {
    "duration": 13,
    "start_time": "2023-08-18T23:30:57.758Z"
   },
   {
    "duration": 6,
    "start_time": "2023-08-18T23:30:57.773Z"
   },
   {
    "duration": 76,
    "start_time": "2023-08-18T23:30:57.781Z"
   },
   {
    "duration": 8,
    "start_time": "2023-08-18T23:30:57.859Z"
   },
   {
    "duration": 92,
    "start_time": "2023-08-18T23:30:57.869Z"
   },
   {
    "duration": 33,
    "start_time": "2023-08-18T23:30:57.963Z"
   },
   {
    "duration": 16,
    "start_time": "2023-08-18T23:30:57.998Z"
   },
   {
    "duration": 34,
    "start_time": "2023-08-18T23:30:58.016Z"
   },
   {
    "duration": 1586,
    "start_time": "2023-08-19T11:17:24.639Z"
   },
   {
    "duration": 167,
    "start_time": "2023-08-19T11:17:26.227Z"
   },
   {
    "duration": 3,
    "start_time": "2023-08-19T11:17:26.396Z"
   },
   {
    "duration": 49,
    "start_time": "2023-08-19T11:17:26.401Z"
   },
   {
    "duration": 29,
    "start_time": "2023-08-19T11:17:26.452Z"
   },
   {
    "duration": 2,
    "start_time": "2023-08-19T11:17:26.483Z"
   },
   {
    "duration": 832,
    "start_time": "2023-08-19T11:17:26.487Z"
   },
   {
    "duration": 5,
    "start_time": "2023-08-19T11:17:27.321Z"
   },
   {
    "duration": 41,
    "start_time": "2023-08-19T11:17:27.328Z"
   },
   {
    "duration": 6,
    "start_time": "2023-08-19T11:17:27.372Z"
   },
   {
    "duration": 483,
    "start_time": "2023-08-19T11:17:27.379Z"
   },
   {
    "duration": 115,
    "start_time": "2023-08-19T11:17:27.864Z"
   },
   {
    "duration": 0,
    "start_time": "2023-08-19T11:17:27.981Z"
   },
   {
    "duration": 0,
    "start_time": "2023-08-19T11:17:27.982Z"
   },
   {
    "duration": 0,
    "start_time": "2023-08-19T11:17:27.983Z"
   },
   {
    "duration": 0,
    "start_time": "2023-08-19T11:17:27.984Z"
   },
   {
    "duration": 0,
    "start_time": "2023-08-19T11:17:27.985Z"
   },
   {
    "duration": 0,
    "start_time": "2023-08-19T11:17:27.986Z"
   },
   {
    "duration": 0,
    "start_time": "2023-08-19T11:17:27.987Z"
   },
   {
    "duration": 0,
    "start_time": "2023-08-19T11:17:27.988Z"
   },
   {
    "duration": 0,
    "start_time": "2023-08-19T11:17:27.989Z"
   },
   {
    "duration": 5,
    "start_time": "2023-08-19T11:17:39.152Z"
   },
   {
    "duration": 5,
    "start_time": "2023-08-19T11:17:40.368Z"
   },
   {
    "duration": 5,
    "start_time": "2023-08-19T11:17:40.660Z"
   },
   {
    "duration": 3,
    "start_time": "2023-08-19T11:17:41.835Z"
   },
   {
    "duration": 16,
    "start_time": "2023-08-19T11:17:42.271Z"
   },
   {
    "duration": 6,
    "start_time": "2023-08-19T11:17:42.616Z"
   },
   {
    "duration": 4,
    "start_time": "2023-08-19T11:17:43.458Z"
   },
   {
    "duration": 5,
    "start_time": "2023-08-19T11:17:43.698Z"
   },
   {
    "duration": 15,
    "start_time": "2023-08-19T11:17:43.890Z"
   },
   {
    "duration": 19,
    "start_time": "2023-08-19T11:24:06.043Z"
   },
   {
    "duration": 5,
    "start_time": "2023-08-19T11:24:09.059Z"
   },
   {
    "duration": 4,
    "start_time": "2023-08-19T11:24:09.754Z"
   },
   {
    "duration": 10,
    "start_time": "2023-08-19T11:24:10.112Z"
   },
   {
    "duration": 6,
    "start_time": "2023-08-19T11:26:05.604Z"
   },
   {
    "duration": 3,
    "start_time": "2023-08-19T11:26:07.304Z"
   },
   {
    "duration": 4,
    "start_time": "2023-08-19T11:30:33.443Z"
   },
   {
    "duration": 4,
    "start_time": "2023-08-19T11:31:43.984Z"
   },
   {
    "duration": 10,
    "start_time": "2023-08-19T11:31:45.731Z"
   },
   {
    "duration": 13,
    "start_time": "2023-08-19T11:35:34.267Z"
   },
   {
    "duration": 10,
    "start_time": "2023-08-19T11:35:40.484Z"
   },
   {
    "duration": 13,
    "start_time": "2023-08-19T11:35:51.327Z"
   },
   {
    "duration": 4,
    "start_time": "2023-08-19T11:35:55.127Z"
   },
   {
    "duration": 1376,
    "start_time": "2023-08-19T11:36:02.513Z"
   },
   {
    "duration": 70,
    "start_time": "2023-08-19T11:36:03.891Z"
   },
   {
    "duration": 3,
    "start_time": "2023-08-19T11:36:03.963Z"
   },
   {
    "duration": 16,
    "start_time": "2023-08-19T11:36:03.968Z"
   },
   {
    "duration": 27,
    "start_time": "2023-08-19T11:36:03.986Z"
   },
   {
    "duration": 3,
    "start_time": "2023-08-19T11:36:04.014Z"
   },
   {
    "duration": 890,
    "start_time": "2023-08-19T11:36:04.019Z"
   },
   {
    "duration": 6,
    "start_time": "2023-08-19T11:36:04.911Z"
   },
   {
    "duration": 52,
    "start_time": "2023-08-19T11:36:04.918Z"
   },
   {
    "duration": 7,
    "start_time": "2023-08-19T11:36:04.972Z"
   },
   {
    "duration": 482,
    "start_time": "2023-08-19T11:36:04.980Z"
   },
   {
    "duration": 14,
    "start_time": "2023-08-19T11:36:05.464Z"
   },
   {
    "duration": 5,
    "start_time": "2023-08-19T11:36:05.480Z"
   },
   {
    "duration": 39,
    "start_time": "2023-08-19T11:36:05.486Z"
   },
   {
    "duration": 22,
    "start_time": "2023-08-19T11:36:05.527Z"
   },
   {
    "duration": 6,
    "start_time": "2023-08-19T11:36:05.551Z"
   },
   {
    "duration": 8,
    "start_time": "2023-08-19T11:36:05.558Z"
   },
   {
    "duration": 6,
    "start_time": "2023-08-19T11:36:05.568Z"
   },
   {
    "duration": 92,
    "start_time": "2023-08-19T11:36:05.576Z"
   },
   {
    "duration": 4,
    "start_time": "2023-08-19T11:36:05.670Z"
   },
   {
    "duration": 12,
    "start_time": "2023-08-19T11:38:19.718Z"
   },
   {
    "duration": 11,
    "start_time": "2023-08-19T11:38:22.813Z"
   },
   {
    "duration": 1413,
    "start_time": "2023-08-19T11:38:35.708Z"
   },
   {
    "duration": 74,
    "start_time": "2023-08-19T11:38:37.123Z"
   },
   {
    "duration": 3,
    "start_time": "2023-08-19T11:38:37.199Z"
   },
   {
    "duration": 20,
    "start_time": "2023-08-19T11:38:37.203Z"
   },
   {
    "duration": 27,
    "start_time": "2023-08-19T11:38:37.226Z"
   },
   {
    "duration": 4,
    "start_time": "2023-08-19T11:38:37.254Z"
   },
   {
    "duration": 807,
    "start_time": "2023-08-19T11:38:37.259Z"
   },
   {
    "duration": 7,
    "start_time": "2023-08-19T11:38:38.068Z"
   },
   {
    "duration": 36,
    "start_time": "2023-08-19T11:38:38.076Z"
   },
   {
    "duration": 5,
    "start_time": "2023-08-19T11:38:38.114Z"
   },
   {
    "duration": 498,
    "start_time": "2023-08-19T11:38:38.121Z"
   },
   {
    "duration": 16,
    "start_time": "2023-08-19T11:38:38.621Z"
   },
   {
    "duration": 5,
    "start_time": "2023-08-19T11:38:38.639Z"
   },
   {
    "duration": 3,
    "start_time": "2023-08-19T11:38:38.661Z"
   },
   {
    "duration": 13,
    "start_time": "2023-08-19T11:38:38.666Z"
   },
   {
    "duration": 6,
    "start_time": "2023-08-19T11:38:38.680Z"
   },
   {
    "duration": 6,
    "start_time": "2023-08-19T11:38:38.688Z"
   },
   {
    "duration": 8,
    "start_time": "2023-08-19T11:38:38.760Z"
   },
   {
    "duration": 95,
    "start_time": "2023-08-19T11:38:38.769Z"
   },
   {
    "duration": 497,
    "start_time": "2023-08-19T11:41:09.260Z"
   },
   {
    "duration": 10,
    "start_time": "2023-08-19T11:41:56.311Z"
   },
   {
    "duration": 10,
    "start_time": "2023-08-19T11:42:07.783Z"
   },
   {
    "duration": 1462,
    "start_time": "2023-08-19T11:43:46.540Z"
   },
   {
    "duration": 67,
    "start_time": "2023-08-19T11:43:48.004Z"
   },
   {
    "duration": 3,
    "start_time": "2023-08-19T11:43:48.073Z"
   },
   {
    "duration": 19,
    "start_time": "2023-08-19T11:43:48.078Z"
   },
   {
    "duration": 27,
    "start_time": "2023-08-19T11:43:48.099Z"
   },
   {
    "duration": 4,
    "start_time": "2023-08-19T11:43:48.127Z"
   },
   {
    "duration": 818,
    "start_time": "2023-08-19T11:43:48.132Z"
   },
   {
    "duration": 10,
    "start_time": "2023-08-19T11:43:48.952Z"
   },
   {
    "duration": 34,
    "start_time": "2023-08-19T11:43:48.963Z"
   },
   {
    "duration": 6,
    "start_time": "2023-08-19T11:43:48.999Z"
   },
   {
    "duration": 506,
    "start_time": "2023-08-19T11:43:49.007Z"
   },
   {
    "duration": 17,
    "start_time": "2023-08-19T11:43:49.515Z"
   },
   {
    "duration": 5,
    "start_time": "2023-08-19T11:43:49.534Z"
   },
   {
    "duration": 5,
    "start_time": "2023-08-19T11:43:49.558Z"
   },
   {
    "duration": 18,
    "start_time": "2023-08-19T11:43:49.565Z"
   },
   {
    "duration": 15,
    "start_time": "2023-08-19T11:43:49.585Z"
   },
   {
    "duration": 59,
    "start_time": "2023-08-19T11:43:49.602Z"
   },
   {
    "duration": 97,
    "start_time": "2023-08-19T11:43:49.663Z"
   },
   {
    "duration": 11,
    "start_time": "2023-08-19T11:43:49.761Z"
   },
   {
    "duration": 9,
    "start_time": "2023-08-19T11:43:49.773Z"
   },
   {
    "duration": 19,
    "start_time": "2023-08-19T11:43:49.783Z"
   },
   {
    "duration": 1460,
    "start_time": "2023-08-19T11:44:20.934Z"
   },
   {
    "duration": 70,
    "start_time": "2023-08-19T11:44:22.396Z"
   },
   {
    "duration": 2,
    "start_time": "2023-08-19T11:44:22.468Z"
   },
   {
    "duration": 16,
    "start_time": "2023-08-19T11:44:22.472Z"
   },
   {
    "duration": 26,
    "start_time": "2023-08-19T11:44:22.490Z"
   },
   {
    "duration": 3,
    "start_time": "2023-08-19T11:44:22.517Z"
   },
   {
    "duration": 819,
    "start_time": "2023-08-19T11:44:22.521Z"
   },
   {
    "duration": 5,
    "start_time": "2023-08-19T11:44:23.342Z"
   },
   {
    "duration": 41,
    "start_time": "2023-08-19T11:44:23.349Z"
   },
   {
    "duration": 6,
    "start_time": "2023-08-19T11:44:23.393Z"
   },
   {
    "duration": 461,
    "start_time": "2023-08-19T11:44:23.401Z"
   },
   {
    "duration": 4,
    "start_time": "2023-08-19T11:44:23.864Z"
   },
   {
    "duration": 5,
    "start_time": "2023-08-19T11:44:23.869Z"
   },
   {
    "duration": 4,
    "start_time": "2023-08-19T11:44:23.876Z"
   },
   {
    "duration": 12,
    "start_time": "2023-08-19T11:44:23.881Z"
   },
   {
    "duration": 5,
    "start_time": "2023-08-19T11:44:23.895Z"
   },
   {
    "duration": 58,
    "start_time": "2023-08-19T11:44:23.902Z"
   },
   {
    "duration": 13,
    "start_time": "2023-08-19T11:44:23.962Z"
   },
   {
    "duration": 93,
    "start_time": "2023-08-19T11:44:23.977Z"
   },
   {
    "duration": 8,
    "start_time": "2023-08-19T11:44:24.071Z"
   },
   {
    "duration": 9,
    "start_time": "2023-08-19T11:44:24.081Z"
   },
   {
    "duration": 1769,
    "start_time": "2023-08-19T11:53:52.941Z"
   },
   {
    "duration": 87,
    "start_time": "2023-08-19T11:53:54.712Z"
   },
   {
    "duration": 3,
    "start_time": "2023-08-19T11:53:54.801Z"
   },
   {
    "duration": 22,
    "start_time": "2023-08-19T11:53:54.806Z"
   },
   {
    "duration": 30,
    "start_time": "2023-08-19T11:53:54.830Z"
   },
   {
    "duration": 3,
    "start_time": "2023-08-19T11:53:54.861Z"
   },
   {
    "duration": 831,
    "start_time": "2023-08-19T11:53:54.865Z"
   },
   {
    "duration": 6,
    "start_time": "2023-08-19T11:53:55.697Z"
   },
   {
    "duration": 63,
    "start_time": "2023-08-19T11:53:55.704Z"
   },
   {
    "duration": 4,
    "start_time": "2023-08-19T11:53:55.770Z"
   },
   {
    "duration": 458,
    "start_time": "2023-08-19T11:53:55.775Z"
   },
   {
    "duration": 4,
    "start_time": "2023-08-19T11:53:56.235Z"
   },
   {
    "duration": 6,
    "start_time": "2023-08-19T11:53:56.240Z"
   },
   {
    "duration": 3,
    "start_time": "2023-08-19T11:53:56.260Z"
   },
   {
    "duration": 15,
    "start_time": "2023-08-19T11:53:56.265Z"
   },
   {
    "duration": 5,
    "start_time": "2023-08-19T11:53:56.281Z"
   },
   {
    "duration": 7,
    "start_time": "2023-08-19T11:53:56.288Z"
   },
   {
    "duration": 63,
    "start_time": "2023-08-19T11:53:56.296Z"
   },
   {
    "duration": 11,
    "start_time": "2023-08-19T11:53:56.361Z"
   },
   {
    "duration": 87,
    "start_time": "2023-08-19T11:53:56.374Z"
   },
   {
    "duration": 22,
    "start_time": "2023-08-19T11:53:56.463Z"
   },
   {
    "duration": 1123,
    "start_time": "2023-08-19T11:55:14.486Z"
   },
   {
    "duration": 7,
    "start_time": "2023-08-19T11:56:08.771Z"
   },
   {
    "duration": 11,
    "start_time": "2023-08-19T11:56:09.861Z"
   },
   {
    "duration": 116,
    "start_time": "2023-08-19T11:58:30.372Z"
   },
   {
    "duration": 13,
    "start_time": "2023-08-19T11:58:48.814Z"
   },
   {
    "duration": 12,
    "start_time": "2023-08-19T11:59:17.739Z"
   },
   {
    "duration": 16,
    "start_time": "2023-08-19T12:01:33.499Z"
   },
   {
    "duration": 15,
    "start_time": "2023-08-19T12:02:02.761Z"
   },
   {
    "duration": 14,
    "start_time": "2023-08-19T12:02:46.295Z"
   },
   {
    "duration": 5,
    "start_time": "2023-08-19T12:30:54.074Z"
   },
   {
    "duration": 7,
    "start_time": "2023-08-19T12:56:32.389Z"
   },
   {
    "duration": 2471,
    "start_time": "2023-08-19T14:06:32.695Z"
   },
   {
    "duration": 101,
    "start_time": "2023-08-19T14:06:35.168Z"
   },
   {
    "duration": 3,
    "start_time": "2023-08-19T14:06:35.272Z"
   },
   {
    "duration": 38,
    "start_time": "2023-08-19T14:06:35.277Z"
   },
   {
    "duration": 36,
    "start_time": "2023-08-19T14:06:35.317Z"
   },
   {
    "duration": 3,
    "start_time": "2023-08-19T14:06:35.355Z"
   },
   {
    "duration": 1069,
    "start_time": "2023-08-19T14:06:35.360Z"
   },
   {
    "duration": 8,
    "start_time": "2023-08-19T14:06:36.430Z"
   },
   {
    "duration": 56,
    "start_time": "2023-08-19T14:06:36.441Z"
   },
   {
    "duration": 7,
    "start_time": "2023-08-19T14:06:36.501Z"
   },
   {
    "duration": 30,
    "start_time": "2023-08-19T14:06:36.510Z"
   },
   {
    "duration": 546,
    "start_time": "2023-08-19T14:06:36.541Z"
   },
   {
    "duration": 4,
    "start_time": "2023-08-19T14:06:37.089Z"
   },
   {
    "duration": 8,
    "start_time": "2023-08-19T14:06:37.094Z"
   },
   {
    "duration": 13,
    "start_time": "2023-08-19T14:06:37.104Z"
   },
   {
    "duration": 24,
    "start_time": "2023-08-19T14:06:37.119Z"
   },
   {
    "duration": 16,
    "start_time": "2023-08-19T14:06:37.150Z"
   },
   {
    "duration": 15,
    "start_time": "2023-08-19T14:06:37.168Z"
   },
   {
    "duration": 68,
    "start_time": "2023-08-19T14:06:37.185Z"
   },
   {
    "duration": 27,
    "start_time": "2023-08-19T14:06:37.259Z"
   },
   {
    "duration": 63,
    "start_time": "2023-08-19T14:06:37.288Z"
   },
   {
    "duration": 24,
    "start_time": "2023-08-19T14:06:37.353Z"
   },
   {
    "duration": 47,
    "start_time": "2023-08-19T16:45:47.535Z"
   },
   {
    "duration": 1623,
    "start_time": "2023-08-19T16:45:57.119Z"
   },
   {
    "duration": 4,
    "start_time": "2023-08-19T16:46:05.282Z"
   },
   {
    "duration": 5,
    "start_time": "2023-08-19T16:46:26.754Z"
   },
   {
    "duration": 2180,
    "start_time": "2023-08-19T18:19:58.857Z"
   },
   {
    "duration": 117,
    "start_time": "2023-08-19T18:20:01.039Z"
   },
   {
    "duration": 2,
    "start_time": "2023-08-19T18:20:01.158Z"
   },
   {
    "duration": 40,
    "start_time": "2023-08-19T18:20:01.162Z"
   },
   {
    "duration": 78,
    "start_time": "2023-08-19T18:20:01.203Z"
   },
   {
    "duration": 32,
    "start_time": "2023-08-19T18:20:01.282Z"
   },
   {
    "duration": 792,
    "start_time": "2023-08-19T18:20:01.316Z"
   },
   {
    "duration": 6,
    "start_time": "2023-08-19T18:20:02.109Z"
   },
   {
    "duration": 98,
    "start_time": "2023-08-19T18:20:02.116Z"
   },
   {
    "duration": 7,
    "start_time": "2023-08-19T18:20:02.218Z"
   },
   {
    "duration": 53,
    "start_time": "2023-08-19T18:20:02.228Z"
   },
   {
    "duration": 51,
    "start_time": "2023-08-19T18:20:02.282Z"
   },
   {
    "duration": 65,
    "start_time": "2023-08-19T18:20:02.335Z"
   },
   {
    "duration": 31,
    "start_time": "2023-08-19T18:20:02.402Z"
   },
   {
    "duration": 38,
    "start_time": "2023-08-19T18:20:02.435Z"
   },
   {
    "duration": 321,
    "start_time": "2023-08-19T18:20:02.475Z"
   },
   {
    "duration": 3,
    "start_time": "2023-08-19T18:20:02.798Z"
   },
   {
    "duration": 14,
    "start_time": "2023-08-19T18:20:02.802Z"
   },
   {
    "duration": 18,
    "start_time": "2023-08-19T18:20:02.818Z"
   },
   {
    "duration": 16,
    "start_time": "2023-08-19T18:20:02.837Z"
   },
   {
    "duration": 22,
    "start_time": "2023-08-19T18:20:02.855Z"
   }
  ],
  "kernelspec": {
   "display_name": "Python 3 (ipykernel)",
   "language": "python",
   "name": "python3"
  },
  "language_info": {
   "codemirror_mode": {
    "name": "ipython",
    "version": 3
   },
   "file_extension": ".py",
   "mimetype": "text/x-python",
   "name": "python",
   "nbconvert_exporter": "python",
   "pygments_lexer": "ipython3",
   "version": "3.11.5"
  },
  "toc": {
   "base_numbering": 1,
   "nav_menu": {},
   "number_sections": true,
   "sideBar": true,
   "skip_h1_title": true,
   "title_cell": "Содержание",
   "title_sidebar": "Contents",
   "toc_cell": true,
   "toc_position": {},
   "toc_section_display": true,
   "toc_window_display": true
  }
 },
 "nbformat": 4,
 "nbformat_minor": 2
}
